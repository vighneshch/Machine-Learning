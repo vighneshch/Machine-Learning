{
 "cells": [
  {
   "cell_type": "code",
   "execution_count": 1,
   "id": "fce251aa-df94-483c-a3a0-0562c8ea82b8",
   "metadata": {
    "tags": []
   },
   "outputs": [],
   "source": [
    "#Importing the necessary datasets\n",
    "\n",
    "import numpy as np\n",
    "import pandas as pd\n",
    "import seaborn as sns\n",
    "import matplotlib.pyplot as plt\n",
    "\n",
    "from sklearn.preprocessing import MinMaxScaler\n",
    "from sklearn.model_selection import train_test_split,cross_val_score\n",
    "from sklearn.metrics import mean_absolute_percentage_error\n",
    "from sklearn.neighbors import KNeighborsRegressor"
   ]
  },
  {
   "cell_type": "code",
   "execution_count": 2,
   "id": "fab17f70-458f-474a-ba19-8bfe7546a34f",
   "metadata": {
    "tags": []
   },
   "outputs": [],
   "source": [
    "#Loading the dataset\n",
    "\n",
    "df = pd.read_csv('D:\\\\DataScience\\\\Term 1\\\\8.IML\\\\1.Assignments\\\\1.Assigment for midterm\\\\34 Challa Vighnesh_DataSets_input\\\\bikes.csv')"
   ]
  },
  {
   "cell_type": "code",
   "execution_count": 3,
   "id": "9face794-2950-4392-ab8c-adc0ae490adf",
   "metadata": {
    "tags": []
   },
   "outputs": [
    {
     "data": {
      "text/html": [
       "<div>\n",
       "<style scoped>\n",
       "    .dataframe tbody tr th:only-of-type {\n",
       "        vertical-align: middle;\n",
       "    }\n",
       "\n",
       "    .dataframe tbody tr th {\n",
       "        vertical-align: top;\n",
       "    }\n",
       "\n",
       "    .dataframe thead th {\n",
       "        text-align: right;\n",
       "    }\n",
       "</style>\n",
       "<table border=\"1\" class=\"dataframe\">\n",
       "  <thead>\n",
       "    <tr style=\"text-align: right;\">\n",
       "      <th></th>\n",
       "      <th>model_name</th>\n",
       "      <th>model_year</th>\n",
       "      <th>kms_driven</th>\n",
       "      <th>owner</th>\n",
       "      <th>location</th>\n",
       "      <th>mileage</th>\n",
       "      <th>power</th>\n",
       "      <th>price</th>\n",
       "    </tr>\n",
       "  </thead>\n",
       "  <tbody>\n",
       "    <tr>\n",
       "      <th>0</th>\n",
       "      <td>Bajaj Avenger Cruise 220 2017</td>\n",
       "      <td>2017</td>\n",
       "      <td>17000 Km</td>\n",
       "      <td>first owner</td>\n",
       "      <td>hyderabad</td>\n",
       "      <td>\\n\\n 35 kmpl</td>\n",
       "      <td>19 bhp</td>\n",
       "      <td>63500</td>\n",
       "    </tr>\n",
       "    <tr>\n",
       "      <th>1</th>\n",
       "      <td>Royal Enfield Classic 350cc 2016</td>\n",
       "      <td>2016</td>\n",
       "      <td>50000 Km</td>\n",
       "      <td>first owner</td>\n",
       "      <td>hyderabad</td>\n",
       "      <td>\\n\\n 35 kmpl</td>\n",
       "      <td>19.80 bhp</td>\n",
       "      <td>115000</td>\n",
       "    </tr>\n",
       "    <tr>\n",
       "      <th>2</th>\n",
       "      <td>Hyosung GT250R 2012</td>\n",
       "      <td>2012</td>\n",
       "      <td>14795 Km</td>\n",
       "      <td>first owner</td>\n",
       "      <td>hyderabad</td>\n",
       "      <td>\\n\\n 30 kmpl</td>\n",
       "      <td>28 bhp</td>\n",
       "      <td>300000</td>\n",
       "    </tr>\n",
       "    <tr>\n",
       "      <th>3</th>\n",
       "      <td>Bajaj Dominar 400 ABS 2017</td>\n",
       "      <td>2017</td>\n",
       "      <td>Mileage 28 Kms</td>\n",
       "      <td>first owner</td>\n",
       "      <td>pondicherry</td>\n",
       "      <td>\\n\\n 28 Kms</td>\n",
       "      <td>34.50 bhp</td>\n",
       "      <td>100000</td>\n",
       "    </tr>\n",
       "    <tr>\n",
       "      <th>4</th>\n",
       "      <td>Jawa Perak 330cc 2020</td>\n",
       "      <td>2020</td>\n",
       "      <td>2000 Km</td>\n",
       "      <td>first owner</td>\n",
       "      <td>bangalore</td>\n",
       "      <td>\\n\\n</td>\n",
       "      <td>30 bhp</td>\n",
       "      <td>197500</td>\n",
       "    </tr>\n",
       "  </tbody>\n",
       "</table>\n",
       "</div>"
      ],
      "text/plain": [
       "                         model_name  model_year      kms_driven        owner  \\\n",
       "0     Bajaj Avenger Cruise 220 2017        2017        17000 Km  first owner   \n",
       "1  Royal Enfield Classic 350cc 2016        2016        50000 Km  first owner   \n",
       "2               Hyosung GT250R 2012        2012        14795 Km  first owner   \n",
       "3        Bajaj Dominar 400 ABS 2017        2017  Mileage 28 Kms  first owner   \n",
       "4             Jawa Perak 330cc 2020        2020         2000 Km  first owner   \n",
       "\n",
       "      location       mileage      power   price  \n",
       "0    hyderabad  \\n\\n 35 kmpl     19 bhp   63500  \n",
       "1    hyderabad  \\n\\n 35 kmpl  19.80 bhp  115000  \n",
       "2    hyderabad  \\n\\n 30 kmpl     28 bhp  300000  \n",
       "3  pondicherry   \\n\\n 28 Kms  34.50 bhp  100000  \n",
       "4    bangalore         \\n\\n      30 bhp  197500  "
      ]
     },
     "execution_count": 3,
     "metadata": {},
     "output_type": "execute_result"
    }
   ],
   "source": [
    "df.head()"
   ]
  },
  {
   "cell_type": "code",
   "execution_count": 4,
   "id": "fc0f7654-956c-441c-ab26-ce0e58c24c73",
   "metadata": {
    "tags": []
   },
   "outputs": [
    {
     "data": {
      "text/html": [
       "<div>\n",
       "<style scoped>\n",
       "    .dataframe tbody tr th:only-of-type {\n",
       "        vertical-align: middle;\n",
       "    }\n",
       "\n",
       "    .dataframe tbody tr th {\n",
       "        vertical-align: top;\n",
       "    }\n",
       "\n",
       "    .dataframe thead th {\n",
       "        text-align: right;\n",
       "    }\n",
       "</style>\n",
       "<table border=\"1\" class=\"dataframe\">\n",
       "  <thead>\n",
       "    <tr style=\"text-align: right;\">\n",
       "      <th></th>\n",
       "      <th>model_name</th>\n",
       "      <th>model_year</th>\n",
       "      <th>kms_driven</th>\n",
       "      <th>owner</th>\n",
       "      <th>location</th>\n",
       "      <th>mileage</th>\n",
       "      <th>power</th>\n",
       "      <th>price</th>\n",
       "    </tr>\n",
       "  </thead>\n",
       "  <tbody>\n",
       "    <tr>\n",
       "      <th>7852</th>\n",
       "      <td>Yamaha YZF-R15 150cc 2011</td>\n",
       "      <td>2011</td>\n",
       "      <td>7000 Km</td>\n",
       "      <td>first owner</td>\n",
       "      <td>agra</td>\n",
       "      <td>\\n\\n 42 kmpl</td>\n",
       "      <td>16 bhp</td>\n",
       "      <td>55000</td>\n",
       "    </tr>\n",
       "    <tr>\n",
       "      <th>7853</th>\n",
       "      <td>Bajaj Discover 100cc 2015</td>\n",
       "      <td>2015</td>\n",
       "      <td>Mileage 80 Kmpl</td>\n",
       "      <td>first owner</td>\n",
       "      <td>delhi</td>\n",
       "      <td>\\n\\n 80 Kmpl</td>\n",
       "      <td>7.7</td>\n",
       "      <td>28000</td>\n",
       "    </tr>\n",
       "    <tr>\n",
       "      <th>7854</th>\n",
       "      <td>Bajaj Pulsar 180cc 2016</td>\n",
       "      <td>2016</td>\n",
       "      <td>6407 Km</td>\n",
       "      <td>first owner</td>\n",
       "      <td>bangalore</td>\n",
       "      <td>\\n\\n 65 kmpl</td>\n",
       "      <td>17 bhp</td>\n",
       "      <td>61740</td>\n",
       "    </tr>\n",
       "    <tr>\n",
       "      <th>7855</th>\n",
       "      <td>Bajaj V15 150cc 2016</td>\n",
       "      <td>2016</td>\n",
       "      <td>7524 Km</td>\n",
       "      <td>first owner</td>\n",
       "      <td>bangalore</td>\n",
       "      <td>\\n\\n 57 kmpl</td>\n",
       "      <td>11.80 bhp</td>\n",
       "      <td>49000</td>\n",
       "    </tr>\n",
       "    <tr>\n",
       "      <th>7856</th>\n",
       "      <td>Bajaj Pulsar 220cc 2016</td>\n",
       "      <td>2016</td>\n",
       "      <td>15000 Km</td>\n",
       "      <td>first owner</td>\n",
       "      <td>chennai</td>\n",
       "      <td>\\n\\n 38 kmpl</td>\n",
       "      <td>21 bhp</td>\n",
       "      <td>65000</td>\n",
       "    </tr>\n",
       "  </tbody>\n",
       "</table>\n",
       "</div>"
      ],
      "text/plain": [
       "                     model_name  model_year       kms_driven        owner  \\\n",
       "7852  Yamaha YZF-R15 150cc 2011        2011          7000 Km  first owner   \n",
       "7853  Bajaj Discover 100cc 2015        2015  Mileage 80 Kmpl  first owner   \n",
       "7854    Bajaj Pulsar 180cc 2016        2016          6407 Km  first owner   \n",
       "7855       Bajaj V15 150cc 2016        2016          7524 Km  first owner   \n",
       "7856    Bajaj Pulsar 220cc 2016        2016         15000 Km  first owner   \n",
       "\n",
       "       location       mileage      power  price  \n",
       "7852       agra  \\n\\n 42 kmpl     16 bhp  55000  \n",
       "7853      delhi  \\n\\n 80 Kmpl        7.7  28000  \n",
       "7854  bangalore  \\n\\n 65 kmpl     17 bhp  61740  \n",
       "7855  bangalore  \\n\\n 57 kmpl  11.80 bhp  49000  \n",
       "7856    chennai  \\n\\n 38 kmpl     21 bhp  65000  "
      ]
     },
     "execution_count": 4,
     "metadata": {},
     "output_type": "execute_result"
    }
   ],
   "source": [
    "df.tail()"
   ]
  },
  {
   "cell_type": "code",
   "execution_count": 5,
   "id": "7c2e004b-cfcd-4512-9da6-d1eb7fe72caf",
   "metadata": {},
   "outputs": [],
   "source": [
    "#Observations\n",
    "\n",
    "#The model is combined with the brand and presented in the single coloumn\n",
    "#In kms_driven there is absurd data related to the mileage\n",
    "#the mileage columns is alpha numeric with \\n s and similar pattern observed with the power."
   ]
  },
  {
   "cell_type": "code",
   "execution_count": 6,
   "id": "0d0955b9-c395-4222-9d9b-065dac4483a8",
   "metadata": {
    "tags": []
   },
   "outputs": [
    {
     "data": {
      "text/plain": [
       "model_name    object\n",
       "model_year     int64\n",
       "kms_driven    object\n",
       "owner         object\n",
       "location      object\n",
       "mileage       object\n",
       "power         object\n",
       "price          int64\n",
       "dtype: object"
      ]
     },
     "execution_count": 6,
     "metadata": {},
     "output_type": "execute_result"
    }
   ],
   "source": [
    "df.dtypes"
   ]
  },
  {
   "cell_type": "code",
   "execution_count": 7,
   "id": "0d0dc483-aec3-43f8-bc4a-6fddb11263b1",
   "metadata": {
    "tags": []
   },
   "outputs": [],
   "source": [
    "#Observations\n",
    "\n",
    "#The columns kms_driven,mileage,power can be expressed as numeric for better training"
   ]
  },
  {
   "cell_type": "code",
   "execution_count": 8,
   "id": "86c0779f-45ce-4740-bc46-7d21c988adb8",
   "metadata": {
    "tags": []
   },
   "outputs": [],
   "source": [
    "#Extracting the brand from model_name columns\n",
    "\n",
    "df['brand'] = df['model_name'].str.split(' ',n=-1,expand = True)[0]"
   ]
  },
  {
   "cell_type": "code",
   "execution_count": 9,
   "id": "387a3f2a-afa7-4888-b250-b00b5a729534",
   "metadata": {
    "tags": []
   },
   "outputs": [
    {
     "data": {
      "text/html": [
       "<div>\n",
       "<style scoped>\n",
       "    .dataframe tbody tr th:only-of-type {\n",
       "        vertical-align: middle;\n",
       "    }\n",
       "\n",
       "    .dataframe tbody tr th {\n",
       "        vertical-align: top;\n",
       "    }\n",
       "\n",
       "    .dataframe thead th {\n",
       "        text-align: right;\n",
       "    }\n",
       "</style>\n",
       "<table border=\"1\" class=\"dataframe\">\n",
       "  <thead>\n",
       "    <tr style=\"text-align: right;\">\n",
       "      <th></th>\n",
       "      <th>model_name</th>\n",
       "      <th>model_year</th>\n",
       "      <th>kms_driven</th>\n",
       "      <th>owner</th>\n",
       "      <th>location</th>\n",
       "      <th>mileage</th>\n",
       "      <th>power</th>\n",
       "      <th>price</th>\n",
       "      <th>brand</th>\n",
       "    </tr>\n",
       "  </thead>\n",
       "  <tbody>\n",
       "    <tr>\n",
       "      <th>0</th>\n",
       "      <td>Bajaj Avenger Cruise 220 2017</td>\n",
       "      <td>2017</td>\n",
       "      <td>17000 Km</td>\n",
       "      <td>first owner</td>\n",
       "      <td>hyderabad</td>\n",
       "      <td>\\n\\n 35 kmpl</td>\n",
       "      <td>19 bhp</td>\n",
       "      <td>63500</td>\n",
       "      <td>Bajaj</td>\n",
       "    </tr>\n",
       "    <tr>\n",
       "      <th>1</th>\n",
       "      <td>Royal Enfield Classic 350cc 2016</td>\n",
       "      <td>2016</td>\n",
       "      <td>50000 Km</td>\n",
       "      <td>first owner</td>\n",
       "      <td>hyderabad</td>\n",
       "      <td>\\n\\n 35 kmpl</td>\n",
       "      <td>19.80 bhp</td>\n",
       "      <td>115000</td>\n",
       "      <td>Royal</td>\n",
       "    </tr>\n",
       "    <tr>\n",
       "      <th>2</th>\n",
       "      <td>Hyosung GT250R 2012</td>\n",
       "      <td>2012</td>\n",
       "      <td>14795 Km</td>\n",
       "      <td>first owner</td>\n",
       "      <td>hyderabad</td>\n",
       "      <td>\\n\\n 30 kmpl</td>\n",
       "      <td>28 bhp</td>\n",
       "      <td>300000</td>\n",
       "      <td>Hyosung</td>\n",
       "    </tr>\n",
       "    <tr>\n",
       "      <th>3</th>\n",
       "      <td>Bajaj Dominar 400 ABS 2017</td>\n",
       "      <td>2017</td>\n",
       "      <td>Mileage 28 Kms</td>\n",
       "      <td>first owner</td>\n",
       "      <td>pondicherry</td>\n",
       "      <td>\\n\\n 28 Kms</td>\n",
       "      <td>34.50 bhp</td>\n",
       "      <td>100000</td>\n",
       "      <td>Bajaj</td>\n",
       "    </tr>\n",
       "    <tr>\n",
       "      <th>4</th>\n",
       "      <td>Jawa Perak 330cc 2020</td>\n",
       "      <td>2020</td>\n",
       "      <td>2000 Km</td>\n",
       "      <td>first owner</td>\n",
       "      <td>bangalore</td>\n",
       "      <td>\\n\\n</td>\n",
       "      <td>30 bhp</td>\n",
       "      <td>197500</td>\n",
       "      <td>Jawa</td>\n",
       "    </tr>\n",
       "  </tbody>\n",
       "</table>\n",
       "</div>"
      ],
      "text/plain": [
       "                         model_name  model_year      kms_driven        owner  \\\n",
       "0     Bajaj Avenger Cruise 220 2017        2017        17000 Km  first owner   \n",
       "1  Royal Enfield Classic 350cc 2016        2016        50000 Km  first owner   \n",
       "2               Hyosung GT250R 2012        2012        14795 Km  first owner   \n",
       "3        Bajaj Dominar 400 ABS 2017        2017  Mileage 28 Kms  first owner   \n",
       "4             Jawa Perak 330cc 2020        2020         2000 Km  first owner   \n",
       "\n",
       "      location       mileage      power   price    brand  \n",
       "0    hyderabad  \\n\\n 35 kmpl     19 bhp   63500    Bajaj  \n",
       "1    hyderabad  \\n\\n 35 kmpl  19.80 bhp  115000    Royal  \n",
       "2    hyderabad  \\n\\n 30 kmpl     28 bhp  300000  Hyosung  \n",
       "3  pondicherry   \\n\\n 28 Kms  34.50 bhp  100000    Bajaj  \n",
       "4    bangalore         \\n\\n      30 bhp  197500     Jawa  "
      ]
     },
     "execution_count": 9,
     "metadata": {},
     "output_type": "execute_result"
    }
   ],
   "source": [
    "df.head()"
   ]
  },
  {
   "cell_type": "code",
   "execution_count": 10,
   "id": "d825a07e-d156-4430-bb6b-03bebecb78b4",
   "metadata": {
    "tags": []
   },
   "outputs": [],
   "source": [
    "#extracting the power from alpha numeric power columns\n",
    "\n",
    "df['power']=df['power'].str.split(' ',n=-1,expand = True)[0]"
   ]
  },
  {
   "cell_type": "code",
   "execution_count": 11,
   "id": "2f95326d-0136-4dfc-ad80-01bde779f66e",
   "metadata": {
    "tags": []
   },
   "outputs": [],
   "source": [
    "#Converting to numeric\n",
    "df['power'] = pd.to_numeric(df['power'],errors = 'coerce')"
   ]
  },
  {
   "cell_type": "code",
   "execution_count": 12,
   "id": "b8a71ff5-2c17-4c98-9158-b1981db90ec9",
   "metadata": {
    "tags": []
   },
   "outputs": [
    {
     "data": {
      "text/html": [
       "<div>\n",
       "<style scoped>\n",
       "    .dataframe tbody tr th:only-of-type {\n",
       "        vertical-align: middle;\n",
       "    }\n",
       "\n",
       "    .dataframe tbody tr th {\n",
       "        vertical-align: top;\n",
       "    }\n",
       "\n",
       "    .dataframe thead th {\n",
       "        text-align: right;\n",
       "    }\n",
       "</style>\n",
       "<table border=\"1\" class=\"dataframe\">\n",
       "  <thead>\n",
       "    <tr style=\"text-align: right;\">\n",
       "      <th></th>\n",
       "      <th>model_name</th>\n",
       "      <th>model_year</th>\n",
       "      <th>kms_driven</th>\n",
       "      <th>owner</th>\n",
       "      <th>location</th>\n",
       "      <th>mileage</th>\n",
       "      <th>power</th>\n",
       "      <th>price</th>\n",
       "      <th>brand</th>\n",
       "    </tr>\n",
       "  </thead>\n",
       "  <tbody>\n",
       "    <tr>\n",
       "      <th>0</th>\n",
       "      <td>Bajaj Avenger Cruise 220 2017</td>\n",
       "      <td>2017</td>\n",
       "      <td>17000 Km</td>\n",
       "      <td>first owner</td>\n",
       "      <td>hyderabad</td>\n",
       "      <td>\\n\\n 35 kmpl</td>\n",
       "      <td>19.0</td>\n",
       "      <td>63500</td>\n",
       "      <td>Bajaj</td>\n",
       "    </tr>\n",
       "    <tr>\n",
       "      <th>1</th>\n",
       "      <td>Royal Enfield Classic 350cc 2016</td>\n",
       "      <td>2016</td>\n",
       "      <td>50000 Km</td>\n",
       "      <td>first owner</td>\n",
       "      <td>hyderabad</td>\n",
       "      <td>\\n\\n 35 kmpl</td>\n",
       "      <td>19.8</td>\n",
       "      <td>115000</td>\n",
       "      <td>Royal</td>\n",
       "    </tr>\n",
       "    <tr>\n",
       "      <th>2</th>\n",
       "      <td>Hyosung GT250R 2012</td>\n",
       "      <td>2012</td>\n",
       "      <td>14795 Km</td>\n",
       "      <td>first owner</td>\n",
       "      <td>hyderabad</td>\n",
       "      <td>\\n\\n 30 kmpl</td>\n",
       "      <td>28.0</td>\n",
       "      <td>300000</td>\n",
       "      <td>Hyosung</td>\n",
       "    </tr>\n",
       "    <tr>\n",
       "      <th>3</th>\n",
       "      <td>Bajaj Dominar 400 ABS 2017</td>\n",
       "      <td>2017</td>\n",
       "      <td>Mileage 28 Kms</td>\n",
       "      <td>first owner</td>\n",
       "      <td>pondicherry</td>\n",
       "      <td>\\n\\n 28 Kms</td>\n",
       "      <td>34.5</td>\n",
       "      <td>100000</td>\n",
       "      <td>Bajaj</td>\n",
       "    </tr>\n",
       "    <tr>\n",
       "      <th>4</th>\n",
       "      <td>Jawa Perak 330cc 2020</td>\n",
       "      <td>2020</td>\n",
       "      <td>2000 Km</td>\n",
       "      <td>first owner</td>\n",
       "      <td>bangalore</td>\n",
       "      <td>\\n\\n</td>\n",
       "      <td>30.0</td>\n",
       "      <td>197500</td>\n",
       "      <td>Jawa</td>\n",
       "    </tr>\n",
       "  </tbody>\n",
       "</table>\n",
       "</div>"
      ],
      "text/plain": [
       "                         model_name  model_year      kms_driven        owner  \\\n",
       "0     Bajaj Avenger Cruise 220 2017        2017        17000 Km  first owner   \n",
       "1  Royal Enfield Classic 350cc 2016        2016        50000 Km  first owner   \n",
       "2               Hyosung GT250R 2012        2012        14795 Km  first owner   \n",
       "3        Bajaj Dominar 400 ABS 2017        2017  Mileage 28 Kms  first owner   \n",
       "4             Jawa Perak 330cc 2020        2020         2000 Km  first owner   \n",
       "\n",
       "      location       mileage  power   price    brand  \n",
       "0    hyderabad  \\n\\n 35 kmpl   19.0   63500    Bajaj  \n",
       "1    hyderabad  \\n\\n 35 kmpl   19.8  115000    Royal  \n",
       "2    hyderabad  \\n\\n 30 kmpl   28.0  300000  Hyosung  \n",
       "3  pondicherry   \\n\\n 28 Kms   34.5  100000    Bajaj  \n",
       "4    bangalore         \\n\\n    30.0  197500     Jawa  "
      ]
     },
     "execution_count": 12,
     "metadata": {},
     "output_type": "execute_result"
    }
   ],
   "source": [
    "df.head()"
   ]
  },
  {
   "cell_type": "code",
   "execution_count": 13,
   "id": "1ecae259-dd24-47e7-9003-d0f15add46b0",
   "metadata": {
    "tags": []
   },
   "outputs": [],
   "source": [
    "#Cleaning the mileage columns\n",
    "\n",
    "df['mileage'] = df['mileage'].str.split(' ',n=-1,expand = True)[1]"
   ]
  },
  {
   "cell_type": "code",
   "execution_count": 14,
   "id": "4b60347e-871b-4565-a184-07662d3ee89b",
   "metadata": {
    "tags": []
   },
   "outputs": [],
   "source": [
    "#Converting to numeric column\n",
    "\n",
    "df['mileage'] = pd.to_numeric(df['mileage'],errors = 'coerce')"
   ]
  },
  {
   "cell_type": "code",
   "execution_count": 15,
   "id": "bb1af9db-42e2-497e-a2d2-395033cf93c4",
   "metadata": {
    "tags": []
   },
   "outputs": [],
   "source": [
    "#Cleaning the kms_driven column\n",
    "\n",
    "df['kms_driven'] = df['kms_driven'].str.split(' ',expand = True,n=-1)[0]"
   ]
  },
  {
   "cell_type": "code",
   "execution_count": 16,
   "id": "e508bad4-f9a6-42ca-8576-b6c48d005b26",
   "metadata": {
    "tags": []
   },
   "outputs": [],
   "source": [
    "#Converting into numeric column\n",
    "\n",
    "df['kms_driven'] = pd.to_numeric(df['kms_driven'],errors = 'coerce')"
   ]
  },
  {
   "cell_type": "code",
   "execution_count": 17,
   "id": "fe82f687-9ca2-447f-a42e-2f4efe2b744b",
   "metadata": {
    "tags": []
   },
   "outputs": [
    {
     "data": {
      "text/plain": [
       "model_name     object\n",
       "model_year      int64\n",
       "kms_driven    float64\n",
       "owner          object\n",
       "location       object\n",
       "mileage       float64\n",
       "power         float64\n",
       "price           int64\n",
       "brand          object\n",
       "dtype: object"
      ]
     },
     "execution_count": 17,
     "metadata": {},
     "output_type": "execute_result"
    }
   ],
   "source": [
    "df.dtypes"
   ]
  },
  {
   "cell_type": "code",
   "execution_count": 18,
   "id": "85425f4e-c1a7-4304-ba22-708e70ca3239",
   "metadata": {
    "tags": []
   },
   "outputs": [],
   "source": [
    "#Calculating the age of the model\n",
    "\n",
    "df['model_elapsed_years'] = 2023-df['model_year']"
   ]
  },
  {
   "cell_type": "code",
   "execution_count": 19,
   "id": "5e1d8923-0d85-4d10-ba38-2ebafc5ca277",
   "metadata": {
    "tags": []
   },
   "outputs": [],
   "source": [
    "#Dropping irrelavant columns\n",
    "\n",
    "df = df.drop(['model_name','location','model_year'],axis = 1)"
   ]
  },
  {
   "cell_type": "code",
   "execution_count": 20,
   "id": "bd378d62-00de-4190-8f58-d913b148a8cb",
   "metadata": {
    "tags": []
   },
   "outputs": [
    {
     "data": {
      "text/html": [
       "<div>\n",
       "<style scoped>\n",
       "    .dataframe tbody tr th:only-of-type {\n",
       "        vertical-align: middle;\n",
       "    }\n",
       "\n",
       "    .dataframe tbody tr th {\n",
       "        vertical-align: top;\n",
       "    }\n",
       "\n",
       "    .dataframe thead th {\n",
       "        text-align: right;\n",
       "    }\n",
       "</style>\n",
       "<table border=\"1\" class=\"dataframe\">\n",
       "  <thead>\n",
       "    <tr style=\"text-align: right;\">\n",
       "      <th></th>\n",
       "      <th>kms_driven</th>\n",
       "      <th>owner</th>\n",
       "      <th>mileage</th>\n",
       "      <th>power</th>\n",
       "      <th>price</th>\n",
       "      <th>brand</th>\n",
       "      <th>model_elapsed_years</th>\n",
       "    </tr>\n",
       "  </thead>\n",
       "  <tbody>\n",
       "    <tr>\n",
       "      <th>0</th>\n",
       "      <td>17000.0</td>\n",
       "      <td>first owner</td>\n",
       "      <td>35.0</td>\n",
       "      <td>19.0</td>\n",
       "      <td>63500</td>\n",
       "      <td>Bajaj</td>\n",
       "      <td>6</td>\n",
       "    </tr>\n",
       "    <tr>\n",
       "      <th>1</th>\n",
       "      <td>50000.0</td>\n",
       "      <td>first owner</td>\n",
       "      <td>35.0</td>\n",
       "      <td>19.8</td>\n",
       "      <td>115000</td>\n",
       "      <td>Royal</td>\n",
       "      <td>7</td>\n",
       "    </tr>\n",
       "    <tr>\n",
       "      <th>2</th>\n",
       "      <td>14795.0</td>\n",
       "      <td>first owner</td>\n",
       "      <td>30.0</td>\n",
       "      <td>28.0</td>\n",
       "      <td>300000</td>\n",
       "      <td>Hyosung</td>\n",
       "      <td>11</td>\n",
       "    </tr>\n",
       "    <tr>\n",
       "      <th>3</th>\n",
       "      <td>NaN</td>\n",
       "      <td>first owner</td>\n",
       "      <td>28.0</td>\n",
       "      <td>34.5</td>\n",
       "      <td>100000</td>\n",
       "      <td>Bajaj</td>\n",
       "      <td>6</td>\n",
       "    </tr>\n",
       "    <tr>\n",
       "      <th>4</th>\n",
       "      <td>2000.0</td>\n",
       "      <td>first owner</td>\n",
       "      <td>NaN</td>\n",
       "      <td>30.0</td>\n",
       "      <td>197500</td>\n",
       "      <td>Jawa</td>\n",
       "      <td>3</td>\n",
       "    </tr>\n",
       "  </tbody>\n",
       "</table>\n",
       "</div>"
      ],
      "text/plain": [
       "   kms_driven        owner  mileage  power   price    brand  \\\n",
       "0     17000.0  first owner     35.0   19.0   63500    Bajaj   \n",
       "1     50000.0  first owner     35.0   19.8  115000    Royal   \n",
       "2     14795.0  first owner     30.0   28.0  300000  Hyosung   \n",
       "3         NaN  first owner     28.0   34.5  100000    Bajaj   \n",
       "4      2000.0  first owner      NaN   30.0  197500     Jawa   \n",
       "\n",
       "   model_elapsed_years  \n",
       "0                    6  \n",
       "1                    7  \n",
       "2                   11  \n",
       "3                    6  \n",
       "4                    3  "
      ]
     },
     "execution_count": 20,
     "metadata": {},
     "output_type": "execute_result"
    }
   ],
   "source": [
    "df.head()"
   ]
  },
  {
   "cell_type": "code",
   "execution_count": 21,
   "id": "d2122019-3dd8-44b5-a94e-23e604f7a6d3",
   "metadata": {
    "tags": []
   },
   "outputs": [
    {
     "data": {
      "text/plain": [
       "(7857, 7)"
      ]
     },
     "execution_count": 21,
     "metadata": {},
     "output_type": "execute_result"
    }
   ],
   "source": [
    "#Shape\n",
    "\n",
    "df.shape"
   ]
  },
  {
   "cell_type": "code",
   "execution_count": 22,
   "id": "26ac3a05-f942-4d3c-9a28-1935f1174f20",
   "metadata": {
    "tags": []
   },
   "outputs": [],
   "source": [
    "#The row to column count is healthier"
   ]
  },
  {
   "cell_type": "code",
   "execution_count": 23,
   "id": "6cf96f95-991f-4bb0-a5a6-b1051f4ebd64",
   "metadata": {
    "tags": []
   },
   "outputs": [
    {
     "data": {
      "text/plain": [
       "owner\n",
       "first owner             6817\n",
       "second owner             833\n",
       "third owner              134\n",
       "fourth owner or more      73\n",
       "Name: count, dtype: int64"
      ]
     },
     "execution_count": 23,
     "metadata": {},
     "output_type": "execute_result"
    }
   ],
   "source": [
    "#Value_count analysis of categorical columns\n",
    "\n",
    "df['owner'].value_counts()"
   ]
  },
  {
   "cell_type": "code",
   "execution_count": 24,
   "id": "6f0f14aa-7dbd-4baa-92d9-b0429f226dd9",
   "metadata": {
    "tags": []
   },
   "outputs": [
    {
     "data": {
      "text/plain": [
       "brand\n",
       "Bajaj               2104\n",
       "Royal               1750\n",
       "Hero                 808\n",
       "Yamaha               747\n",
       "TVS                  567\n",
       "Honda                530\n",
       "KTM                  491\n",
       "Suzuki               223\n",
       "Harley-Davidson      171\n",
       "UM                   128\n",
       "Kawasaki              67\n",
       "Hyosung               54\n",
       "Benelli               53\n",
       "Jawa                  46\n",
       "Triumph               36\n",
       "Mahindra              27\n",
       "Ducati                16\n",
       "Husqvarna             11\n",
       "BMW                   10\n",
       "BenelliImperiale       6\n",
       "MV                     2\n",
       "Aprilia                2\n",
       "Fb                     2\n",
       "Yazdi                  1\n",
       "                       1\n",
       "Indian                 1\n",
       "Moto                   1\n",
       "Ideal                  1\n",
       "yamaha                 1\n",
       "Name: count, dtype: int64"
      ]
     },
     "execution_count": 24,
     "metadata": {},
     "output_type": "execute_result"
    }
   ],
   "source": [
    "df['brand'].value_counts()"
   ]
  },
  {
   "cell_type": "code",
   "execution_count": 25,
   "id": "de53a7b2-ab04-4fb6-8ca2-13992054f740",
   "metadata": {
    "tags": []
   },
   "outputs": [
    {
     "name": "stdout",
     "output_type": "stream",
     "text": [
      "<class 'pandas.core.frame.DataFrame'>\n",
      "RangeIndex: 7857 entries, 0 to 7856\n",
      "Data columns (total 7 columns):\n",
      " #   Column               Non-Null Count  Dtype  \n",
      "---  ------               --------------  -----  \n",
      " 0   kms_driven           5869 non-null   float64\n",
      " 1   owner                7857 non-null   object \n",
      " 2   mileage              6735 non-null   float64\n",
      " 3   power                7688 non-null   float64\n",
      " 4   price                7857 non-null   int64  \n",
      " 5   brand                7857 non-null   object \n",
      " 6   model_elapsed_years  7857 non-null   int64  \n",
      "dtypes: float64(3), int64(2), object(2)\n",
      "memory usage: 429.8+ KB\n"
     ]
    }
   ],
   "source": [
    "df.info()"
   ]
  },
  {
   "cell_type": "code",
   "execution_count": 26,
   "id": "497560d2-ccf0-4395-8ce0-28015b6c6a2d",
   "metadata": {
    "tags": []
   },
   "outputs": [],
   "source": [
    "#There are null values in kms_driven,mileage,power columns"
   ]
  },
  {
   "cell_type": "code",
   "execution_count": 27,
   "id": "4f8be0c4-6c1f-4e99-afff-ba323acb29a2",
   "metadata": {
    "tags": []
   },
   "outputs": [
    {
     "data": {
      "text/html": [
       "<div>\n",
       "<style scoped>\n",
       "    .dataframe tbody tr th:only-of-type {\n",
       "        vertical-align: middle;\n",
       "    }\n",
       "\n",
       "    .dataframe tbody tr th {\n",
       "        vertical-align: top;\n",
       "    }\n",
       "\n",
       "    .dataframe thead th {\n",
       "        text-align: right;\n",
       "    }\n",
       "</style>\n",
       "<table border=\"1\" class=\"dataframe\">\n",
       "  <thead>\n",
       "    <tr style=\"text-align: right;\">\n",
       "      <th></th>\n",
       "      <th>kms_driven</th>\n",
       "      <th>mileage</th>\n",
       "      <th>power</th>\n",
       "      <th>price</th>\n",
       "      <th>model_elapsed_years</th>\n",
       "    </tr>\n",
       "  </thead>\n",
       "  <tbody>\n",
       "    <tr>\n",
       "      <th>count</th>\n",
       "      <td>5869.000000</td>\n",
       "      <td>6735.000000</td>\n",
       "      <td>7688.000000</td>\n",
       "      <td>7.857000e+03</td>\n",
       "      <td>7857.000000</td>\n",
       "    </tr>\n",
       "    <tr>\n",
       "      <th>mean</th>\n",
       "      <td>23090.124723</td>\n",
       "      <td>44.662457</td>\n",
       "      <td>20.934489</td>\n",
       "      <td>1.067913e+05</td>\n",
       "      <td>7.632302</td>\n",
       "    </tr>\n",
       "    <tr>\n",
       "      <th>std</th>\n",
       "      <td>28710.628053</td>\n",
       "      <td>17.046864</td>\n",
       "      <td>15.054799</td>\n",
       "      <td>1.389261e+05</td>\n",
       "      <td>4.001443</td>\n",
       "    </tr>\n",
       "    <tr>\n",
       "      <th>min</th>\n",
       "      <td>0.000000</td>\n",
       "      <td>5.000000</td>\n",
       "      <td>6.100000</td>\n",
       "      <td>0.000000e+00</td>\n",
       "      <td>2.000000</td>\n",
       "    </tr>\n",
       "    <tr>\n",
       "      <th>25%</th>\n",
       "      <td>8903.000000</td>\n",
       "      <td>35.000000</td>\n",
       "      <td>14.000000</td>\n",
       "      <td>4.200000e+04</td>\n",
       "      <td>5.000000</td>\n",
       "    </tr>\n",
       "    <tr>\n",
       "      <th>50%</th>\n",
       "      <td>17000.000000</td>\n",
       "      <td>40.000000</td>\n",
       "      <td>19.000000</td>\n",
       "      <td>7.500000e+04</td>\n",
       "      <td>7.000000</td>\n",
       "    </tr>\n",
       "    <tr>\n",
       "      <th>75%</th>\n",
       "      <td>30000.000000</td>\n",
       "      <td>57.000000</td>\n",
       "      <td>24.160000</td>\n",
       "      <td>1.250000e+05</td>\n",
       "      <td>9.000000</td>\n",
       "    </tr>\n",
       "    <tr>\n",
       "      <th>max</th>\n",
       "      <td>1000000.000000</td>\n",
       "      <td>104.000000</td>\n",
       "      <td>197.300000</td>\n",
       "      <td>3.000000e+06</td>\n",
       "      <td>73.000000</td>\n",
       "    </tr>\n",
       "  </tbody>\n",
       "</table>\n",
       "</div>"
      ],
      "text/plain": [
       "           kms_driven      mileage        power         price  \\\n",
       "count     5869.000000  6735.000000  7688.000000  7.857000e+03   \n",
       "mean     23090.124723    44.662457    20.934489  1.067913e+05   \n",
       "std      28710.628053    17.046864    15.054799  1.389261e+05   \n",
       "min          0.000000     5.000000     6.100000  0.000000e+00   \n",
       "25%       8903.000000    35.000000    14.000000  4.200000e+04   \n",
       "50%      17000.000000    40.000000    19.000000  7.500000e+04   \n",
       "75%      30000.000000    57.000000    24.160000  1.250000e+05   \n",
       "max    1000000.000000   104.000000   197.300000  3.000000e+06   \n",
       "\n",
       "       model_elapsed_years  \n",
       "count          7857.000000  \n",
       "mean              7.632302  \n",
       "std               4.001443  \n",
       "min               2.000000  \n",
       "25%               5.000000  \n",
       "50%               7.000000  \n",
       "75%               9.000000  \n",
       "max              73.000000  "
      ]
     },
     "execution_count": 27,
     "metadata": {},
     "output_type": "execute_result"
    }
   ],
   "source": [
    "df.describe()"
   ]
  },
  {
   "cell_type": "code",
   "execution_count": 28,
   "id": "1f2f2ce1-8f86-4283-9771-b56cc4515dae",
   "metadata": {
    "tags": []
   },
   "outputs": [],
   "source": [
    "#There are outliers in kms_driven,mileage,power,price,elapsed years"
   ]
  },
  {
   "cell_type": "code",
   "execution_count": 29,
   "id": "36d6d79c-e4c8-4e75-ace6-2e061d62c3b0",
   "metadata": {
    "tags": []
   },
   "outputs": [
    {
     "name": "stderr",
     "output_type": "stream",
     "text": [
      "C:\\Users\\chall\\anaconda3\\Lib\\site-packages\\seaborn\\_oldcore.py:1498: FutureWarning: is_categorical_dtype is deprecated and will be removed in a future version. Use isinstance(dtype, CategoricalDtype) instead\n",
      "  if pd.api.types.is_categorical_dtype(vector):\n",
      "C:\\Users\\chall\\anaconda3\\Lib\\site-packages\\seaborn\\_oldcore.py:1119: FutureWarning: use_inf_as_na option is deprecated and will be removed in a future version. Convert inf values to NaN before operating instead.\n",
      "  with pd.option_context('mode.use_inf_as_na', True):\n"
     ]
    },
    {
     "data": {
      "image/png": "[encoded data removed]",
      "text/plain": [
       "<Figure size 640x480 with 1 Axes>"
      ]
     },
     "metadata": {},
     "output_type": "display_data"
    }
   ],
   "source": [
    "#Univariate analysis\n",
    "\n",
    "sns.histplot(df['kms_driven'],bins = 100,kde = True)\n",
    "plt.show()"
   ]
  },
  {
   "cell_type": "code",
   "execution_count": 30,
   "id": "35828972-1e71-4934-9b64-6b4f4492521f",
   "metadata": {
    "tags": []
   },
   "outputs": [
    {
     "name": "stderr",
     "output_type": "stream",
     "text": [
      "C:\\Users\\chall\\anaconda3\\Lib\\site-packages\\seaborn\\_oldcore.py:1498: FutureWarning: is_categorical_dtype is deprecated and will be removed in a future version. Use isinstance(dtype, CategoricalDtype) instead\n",
      "  if pd.api.types.is_categorical_dtype(vector):\n",
      "C:\\Users\\chall\\anaconda3\\Lib\\site-packages\\seaborn\\_oldcore.py:1119: FutureWarning: use_inf_as_na option is deprecated and will be removed in a future version. Convert inf values to NaN before operating instead.\n",
      "  with pd.option_context('mode.use_inf_as_na', True):\n"
     ]
    },
    {
     "data": {
      "image/png": "[encoded data removed]",
      "text/plain": [
       "<Figure size 640x480 with 1 Axes>"
      ]
     },
     "metadata": {},
     "output_type": "display_data"
    }
   ],
   "source": [
    "#Univariate analysis on price\n",
    "\n",
    "sns.histplot(df['price'],kde = True)\n",
    "plt.show()"
   ]
  },
  {
   "cell_type": "code",
   "execution_count": 31,
   "id": "72710ae9-3552-4072-8d0d-318c456f4541",
   "metadata": {},
   "outputs": [
    {
     "name": "stderr",
     "output_type": "stream",
     "text": [
      "C:\\Users\\chall\\anaconda3\\Lib\\site-packages\\seaborn\\_oldcore.py:1498: FutureWarning: is_categorical_dtype is deprecated and will be removed in a future version. Use isinstance(dtype, CategoricalDtype) instead\n",
      "  if pd.api.types.is_categorical_dtype(vector):\n",
      "C:\\Users\\chall\\anaconda3\\Lib\\site-packages\\seaborn\\_oldcore.py:1119: FutureWarning: use_inf_as_na option is deprecated and will be removed in a future version. Convert inf values to NaN before operating instead.\n",
      "  with pd.option_context('mode.use_inf_as_na', True):\n"
     ]
    },
    {
     "data": {
      "image/png": "[encoded data removed]",
      "text/plain": [
       "<Figure size 640x480 with 1 Axes>"
      ]
     },
     "metadata": {},
     "output_type": "display_data"
    }
   ],
   "source": [
    "#Univariate analysis on price\n",
    "\n",
    "sns.histplot(df['mileage'],kde = True)\n",
    "plt.show()"
   ]
  },
  {
   "cell_type": "code",
   "execution_count": 32,
   "id": "e9366345-f0fc-486d-8b1f-1d67789b5a00",
   "metadata": {},
   "outputs": [],
   "source": [
    "#The distribution is right skewed."
   ]
  },
  {
   "cell_type": "code",
   "execution_count": 33,
   "id": "868698aa-dd7f-4e27-9d13-920943151a35",
   "metadata": {
    "tags": []
   },
   "outputs": [
    {
     "data": {
      "image/png": "[encoded data removed]",
      "text/plain": [
       "<Figure size 640x480 with 1 Axes>"
      ]
     },
     "metadata": {},
     "output_type": "display_data"
    }
   ],
   "source": [
    "sns.boxplot(df['mileage'])\n",
    "plt.show()"
   ]
  },
  {
   "cell_type": "code",
   "execution_count": 34,
   "id": "485e61ef-e03c-4d8b-aed6-8b325d6d16dc",
   "metadata": {
    "tags": []
   },
   "outputs": [
    {
     "data": {
      "image/png": "[encoded data removed]",
      "text/plain": [
       "<Figure size 640x480 with 1 Axes>"
      ]
     },
     "metadata": {},
     "output_type": "display_data"
    }
   ],
   "source": [
    "sns.boxplot(df['kms_driven'])\n",
    "plt.show()"
   ]
  },
  {
   "cell_type": "code",
   "execution_count": 35,
   "id": "054d7d8b-ceab-489f-b1a8-7b4ef33e5f58",
   "metadata": {
    "tags": []
   },
   "outputs": [
    {
     "data": {
      "image/png": "[encoded data removed]",
      "text/plain": [
       "<Figure size 640x480 with 1 Axes>"
      ]
     },
     "metadata": {},
     "output_type": "display_data"
    }
   ],
   "source": [
    "sns.boxplot(df['price'])\n",
    "plt.show()"
   ]
  },
  {
   "cell_type": "code",
   "execution_count": 36,
   "id": "36d0ea70-361c-492d-afff-103218bb2b18",
   "metadata": {
    "tags": []
   },
   "outputs": [
    {
     "data": {
      "image/png": "[encoded data removed]",
      "text/plain": [
       "<Figure size 640x480 with 1 Axes>"
      ]
     },
     "metadata": {},
     "output_type": "display_data"
    }
   ],
   "source": [
    "sns.boxplot(df['power'])\n",
    "plt.show()"
   ]
  },
  {
   "cell_type": "code",
   "execution_count": 37,
   "id": "4aba0d62-ddbb-470d-bc43-b6d606892224",
   "metadata": {
    "tags": []
   },
   "outputs": [],
   "source": [
    "#There are ouliers in the 4 numerical columns"
   ]
  },
  {
   "cell_type": "code",
   "execution_count": 38,
   "id": "99f2fb3e-a5fa-4d56-b30c-7153c3cd6eb9",
   "metadata": {
    "tags": []
   },
   "outputs": [
    {
     "name": "stderr",
     "output_type": "stream",
     "text": [
      "C:\\Users\\chall\\anaconda3\\Lib\\site-packages\\seaborn\\_oldcore.py:1498: FutureWarning: is_categorical_dtype is deprecated and will be removed in a future version. Use isinstance(dtype, CategoricalDtype) instead\n",
      "  if pd.api.types.is_categorical_dtype(vector):\n",
      "C:\\Users\\chall\\anaconda3\\Lib\\site-packages\\seaborn\\_oldcore.py:1498: FutureWarning: is_categorical_dtype is deprecated and will be removed in a future version. Use isinstance(dtype, CategoricalDtype) instead\n",
      "  if pd.api.types.is_categorical_dtype(vector):\n",
      "C:\\Users\\chall\\anaconda3\\Lib\\site-packages\\seaborn\\_oldcore.py:1498: FutureWarning: is_categorical_dtype is deprecated and will be removed in a future version. Use isinstance(dtype, CategoricalDtype) instead\n",
      "  if pd.api.types.is_categorical_dtype(vector):\n",
      "C:\\Users\\chall\\anaconda3\\Lib\\site-packages\\seaborn\\_oldcore.py:1498: FutureWarning: is_categorical_dtype is deprecated and will be removed in a future version. Use isinstance(dtype, CategoricalDtype) instead\n",
      "  if pd.api.types.is_categorical_dtype(vector):\n",
      "C:\\Users\\chall\\anaconda3\\Lib\\site-packages\\seaborn\\_oldcore.py:1498: FutureWarning: is_categorical_dtype is deprecated and will be removed in a future version. Use isinstance(dtype, CategoricalDtype) instead\n",
      "  if pd.api.types.is_categorical_dtype(vector):\n"
     ]
    },
    {
     "data": {
      "image/png": "[encoded data removed]",
      "text/plain": [
       "<Figure size 640x480 with 1 Axes>"
      ]
     },
     "metadata": {},
     "output_type": "display_data"
    }
   ],
   "source": [
    "#Bivariate analysis\n",
    "\n",
    "sns.scatterplot(data = df,x = df['kms_driven'],y = df['price'],hue = 'owner')\n",
    "plt.show()"
   ]
  },
  {
   "cell_type": "code",
   "execution_count": 39,
   "id": "c16e5fd3-7ea8-4dde-8342-e02f470f0b40",
   "metadata": {
    "tags": []
   },
   "outputs": [],
   "source": [
    "#The price of the bikes are more for less kms_driven and first owner"
   ]
  },
  {
   "cell_type": "code",
   "execution_count": 40,
   "id": "fd334658-baec-4de4-aa05-e712220931b6",
   "metadata": {
    "tags": []
   },
   "outputs": [
    {
     "data": {
      "text/plain": [
       "<Axes: xlabel='owner'>"
      ]
     },
     "execution_count": 40,
     "metadata": {},
     "output_type": "execute_result"
    },
    {
     "data": {
      "image/png": "[encoded data removed]",
      "text/plain": [
       "<Figure size 640x480 with 1 Axes>"
      ]
     },
     "metadata": {},
     "output_type": "display_data"
    }
   ],
   "source": [
    "#lets check the average price by owner\n",
    "\n",
    "df['price'].groupby(df['owner']).mean().sort_values().plot(kind = 'bar')"
   ]
  },
  {
   "cell_type": "code",
   "execution_count": 41,
   "id": "e7945af3-ced5-4c2f-9e69-268338f4a140",
   "metadata": {
    "tags": []
   },
   "outputs": [],
   "source": [
    "#The average price of the bike goes down as the owners increases"
   ]
  },
  {
   "cell_type": "code",
   "execution_count": 42,
   "id": "37cc5c2a-7de3-4040-bf3b-c2e6e8a75005",
   "metadata": {
    "tags": []
   },
   "outputs": [
    {
     "name": "stderr",
     "output_type": "stream",
     "text": [
      "C:\\Users\\chall\\anaconda3\\Lib\\site-packages\\seaborn\\_oldcore.py:1498: FutureWarning: is_categorical_dtype is deprecated and will be removed in a future version. Use isinstance(dtype, CategoricalDtype) instead\n",
      "  if pd.api.types.is_categorical_dtype(vector):\n",
      "C:\\Users\\chall\\anaconda3\\Lib\\site-packages\\seaborn\\_oldcore.py:1498: FutureWarning: is_categorical_dtype is deprecated and will be removed in a future version. Use isinstance(dtype, CategoricalDtype) instead\n",
      "  if pd.api.types.is_categorical_dtype(vector):\n"
     ]
    },
    {
     "data": {
      "image/png": "[encoded data removed]",
      "text/plain": [
       "<Figure size 640x480 with 1 Axes>"
      ]
     },
     "metadata": {},
     "output_type": "display_data"
    }
   ],
   "source": [
    "#Bivariate analysis on the mileage and power\n",
    "\n",
    "sns.scatterplot(data = df,y = 'mileage',x = 'power')\n",
    "plt.show()"
   ]
  },
  {
   "cell_type": "code",
   "execution_count": 43,
   "id": "137f911c-0b11-4af3-b1f0-251b6af9d11a",
   "metadata": {
    "tags": []
   },
   "outputs": [],
   "source": [
    "#As the power increases the mileage drops - Negative Correlation"
   ]
  },
  {
   "cell_type": "code",
   "execution_count": 44,
   "id": "04166768-4b82-4535-a623-a13632649d1a",
   "metadata": {
    "tags": []
   },
   "outputs": [
    {
     "data": {
      "text/html": [
       "<div>\n",
       "<style scoped>\n",
       "    .dataframe tbody tr th:only-of-type {\n",
       "        vertical-align: middle;\n",
       "    }\n",
       "\n",
       "    .dataframe tbody tr th {\n",
       "        vertical-align: top;\n",
       "    }\n",
       "\n",
       "    .dataframe thead th {\n",
       "        text-align: right;\n",
       "    }\n",
       "</style>\n",
       "<table border=\"1\" class=\"dataframe\">\n",
       "  <thead>\n",
       "    <tr style=\"text-align: right;\">\n",
       "      <th></th>\n",
       "      <th>kms_driven</th>\n",
       "      <th>mileage</th>\n",
       "      <th>power</th>\n",
       "      <th>price</th>\n",
       "      <th>model_elapsed_years</th>\n",
       "    </tr>\n",
       "  </thead>\n",
       "  <tbody>\n",
       "    <tr>\n",
       "      <th>kms_driven</th>\n",
       "      <td>1.000000</td>\n",
       "      <td>0.144141</td>\n",
       "      <td>-0.148264</td>\n",
       "      <td>-0.199200</td>\n",
       "      <td>0.322147</td>\n",
       "    </tr>\n",
       "    <tr>\n",
       "      <th>mileage</th>\n",
       "      <td>0.144141</td>\n",
       "      <td>1.000000</td>\n",
       "      <td>-0.554302</td>\n",
       "      <td>-0.464452</td>\n",
       "      <td>0.163578</td>\n",
       "    </tr>\n",
       "    <tr>\n",
       "      <th>power</th>\n",
       "      <td>-0.148264</td>\n",
       "      <td>-0.554302</td>\n",
       "      <td>1.000000</td>\n",
       "      <td>0.833983</td>\n",
       "      <td>-0.145213</td>\n",
       "    </tr>\n",
       "    <tr>\n",
       "      <th>price</th>\n",
       "      <td>-0.199200</td>\n",
       "      <td>-0.464452</td>\n",
       "      <td>0.833983</td>\n",
       "      <td>1.000000</td>\n",
       "      <td>-0.227963</td>\n",
       "    </tr>\n",
       "    <tr>\n",
       "      <th>model_elapsed_years</th>\n",
       "      <td>0.322147</td>\n",
       "      <td>0.163578</td>\n",
       "      <td>-0.145213</td>\n",
       "      <td>-0.227963</td>\n",
       "      <td>1.000000</td>\n",
       "    </tr>\n",
       "  </tbody>\n",
       "</table>\n",
       "</div>"
      ],
      "text/plain": [
       "                     kms_driven   mileage     power     price  \\\n",
       "kms_driven             1.000000  0.144141 -0.148264 -0.199200   \n",
       "mileage                0.144141  1.000000 -0.554302 -0.464452   \n",
       "power                 -0.148264 -0.554302  1.000000  0.833983   \n",
       "price                 -0.199200 -0.464452  0.833983  1.000000   \n",
       "model_elapsed_years    0.322147  0.163578 -0.145213 -0.227963   \n",
       "\n",
       "                     model_elapsed_years  \n",
       "kms_driven                      0.322147  \n",
       "mileage                         0.163578  \n",
       "power                          -0.145213  \n",
       "price                          -0.227963  \n",
       "model_elapsed_years             1.000000  "
      ]
     },
     "execution_count": 44,
     "metadata": {},
     "output_type": "execute_result"
    }
   ],
   "source": [
    "df.select_dtypes('number').corr()"
   ]
  },
  {
   "cell_type": "code",
   "execution_count": 45,
   "id": "415db9fa-a146-45fb-ad68-c7d423250071",
   "metadata": {
    "tags": []
   },
   "outputs": [
    {
     "data": {
      "image/png": "[encoded data removed]",
      "text/plain": [
       "<Figure size 640x480 with 2 Axes>"
      ]
     },
     "metadata": {},
     "output_type": "display_data"
    }
   ],
   "source": [
    "sns.heatmap(df.select_dtypes('number').corr(),annot=True)\n",
    "plt.show()"
   ]
  },
  {
   "cell_type": "code",
   "execution_count": 46,
   "id": "0eb5e414-639c-4083-8689-9d4535ccd69b",
   "metadata": {
    "tags": []
   },
   "outputs": [],
   "source": [
    "#There is a strong correlation between power and price"
   ]
  },
  {
   "cell_type": "code",
   "execution_count": 47,
   "id": "81c9ba5d-2c9b-41f1-a13b-f0dbc4097af9",
   "metadata": {
    "tags": []
   },
   "outputs": [],
   "source": [
    "#Data Cleaning"
   ]
  },
  {
   "cell_type": "code",
   "execution_count": 48,
   "id": "e609d7f3-0f03-4879-9920-4d34be0a158f",
   "metadata": {
    "tags": []
   },
   "outputs": [],
   "source": [
    "df = df.dropna()"
   ]
  },
  {
   "cell_type": "code",
   "execution_count": 49,
   "id": "3731a538-9d42-4e99-b4de-eeee6d89656b",
   "metadata": {
    "tags": []
   },
   "outputs": [],
   "source": [
    "df_num = df.select_dtypes(include = 'number')"
   ]
  },
  {
   "cell_type": "code",
   "execution_count": 50,
   "id": "b2011fb8-139c-4460-9af7-04bc407aff52",
   "metadata": {
    "tags": []
   },
   "outputs": [],
   "source": [
    "#Oulier filter\n",
    "\n",
    "Q1 = df_num.quantile(0.25)\n",
    "Q3 = df_num.quantile(0.75)\n",
    "\n",
    "IQR = Q3-Q1\n",
    "\n",
    "lower_bound = Q1-1.5*IQR\n",
    "upper_bound = Q3 + 1.5*IQR"
   ]
  },
  {
   "cell_type": "code",
   "execution_count": 51,
   "id": "f8adf145-af1c-4cb9-b90c-ddba29ab9412",
   "metadata": {
    "tags": []
   },
   "outputs": [
    {
     "data": {
      "text/plain": [
       "kms_driven            -21006.2500\n",
       "mileage                   15.5000\n",
       "power                     -0.5875\n",
       "price                 -87750.0000\n",
       "model_elapsed_years       -1.0000\n",
       "dtype: float64"
      ]
     },
     "execution_count": 51,
     "metadata": {},
     "output_type": "execute_result"
    }
   ],
   "source": [
    "lower_bound"
   ]
  },
  {
   "cell_type": "code",
   "execution_count": 52,
   "id": "d616dbc6-db5d-4d26-a501-280deea16952",
   "metadata": {
    "tags": []
   },
   "outputs": [
    {
     "data": {
      "text/plain": [
       "kms_driven              60603.7500\n",
       "mileage                    67.5000\n",
       "power                      39.7125\n",
       "price                  266250.0000\n",
       "model_elapsed_years        15.0000\n",
       "dtype: float64"
      ]
     },
     "execution_count": 52,
     "metadata": {},
     "output_type": "execute_result"
    }
   ],
   "source": [
    "upper_bound"
   ]
  },
  {
   "cell_type": "code",
   "execution_count": 53,
   "id": "68fa9d87-4e3d-411c-aff1-1608db156c62",
   "metadata": {
    "tags": []
   },
   "outputs": [],
   "source": [
    "df = df[~((df_num<lower_bound)|(df_num>upper_bound)).any(axis=1)]"
   ]
  },
  {
   "cell_type": "code",
   "execution_count": 54,
   "id": "2ad3920e-a3ec-4f47-b54d-87143aca0990",
   "metadata": {
    "tags": []
   },
   "outputs": [
    {
     "data": {
      "text/html": [
       "<div>\n",
       "<style scoped>\n",
       "    .dataframe tbody tr th:only-of-type {\n",
       "        vertical-align: middle;\n",
       "    }\n",
       "\n",
       "    .dataframe tbody tr th {\n",
       "        vertical-align: top;\n",
       "    }\n",
       "\n",
       "    .dataframe thead th {\n",
       "        text-align: right;\n",
       "    }\n",
       "</style>\n",
       "<table border=\"1\" class=\"dataframe\">\n",
       "  <thead>\n",
       "    <tr style=\"text-align: right;\">\n",
       "      <th></th>\n",
       "      <th>kms_driven</th>\n",
       "      <th>owner</th>\n",
       "      <th>mileage</th>\n",
       "      <th>power</th>\n",
       "      <th>price</th>\n",
       "      <th>brand</th>\n",
       "      <th>model_elapsed_years</th>\n",
       "    </tr>\n",
       "  </thead>\n",
       "  <tbody>\n",
       "    <tr>\n",
       "      <th>0</th>\n",
       "      <td>17000.0</td>\n",
       "      <td>first owner</td>\n",
       "      <td>35.0</td>\n",
       "      <td>19.0</td>\n",
       "      <td>63500</td>\n",
       "      <td>Bajaj</td>\n",
       "      <td>6</td>\n",
       "    </tr>\n",
       "    <tr>\n",
       "      <th>1</th>\n",
       "      <td>50000.0</td>\n",
       "      <td>first owner</td>\n",
       "      <td>35.0</td>\n",
       "      <td>19.8</td>\n",
       "      <td>115000</td>\n",
       "      <td>Royal</td>\n",
       "      <td>7</td>\n",
       "    </tr>\n",
       "    <tr>\n",
       "      <th>5</th>\n",
       "      <td>24561.0</td>\n",
       "      <td>third owner</td>\n",
       "      <td>35.0</td>\n",
       "      <td>25.0</td>\n",
       "      <td>63400</td>\n",
       "      <td>KTM</td>\n",
       "      <td>11</td>\n",
       "    </tr>\n",
       "    <tr>\n",
       "      <th>6</th>\n",
       "      <td>19718.0</td>\n",
       "      <td>first owner</td>\n",
       "      <td>65.0</td>\n",
       "      <td>17.0</td>\n",
       "      <td>55000</td>\n",
       "      <td>Bajaj</td>\n",
       "      <td>7</td>\n",
       "    </tr>\n",
       "    <tr>\n",
       "      <th>10</th>\n",
       "      <td>25000.0</td>\n",
       "      <td>first owner</td>\n",
       "      <td>35.0</td>\n",
       "      <td>19.8</td>\n",
       "      <td>136900</td>\n",
       "      <td>Royal</td>\n",
       "      <td>5</td>\n",
       "    </tr>\n",
       "    <tr>\n",
       "      <th>...</th>\n",
       "      <td>...</td>\n",
       "      <td>...</td>\n",
       "      <td>...</td>\n",
       "      <td>...</td>\n",
       "      <td>...</td>\n",
       "      <td>...</td>\n",
       "      <td>...</td>\n",
       "    </tr>\n",
       "    <tr>\n",
       "      <th>7847</th>\n",
       "      <td>23000.0</td>\n",
       "      <td>first owner</td>\n",
       "      <td>35.0</td>\n",
       "      <td>19.8</td>\n",
       "      <td>120000</td>\n",
       "      <td>Royal</td>\n",
       "      <td>7</td>\n",
       "    </tr>\n",
       "    <tr>\n",
       "      <th>7852</th>\n",
       "      <td>7000.0</td>\n",
       "      <td>first owner</td>\n",
       "      <td>42.0</td>\n",
       "      <td>16.0</td>\n",
       "      <td>55000</td>\n",
       "      <td>Yamaha</td>\n",
       "      <td>12</td>\n",
       "    </tr>\n",
       "    <tr>\n",
       "      <th>7854</th>\n",
       "      <td>6407.0</td>\n",
       "      <td>first owner</td>\n",
       "      <td>65.0</td>\n",
       "      <td>17.0</td>\n",
       "      <td>61740</td>\n",
       "      <td>Bajaj</td>\n",
       "      <td>7</td>\n",
       "    </tr>\n",
       "    <tr>\n",
       "      <th>7855</th>\n",
       "      <td>7524.0</td>\n",
       "      <td>first owner</td>\n",
       "      <td>57.0</td>\n",
       "      <td>11.8</td>\n",
       "      <td>49000</td>\n",
       "      <td>Bajaj</td>\n",
       "      <td>7</td>\n",
       "    </tr>\n",
       "    <tr>\n",
       "      <th>7856</th>\n",
       "      <td>15000.0</td>\n",
       "      <td>first owner</td>\n",
       "      <td>38.0</td>\n",
       "      <td>21.0</td>\n",
       "      <td>65000</td>\n",
       "      <td>Bajaj</td>\n",
       "      <td>7</td>\n",
       "    </tr>\n",
       "  </tbody>\n",
       "</table>\n",
       "<p>3620 rows × 7 columns</p>\n",
       "</div>"
      ],
      "text/plain": [
       "      kms_driven        owner  mileage  power   price   brand  \\\n",
       "0        17000.0  first owner     35.0   19.0   63500   Bajaj   \n",
       "1        50000.0  first owner     35.0   19.8  115000   Royal   \n",
       "5        24561.0  third owner     35.0   25.0   63400     KTM   \n",
       "6        19718.0  first owner     65.0   17.0   55000   Bajaj   \n",
       "10       25000.0  first owner     35.0   19.8  136900   Royal   \n",
       "...          ...          ...      ...    ...     ...     ...   \n",
       "7847     23000.0  first owner     35.0   19.8  120000   Royal   \n",
       "7852      7000.0  first owner     42.0   16.0   55000  Yamaha   \n",
       "7854      6407.0  first owner     65.0   17.0   61740   Bajaj   \n",
       "7855      7524.0  first owner     57.0   11.8   49000   Bajaj   \n",
       "7856     15000.0  first owner     38.0   21.0   65000   Bajaj   \n",
       "\n",
       "      model_elapsed_years  \n",
       "0                       6  \n",
       "1                       7  \n",
       "5                      11  \n",
       "6                       7  \n",
       "10                      5  \n",
       "...                   ...  \n",
       "7847                    7  \n",
       "7852                   12  \n",
       "7854                    7  \n",
       "7855                    7  \n",
       "7856                    7  \n",
       "\n",
       "[3620 rows x 7 columns]"
      ]
     },
     "execution_count": 54,
     "metadata": {},
     "output_type": "execute_result"
    }
   ],
   "source": [
    "df"
   ]
  },
  {
   "cell_type": "code",
   "execution_count": 55,
   "id": "79689b94-0d12-4d6a-b4dc-6fe4726acb4d",
   "metadata": {
    "tags": []
   },
   "outputs": [
    {
     "data": {
      "image/png": "[encoded data removed]",
      "text/plain": [
       "<Figure size 640x480 with 1 Axes>"
      ]
     },
     "metadata": {},
     "output_type": "display_data"
    }
   ],
   "source": [
    "sns.boxplot(df['mileage'])\n",
    "plt.show()"
   ]
  },
  {
   "cell_type": "code",
   "execution_count": 56,
   "id": "ec439beb-9134-497f-b680-37ccf24c91a2",
   "metadata": {
    "tags": []
   },
   "outputs": [
    {
     "data": {
      "image/png": "[encoded data removed]",
      "text/plain": [
       "<Figure size 640x480 with 1 Axes>"
      ]
     },
     "metadata": {},
     "output_type": "display_data"
    }
   ],
   "source": [
    "sns.boxplot(df['kms_driven'])\n",
    "plt.show()"
   ]
  },
  {
   "cell_type": "code",
   "execution_count": 57,
   "id": "c91b7db6-204f-4806-8221-c6b914bb5ede",
   "metadata": {
    "tags": []
   },
   "outputs": [
    {
     "data": {
      "image/png": "[encoded data removed]",
      "text/plain": [
       "<Figure size 640x480 with 1 Axes>"
      ]
     },
     "metadata": {},
     "output_type": "display_data"
    }
   ],
   "source": [
    "sns.boxplot(df['price'])\n",
    "plt.show()"
   ]
  },
  {
   "cell_type": "code",
   "execution_count": 58,
   "id": "30043619-3370-446e-9073-2afc9004bb1a",
   "metadata": {
    "tags": []
   },
   "outputs": [
    {
     "data": {
      "image/png": "[encoded data removed]",
      "text/plain": [
       "<Figure size 640x480 with 1 Axes>"
      ]
     },
     "metadata": {},
     "output_type": "display_data"
    }
   ],
   "source": [
    "sns.boxplot(df['power'])\n",
    "plt.show()"
   ]
  },
  {
   "cell_type": "code",
   "execution_count": 59,
   "id": "f8283705-9c6a-4358-89b2-251f44a3e77d",
   "metadata": {
    "tags": []
   },
   "outputs": [],
   "source": [
    "y = df['price']\n",
    "X = df.drop('price',axis = 1)"
   ]
  },
  {
   "cell_type": "code",
   "execution_count": 60,
   "id": "7172d946-98d3-4825-b94d-c6ff65e9338f",
   "metadata": {
    "tags": []
   },
   "outputs": [],
   "source": [
    "X_num = X.select_dtypes(include = 'number')\n",
    "X_cat = X.select_dtypes(include = 'object')"
   ]
  },
  {
   "cell_type": "code",
   "execution_count": 61,
   "id": "5c0c43a8-6889-4818-9615-4ec2423c024c",
   "metadata": {
    "tags": []
   },
   "outputs": [
    {
     "data": {
      "text/html": [
       "<div>\n",
       "<style scoped>\n",
       "    .dataframe tbody tr th:only-of-type {\n",
       "        vertical-align: middle;\n",
       "    }\n",
       "\n",
       "    .dataframe tbody tr th {\n",
       "        vertical-align: top;\n",
       "    }\n",
       "\n",
       "    .dataframe thead th {\n",
       "        text-align: right;\n",
       "    }\n",
       "</style>\n",
       "<table border=\"1\" class=\"dataframe\">\n",
       "  <thead>\n",
       "    <tr style=\"text-align: right;\">\n",
       "      <th></th>\n",
       "      <th>kms_driven</th>\n",
       "      <th>mileage</th>\n",
       "      <th>power</th>\n",
       "      <th>model_elapsed_years</th>\n",
       "    </tr>\n",
       "  </thead>\n",
       "  <tbody>\n",
       "    <tr>\n",
       "      <th>0</th>\n",
       "      <td>17000.0</td>\n",
       "      <td>35.0</td>\n",
       "      <td>19.0</td>\n",
       "      <td>6</td>\n",
       "    </tr>\n",
       "    <tr>\n",
       "      <th>1</th>\n",
       "      <td>50000.0</td>\n",
       "      <td>35.0</td>\n",
       "      <td>19.8</td>\n",
       "      <td>7</td>\n",
       "    </tr>\n",
       "    <tr>\n",
       "      <th>5</th>\n",
       "      <td>24561.0</td>\n",
       "      <td>35.0</td>\n",
       "      <td>25.0</td>\n",
       "      <td>11</td>\n",
       "    </tr>\n",
       "    <tr>\n",
       "      <th>6</th>\n",
       "      <td>19718.0</td>\n",
       "      <td>65.0</td>\n",
       "      <td>17.0</td>\n",
       "      <td>7</td>\n",
       "    </tr>\n",
       "    <tr>\n",
       "      <th>10</th>\n",
       "      <td>25000.0</td>\n",
       "      <td>35.0</td>\n",
       "      <td>19.8</td>\n",
       "      <td>5</td>\n",
       "    </tr>\n",
       "  </tbody>\n",
       "</table>\n",
       "</div>"
      ],
      "text/plain": [
       "    kms_driven  mileage  power  model_elapsed_years\n",
       "0      17000.0     35.0   19.0                    6\n",
       "1      50000.0     35.0   19.8                    7\n",
       "5      24561.0     35.0   25.0                   11\n",
       "6      19718.0     65.0   17.0                    7\n",
       "10     25000.0     35.0   19.8                    5"
      ]
     },
     "execution_count": 61,
     "metadata": {},
     "output_type": "execute_result"
    }
   ],
   "source": [
    "X_num.head()"
   ]
  },
  {
   "cell_type": "code",
   "execution_count": 62,
   "id": "1f84379a-ac15-48eb-815f-c8ab575e0801",
   "metadata": {
    "tags": []
   },
   "outputs": [
    {
     "data": {
      "text/html": [
       "<div>\n",
       "<style scoped>\n",
       "    .dataframe tbody tr th:only-of-type {\n",
       "        vertical-align: middle;\n",
       "    }\n",
       "\n",
       "    .dataframe tbody tr th {\n",
       "        vertical-align: top;\n",
       "    }\n",
       "\n",
       "    .dataframe thead th {\n",
       "        text-align: right;\n",
       "    }\n",
       "</style>\n",
       "<table border=\"1\" class=\"dataframe\">\n",
       "  <thead>\n",
       "    <tr style=\"text-align: right;\">\n",
       "      <th></th>\n",
       "      <th>owner</th>\n",
       "      <th>brand</th>\n",
       "    </tr>\n",
       "  </thead>\n",
       "  <tbody>\n",
       "    <tr>\n",
       "      <th>0</th>\n",
       "      <td>first owner</td>\n",
       "      <td>Bajaj</td>\n",
       "    </tr>\n",
       "    <tr>\n",
       "      <th>1</th>\n",
       "      <td>first owner</td>\n",
       "      <td>Royal</td>\n",
       "    </tr>\n",
       "    <tr>\n",
       "      <th>5</th>\n",
       "      <td>third owner</td>\n",
       "      <td>KTM</td>\n",
       "    </tr>\n",
       "    <tr>\n",
       "      <th>6</th>\n",
       "      <td>first owner</td>\n",
       "      <td>Bajaj</td>\n",
       "    </tr>\n",
       "    <tr>\n",
       "      <th>10</th>\n",
       "      <td>first owner</td>\n",
       "      <td>Royal</td>\n",
       "    </tr>\n",
       "  </tbody>\n",
       "</table>\n",
       "</div>"
      ],
      "text/plain": [
       "          owner  brand\n",
       "0   first owner  Bajaj\n",
       "1   first owner  Royal\n",
       "5   third owner    KTM\n",
       "6   first owner  Bajaj\n",
       "10  first owner  Royal"
      ]
     },
     "execution_count": 62,
     "metadata": {},
     "output_type": "execute_result"
    }
   ],
   "source": [
    "X_cat.head()"
   ]
  },
  {
   "cell_type": "code",
   "execution_count": 63,
   "id": "30108745-3125-48d8-8579-7da818ecd974",
   "metadata": {
    "tags": []
   },
   "outputs": [],
   "source": [
    "X_num_scaled = MinMaxScaler().fit_transform(X_num)"
   ]
  },
  {
   "cell_type": "code",
   "execution_count": 64,
   "id": "4bfe7eba-a758-49e9-adb1-5b45937fdcc7",
   "metadata": {
    "tags": []
   },
   "outputs": [],
   "source": [
    "X_num_scaled = pd.DataFrame(X_num_scaled,columns = X_num.columns,index = X_num.index)"
   ]
  },
  {
   "cell_type": "code",
   "execution_count": 65,
   "id": "6cac11d4-0d73-43c3-9913-2d21abf4dfa7",
   "metadata": {
    "tags": []
   },
   "outputs": [
    {
     "data": {
      "text/html": [
       "<div>\n",
       "<style scoped>\n",
       "    .dataframe tbody tr th:only-of-type {\n",
       "        vertical-align: middle;\n",
       "    }\n",
       "\n",
       "    .dataframe tbody tr th {\n",
       "        vertical-align: top;\n",
       "    }\n",
       "\n",
       "    .dataframe thead th {\n",
       "        text-align: right;\n",
       "    }\n",
       "</style>\n",
       "<table border=\"1\" class=\"dataframe\">\n",
       "  <thead>\n",
       "    <tr style=\"text-align: right;\">\n",
       "      <th></th>\n",
       "      <th>kms_driven</th>\n",
       "      <th>mileage</th>\n",
       "      <th>power</th>\n",
       "      <th>model_elapsed_years</th>\n",
       "    </tr>\n",
       "  </thead>\n",
       "  <tbody>\n",
       "    <tr>\n",
       "      <th>0</th>\n",
       "      <td>0.283074</td>\n",
       "      <td>0.288889</td>\n",
       "      <td>0.380421</td>\n",
       "      <td>0.307692</td>\n",
       "    </tr>\n",
       "    <tr>\n",
       "      <th>1</th>\n",
       "      <td>0.832570</td>\n",
       "      <td>0.288889</td>\n",
       "      <td>0.405204</td>\n",
       "      <td>0.384615</td>\n",
       "    </tr>\n",
       "    <tr>\n",
       "      <th>5</th>\n",
       "      <td>0.408975</td>\n",
       "      <td>0.288889</td>\n",
       "      <td>0.566295</td>\n",
       "      <td>0.692308</td>\n",
       "    </tr>\n",
       "    <tr>\n",
       "      <th>6</th>\n",
       "      <td>0.328332</td>\n",
       "      <td>0.955556</td>\n",
       "      <td>0.318463</td>\n",
       "      <td>0.384615</td>\n",
       "    </tr>\n",
       "    <tr>\n",
       "      <th>10</th>\n",
       "      <td>0.416285</td>\n",
       "      <td>0.288889</td>\n",
       "      <td>0.405204</td>\n",
       "      <td>0.230769</td>\n",
       "    </tr>\n",
       "  </tbody>\n",
       "</table>\n",
       "</div>"
      ],
      "text/plain": [
       "    kms_driven   mileage     power  model_elapsed_years\n",
       "0     0.283074  0.288889  0.380421             0.307692\n",
       "1     0.832570  0.288889  0.405204             0.384615\n",
       "5     0.408975  0.288889  0.566295             0.692308\n",
       "6     0.328332  0.955556  0.318463             0.384615\n",
       "10    0.416285  0.288889  0.405204             0.230769"
      ]
     },
     "execution_count": 65,
     "metadata": {},
     "output_type": "execute_result"
    }
   ],
   "source": [
    "X_num_scaled.head()"
   ]
  },
  {
   "cell_type": "code",
   "execution_count": 66,
   "id": "50cc46a3-73aa-484e-9952-6e9b781f648f",
   "metadata": {
    "tags": []
   },
   "outputs": [],
   "source": [
    "X_cat_encoded = pd.get_dummies(X_cat,drop_first = False,dtype=int)"
   ]
  },
  {
   "cell_type": "code",
   "execution_count": 67,
   "id": "018f687e-45e7-4bd2-8884-24e1ef4c1950",
   "metadata": {
    "tags": []
   },
   "outputs": [
    {
     "data": {
      "text/html": [
       "<div>\n",
       "<style scoped>\n",
       "    .dataframe tbody tr th:only-of-type {\n",
       "        vertical-align: middle;\n",
       "    }\n",
       "\n",
       "    .dataframe tbody tr th {\n",
       "        vertical-align: top;\n",
       "    }\n",
       "\n",
       "    .dataframe thead th {\n",
       "        text-align: right;\n",
       "    }\n",
       "</style>\n",
       "<table border=\"1\" class=\"dataframe\">\n",
       "  <thead>\n",
       "    <tr style=\"text-align: right;\">\n",
       "      <th></th>\n",
       "      <th>owner_first owner</th>\n",
       "      <th>owner_fourth owner or more</th>\n",
       "      <th>owner_second owner</th>\n",
       "      <th>owner_third owner</th>\n",
       "      <th>brand_</th>\n",
       "      <th>brand_Bajaj</th>\n",
       "      <th>brand_Benelli</th>\n",
       "      <th>brand_BenelliImperiale</th>\n",
       "      <th>brand_Hero</th>\n",
       "      <th>brand_Honda</th>\n",
       "      <th>brand_Husqvarna</th>\n",
       "      <th>brand_Hyosung</th>\n",
       "      <th>brand_KTM</th>\n",
       "      <th>brand_Kawasaki</th>\n",
       "      <th>brand_Mahindra</th>\n",
       "      <th>brand_Royal</th>\n",
       "      <th>brand_Suzuki</th>\n",
       "      <th>brand_TVS</th>\n",
       "      <th>brand_UM</th>\n",
       "      <th>brand_Yamaha</th>\n",
       "    </tr>\n",
       "  </thead>\n",
       "  <tbody>\n",
       "    <tr>\n",
       "      <th>0</th>\n",
       "      <td>1</td>\n",
       "      <td>0</td>\n",
       "      <td>0</td>\n",
       "      <td>0</td>\n",
       "      <td>0</td>\n",
       "      <td>1</td>\n",
       "      <td>0</td>\n",
       "      <td>0</td>\n",
       "      <td>0</td>\n",
       "      <td>0</td>\n",
       "      <td>0</td>\n",
       "      <td>0</td>\n",
       "      <td>0</td>\n",
       "      <td>0</td>\n",
       "      <td>0</td>\n",
       "      <td>0</td>\n",
       "      <td>0</td>\n",
       "      <td>0</td>\n",
       "      <td>0</td>\n",
       "      <td>0</td>\n",
       "    </tr>\n",
       "    <tr>\n",
       "      <th>1</th>\n",
       "      <td>1</td>\n",
       "      <td>0</td>\n",
       "      <td>0</td>\n",
       "      <td>0</td>\n",
       "      <td>0</td>\n",
       "      <td>0</td>\n",
       "      <td>0</td>\n",
       "      <td>0</td>\n",
       "      <td>0</td>\n",
       "      <td>0</td>\n",
       "      <td>0</td>\n",
       "      <td>0</td>\n",
       "      <td>0</td>\n",
       "      <td>0</td>\n",
       "      <td>0</td>\n",
       "      <td>1</td>\n",
       "      <td>0</td>\n",
       "      <td>0</td>\n",
       "      <td>0</td>\n",
       "      <td>0</td>\n",
       "    </tr>\n",
       "    <tr>\n",
       "      <th>5</th>\n",
       "      <td>0</td>\n",
       "      <td>0</td>\n",
       "      <td>0</td>\n",
       "      <td>1</td>\n",
       "      <td>0</td>\n",
       "      <td>0</td>\n",
       "      <td>0</td>\n",
       "      <td>0</td>\n",
       "      <td>0</td>\n",
       "      <td>0</td>\n",
       "      <td>0</td>\n",
       "      <td>0</td>\n",
       "      <td>1</td>\n",
       "      <td>0</td>\n",
       "      <td>0</td>\n",
       "      <td>0</td>\n",
       "      <td>0</td>\n",
       "      <td>0</td>\n",
       "      <td>0</td>\n",
       "      <td>0</td>\n",
       "    </tr>\n",
       "    <tr>\n",
       "      <th>6</th>\n",
       "      <td>1</td>\n",
       "      <td>0</td>\n",
       "      <td>0</td>\n",
       "      <td>0</td>\n",
       "      <td>0</td>\n",
       "      <td>1</td>\n",
       "      <td>0</td>\n",
       "      <td>0</td>\n",
       "      <td>0</td>\n",
       "      <td>0</td>\n",
       "      <td>0</td>\n",
       "      <td>0</td>\n",
       "      <td>0</td>\n",
       "      <td>0</td>\n",
       "      <td>0</td>\n",
       "      <td>0</td>\n",
       "      <td>0</td>\n",
       "      <td>0</td>\n",
       "      <td>0</td>\n",
       "      <td>0</td>\n",
       "    </tr>\n",
       "    <tr>\n",
       "      <th>10</th>\n",
       "      <td>1</td>\n",
       "      <td>0</td>\n",
       "      <td>0</td>\n",
       "      <td>0</td>\n",
       "      <td>0</td>\n",
       "      <td>0</td>\n",
       "      <td>0</td>\n",
       "      <td>0</td>\n",
       "      <td>0</td>\n",
       "      <td>0</td>\n",
       "      <td>0</td>\n",
       "      <td>0</td>\n",
       "      <td>0</td>\n",
       "      <td>0</td>\n",
       "      <td>0</td>\n",
       "      <td>1</td>\n",
       "      <td>0</td>\n",
       "      <td>0</td>\n",
       "      <td>0</td>\n",
       "      <td>0</td>\n",
       "    </tr>\n",
       "  </tbody>\n",
       "</table>\n",
       "</div>"
      ],
      "text/plain": [
       "    owner_first owner  owner_fourth owner or more  owner_second owner  \\\n",
       "0                   1                           0                   0   \n",
       "1                   1                           0                   0   \n",
       "5                   0                           0                   0   \n",
       "6                   1                           0                   0   \n",
       "10                  1                           0                   0   \n",
       "\n",
       "    owner_third owner  brand_  brand_Bajaj  brand_Benelli  \\\n",
       "0                   0       0            1              0   \n",
       "1                   0       0            0              0   \n",
       "5                   1       0            0              0   \n",
       "6                   0       0            1              0   \n",
       "10                  0       0            0              0   \n",
       "\n",
       "    brand_BenelliImperiale  brand_Hero  brand_Honda  brand_Husqvarna  \\\n",
       "0                        0           0            0                0   \n",
       "1                        0           0            0                0   \n",
       "5                        0           0            0                0   \n",
       "6                        0           0            0                0   \n",
       "10                       0           0            0                0   \n",
       "\n",
       "    brand_Hyosung  brand_KTM  brand_Kawasaki  brand_Mahindra  brand_Royal  \\\n",
       "0               0          0               0               0            0   \n",
       "1               0          0               0               0            1   \n",
       "5               0          1               0               0            0   \n",
       "6               0          0               0               0            0   \n",
       "10              0          0               0               0            1   \n",
       "\n",
       "    brand_Suzuki  brand_TVS  brand_UM  brand_Yamaha  \n",
       "0              0          0         0             0  \n",
       "1              0          0         0             0  \n",
       "5              0          0         0             0  \n",
       "6              0          0         0             0  \n",
       "10             0          0         0             0  "
      ]
     },
     "execution_count": 67,
     "metadata": {},
     "output_type": "execute_result"
    }
   ],
   "source": [
    "X_cat_encoded.head()"
   ]
  },
  {
   "cell_type": "code",
   "execution_count": 68,
   "id": "4309ec72-18bb-4e2a-acec-0859971f1f15",
   "metadata": {
    "tags": []
   },
   "outputs": [],
   "source": [
    "X = pd.concat([X_num_scaled,X_cat_encoded],axis = 1)"
   ]
  },
  {
   "cell_type": "code",
   "execution_count": 69,
   "id": "e776015f-34e2-46c2-9ebf-dada191463be",
   "metadata": {
    "tags": []
   },
   "outputs": [
    {
     "data": {
      "text/html": [
       "<div>\n",
       "<style scoped>\n",
       "    .dataframe tbody tr th:only-of-type {\n",
       "        vertical-align: middle;\n",
       "    }\n",
       "\n",
       "    .dataframe tbody tr th {\n",
       "        vertical-align: top;\n",
       "    }\n",
       "\n",
       "    .dataframe thead th {\n",
       "        text-align: right;\n",
       "    }\n",
       "</style>\n",
       "<table border=\"1\" class=\"dataframe\">\n",
       "  <thead>\n",
       "    <tr style=\"text-align: right;\">\n",
       "      <th></th>\n",
       "      <th>kms_driven</th>\n",
       "      <th>mileage</th>\n",
       "      <th>power</th>\n",
       "      <th>model_elapsed_years</th>\n",
       "      <th>owner_first owner</th>\n",
       "      <th>owner_fourth owner or more</th>\n",
       "      <th>owner_second owner</th>\n",
       "      <th>owner_third owner</th>\n",
       "      <th>brand_</th>\n",
       "      <th>brand_Bajaj</th>\n",
       "      <th>...</th>\n",
       "      <th>brand_Husqvarna</th>\n",
       "      <th>brand_Hyosung</th>\n",
       "      <th>brand_KTM</th>\n",
       "      <th>brand_Kawasaki</th>\n",
       "      <th>brand_Mahindra</th>\n",
       "      <th>brand_Royal</th>\n",
       "      <th>brand_Suzuki</th>\n",
       "      <th>brand_TVS</th>\n",
       "      <th>brand_UM</th>\n",
       "      <th>brand_Yamaha</th>\n",
       "    </tr>\n",
       "  </thead>\n",
       "  <tbody>\n",
       "    <tr>\n",
       "      <th>0</th>\n",
       "      <td>0.283074</td>\n",
       "      <td>0.288889</td>\n",
       "      <td>0.380421</td>\n",
       "      <td>0.307692</td>\n",
       "      <td>1</td>\n",
       "      <td>0</td>\n",
       "      <td>0</td>\n",
       "      <td>0</td>\n",
       "      <td>0</td>\n",
       "      <td>1</td>\n",
       "      <td>...</td>\n",
       "      <td>0</td>\n",
       "      <td>0</td>\n",
       "      <td>0</td>\n",
       "      <td>0</td>\n",
       "      <td>0</td>\n",
       "      <td>0</td>\n",
       "      <td>0</td>\n",
       "      <td>0</td>\n",
       "      <td>0</td>\n",
       "      <td>0</td>\n",
       "    </tr>\n",
       "    <tr>\n",
       "      <th>1</th>\n",
       "      <td>0.832570</td>\n",
       "      <td>0.288889</td>\n",
       "      <td>0.405204</td>\n",
       "      <td>0.384615</td>\n",
       "      <td>1</td>\n",
       "      <td>0</td>\n",
       "      <td>0</td>\n",
       "      <td>0</td>\n",
       "      <td>0</td>\n",
       "      <td>0</td>\n",
       "      <td>...</td>\n",
       "      <td>0</td>\n",
       "      <td>0</td>\n",
       "      <td>0</td>\n",
       "      <td>0</td>\n",
       "      <td>0</td>\n",
       "      <td>1</td>\n",
       "      <td>0</td>\n",
       "      <td>0</td>\n",
       "      <td>0</td>\n",
       "      <td>0</td>\n",
       "    </tr>\n",
       "    <tr>\n",
       "      <th>5</th>\n",
       "      <td>0.408975</td>\n",
       "      <td>0.288889</td>\n",
       "      <td>0.566295</td>\n",
       "      <td>0.692308</td>\n",
       "      <td>0</td>\n",
       "      <td>0</td>\n",
       "      <td>0</td>\n",
       "      <td>1</td>\n",
       "      <td>0</td>\n",
       "      <td>0</td>\n",
       "      <td>...</td>\n",
       "      <td>0</td>\n",
       "      <td>0</td>\n",
       "      <td>1</td>\n",
       "      <td>0</td>\n",
       "      <td>0</td>\n",
       "      <td>0</td>\n",
       "      <td>0</td>\n",
       "      <td>0</td>\n",
       "      <td>0</td>\n",
       "      <td>0</td>\n",
       "    </tr>\n",
       "    <tr>\n",
       "      <th>6</th>\n",
       "      <td>0.328332</td>\n",
       "      <td>0.955556</td>\n",
       "      <td>0.318463</td>\n",
       "      <td>0.384615</td>\n",
       "      <td>1</td>\n",
       "      <td>0</td>\n",
       "      <td>0</td>\n",
       "      <td>0</td>\n",
       "      <td>0</td>\n",
       "      <td>1</td>\n",
       "      <td>...</td>\n",
       "      <td>0</td>\n",
       "      <td>0</td>\n",
       "      <td>0</td>\n",
       "      <td>0</td>\n",
       "      <td>0</td>\n",
       "      <td>0</td>\n",
       "      <td>0</td>\n",
       "      <td>0</td>\n",
       "      <td>0</td>\n",
       "      <td>0</td>\n",
       "    </tr>\n",
       "    <tr>\n",
       "      <th>10</th>\n",
       "      <td>0.416285</td>\n",
       "      <td>0.288889</td>\n",
       "      <td>0.405204</td>\n",
       "      <td>0.230769</td>\n",
       "      <td>1</td>\n",
       "      <td>0</td>\n",
       "      <td>0</td>\n",
       "      <td>0</td>\n",
       "      <td>0</td>\n",
       "      <td>0</td>\n",
       "      <td>...</td>\n",
       "      <td>0</td>\n",
       "      <td>0</td>\n",
       "      <td>0</td>\n",
       "      <td>0</td>\n",
       "      <td>0</td>\n",
       "      <td>1</td>\n",
       "      <td>0</td>\n",
       "      <td>0</td>\n",
       "      <td>0</td>\n",
       "      <td>0</td>\n",
       "    </tr>\n",
       "  </tbody>\n",
       "</table>\n",
       "<p>5 rows × 24 columns</p>\n",
       "</div>"
      ],
      "text/plain": [
       "    kms_driven   mileage     power  model_elapsed_years  owner_first owner  \\\n",
       "0     0.283074  0.288889  0.380421             0.307692                  1   \n",
       "1     0.832570  0.288889  0.405204             0.384615                  1   \n",
       "5     0.408975  0.288889  0.566295             0.692308                  0   \n",
       "6     0.328332  0.955556  0.318463             0.384615                  1   \n",
       "10    0.416285  0.288889  0.405204             0.230769                  1   \n",
       "\n",
       "    owner_fourth owner or more  owner_second owner  owner_third owner  brand_  \\\n",
       "0                            0                   0                  0       0   \n",
       "1                            0                   0                  0       0   \n",
       "5                            0                   0                  1       0   \n",
       "6                            0                   0                  0       0   \n",
       "10                           0                   0                  0       0   \n",
       "\n",
       "    brand_Bajaj  ...  brand_Husqvarna  brand_Hyosung  brand_KTM  \\\n",
       "0             1  ...                0              0          0   \n",
       "1             0  ...                0              0          0   \n",
       "5             0  ...                0              0          1   \n",
       "6             1  ...                0              0          0   \n",
       "10            0  ...                0              0          0   \n",
       "\n",
       "    brand_Kawasaki  brand_Mahindra  brand_Royal  brand_Suzuki  brand_TVS  \\\n",
       "0                0               0            0             0          0   \n",
       "1                0               0            1             0          0   \n",
       "5                0               0            0             0          0   \n",
       "6                0               0            0             0          0   \n",
       "10               0               0            1             0          0   \n",
       "\n",
       "    brand_UM  brand_Yamaha  \n",
       "0          0             0  \n",
       "1          0             0  \n",
       "5          0             0  \n",
       "6          0             0  \n",
       "10         0             0  \n",
       "\n",
       "[5 rows x 24 columns]"
      ]
     },
     "execution_count": 69,
     "metadata": {},
     "output_type": "execute_result"
    }
   ],
   "source": [
    "X.head()"
   ]
  },
  {
   "cell_type": "code",
   "execution_count": 70,
   "id": "535793cf-e1ad-4a56-8e4d-89d9611e38cd",
   "metadata": {
    "tags": []
   },
   "outputs": [],
   "source": [
    "X_train,X_test,y_train,y_test = train_test_split(X,y,test_size = 0.2,random_state = 42)"
   ]
  },
  {
   "cell_type": "code",
   "execution_count": 71,
   "id": "104a209f-14fb-42f5-a204-236b3fa6401a",
   "metadata": {
    "tags": []
   },
   "outputs": [
    {
     "data": {
      "text/plain": [
       "((2896, 24), (724, 24), (2896,), (724,))"
      ]
     },
     "execution_count": 71,
     "metadata": {},
     "output_type": "execute_result"
    }
   ],
   "source": [
    "X_train.shape,X_test.shape,y_train.shape,y_test.shape"
   ]
  },
  {
   "cell_type": "code",
   "execution_count": 87,
   "id": "1a301af7-f4f6-4ecd-bc01-c6e5667b1351",
   "metadata": {
    "tags": []
   },
   "outputs": [],
   "source": [
    "#knn modeling\n",
    "k_values = np.arange(1,22,2)\n",
    "train_mape_values = []\n",
    "test_mape_values = []\n",
    "cv_mape_values = []"
   ]
  },
  {
   "cell_type": "code",
   "execution_count": 88,
   "id": "d35f78c8-e43a-4e66-a808-91b62716e5fc",
   "metadata": {
    "tags": []
   },
   "outputs": [
    {
     "data": {
      "text/plain": [
       "array([ 1,  3,  5,  7,  9, 11, 13, 15, 17, 19, 21])"
      ]
     },
     "execution_count": 88,
     "metadata": {},
     "output_type": "execute_result"
    }
   ],
   "source": [
    "k_values"
   ]
  },
  {
   "cell_type": "code",
   "execution_count": 89,
   "id": "0e036b1d-ad96-4c79-baf6-52670a28d0d2",
   "metadata": {
    "tags": []
   },
   "outputs": [],
   "source": [
    "for i in k_values:\n",
    "    \n",
    "    #Training the model\n",
    "    model = KNeighborsRegressor(n_neighbors = i)\n",
    "    model.fit(X_train,y_train)\n",
    "    \n",
    "    #Predicting the y_hat_train and measuring the error\n",
    "    pred_y_train = model.predict(X_train)\n",
    "    error_train = mean_absolute_percentage_error(y_train,pred_y_train)\n",
    "    train_mape_values.append(error_train)\n",
    "    \n",
    "    #Predicting the y_hat_test and measuring the error\n",
    "    pred_y_test = model.predict(X_test)\n",
    "    error_test = mean_absolute_percentage_error(y_test,pred_y_test)\n",
    "    test_mape_values.append(error_test)\n",
    "    \n",
    "    #CV values\n",
    "    cv_values = -cross_val_score(model,X,y,cv = 5,scoring = 'neg_mean_absolute_percentage_error')\n",
    "    cv_mape = np.mean(cv_values)\n",
    "    cv_mape_values.append(cv_mape)"
   ]
  },
  {
   "cell_type": "code",
   "execution_count": 75,
   "id": "2ad1c6d0-515e-4221-8fb7-d1070abbc689",
   "metadata": {
    "tags": []
   },
   "outputs": [],
   "source": [
    "for i in k_values:\n",
    "    #Training the dataset on the X_train and y_train\n",
    "    model = KNeighborsRegressor(n_neighbors = i)\n",
    "    model.fit(X_train,y_train)\n",
    "    \n",
    "    #Predicting the y_train and cal the error\n",
    "    pred_train = model.predict(X_train)\n",
    "    error_train = mean_absolute_percentage_error(y_train,pred_train)\n",
    "    train_mape_values.append(error_train)\n",
    "    \n",
    "    #Predicting the y_test values using the X_test and cal the error\n",
    "    pred_test = model.predict(X_test)\n",
    "    error_test = mean_absolute_percentage_error(y_test,pred_test)\n",
    "    test_mape_values.append(error_test)\n",
    "    \n",
    "    #using CV calues\n",
    "    cv_scores = -cross_val_score(model,X,y,cv = 5,scoring = 'neg_mean_absolute_percentage_error')\n",
    "    cv_mape = np.mean(cv_scores)\n",
    "    cv_mape_values.append(cv_mape)"
   ]
  },
  {
   "cell_type": "code",
   "execution_count": 90,
   "id": "7183eb23-ec7d-4150-b8e4-9fb5241bf69b",
   "metadata": {
    "tags": []
   },
   "outputs": [
    {
     "data": {
      "text/plain": [
       "[0.012868783666178267,\n",
       " 4.754568522351094e+17,\n",
       " 5.981312152894068e+17,\n",
       " 6.28829982599419e+17,\n",
       " 6.382919405576538e+17,\n",
       " 6.674472911212207e+17,\n",
       " 6.845903275790117e+17,\n",
       " 6.866908111663729e+17,\n",
       " 6.851786096470341e+17,\n",
       " 6.81516233251978e+17,\n",
       " 6.869897774320863e+17]"
      ]
     },
     "execution_count": 90,
     "metadata": {},
     "output_type": "execute_result"
    }
   ],
   "source": [
    "train_mape_values\n"
   ]
  },
  {
   "cell_type": "code",
   "execution_count": 91,
   "id": "54561924-bc8d-4c92-bbea-f5db40cd3ee6",
   "metadata": {
    "tags": []
   },
   "outputs": [
    {
     "data": {
      "text/plain": [
       "[0.2054630248400102,\n",
       " 0.1760180869805239,\n",
       " 0.1677628511268936,\n",
       " 0.17022131662781237,\n",
       " 0.17257931857818296,\n",
       " 0.1747991438785906,\n",
       " 0.1763279151146808,\n",
       " 0.1772919676548118,\n",
       " 0.17882395924126776,\n",
       " 0.18123769029443404,\n",
       " 0.1834412693556475]"
      ]
     },
     "execution_count": 91,
     "metadata": {},
     "output_type": "execute_result"
    }
   ],
   "source": [
    "test_mape_values"
   ]
  },
  {
   "cell_type": "code",
   "execution_count": 92,
   "id": "7eeb60ab-3063-4c41-839c-f3f84593880d",
   "metadata": {
    "tags": []
   },
   "outputs": [
    {
     "data": {
      "text/plain": [
       "[5.573515560944703e+17,\n",
       " 5.696265606036937e+17,\n",
       " 5.92293019943732e+17,\n",
       " 6.03530336330448e+17,\n",
       " 5.999570185361293e+17,\n",
       " 6.133826916191566e+17,\n",
       " 6.107939526756014e+17,\n",
       " 6.013460016477236e+17,\n",
       " 5.937650691232015e+17,\n",
       " 5.909093318465294e+17,\n",
       " 5.837115950973298e+17]"
      ]
     },
     "execution_count": 92,
     "metadata": {},
     "output_type": "execute_result"
    }
   ],
   "source": [
    "\n",
    "cv_mape_values"
   ]
  },
  {
   "cell_type": "code",
   "execution_count": 93,
   "id": "52f85a0c-5f12-499d-afd7-02fb38adbab9",
   "metadata": {
    "tags": []
   },
   "outputs": [
    {
     "name": "stderr",
     "output_type": "stream",
     "text": [
      "C:\\Users\\chall\\anaconda3\\Lib\\site-packages\\seaborn\\_oldcore.py:1498: FutureWarning: is_categorical_dtype is deprecated and will be removed in a future version. Use isinstance(dtype, CategoricalDtype) instead\n",
      "  if pd.api.types.is_categorical_dtype(vector):\n",
      "C:\\Users\\chall\\anaconda3\\Lib\\site-packages\\seaborn\\_oldcore.py:1498: FutureWarning: is_categorical_dtype is deprecated and will be removed in a future version. Use isinstance(dtype, CategoricalDtype) instead\n",
      "  if pd.api.types.is_categorical_dtype(vector):\n",
      "C:\\Users\\chall\\anaconda3\\Lib\\site-packages\\seaborn\\_oldcore.py:1119: FutureWarning: use_inf_as_na option is deprecated and will be removed in a future version. Convert inf values to NaN before operating instead.\n",
      "  with pd.option_context('mode.use_inf_as_na', True):\n",
      "C:\\Users\\chall\\anaconda3\\Lib\\site-packages\\seaborn\\_oldcore.py:1119: FutureWarning: use_inf_as_na option is deprecated and will be removed in a future version. Convert inf values to NaN before operating instead.\n",
      "  with pd.option_context('mode.use_inf_as_na', True):\n",
      "C:\\Users\\chall\\anaconda3\\Lib\\site-packages\\seaborn\\_oldcore.py:1498: FutureWarning: is_categorical_dtype is deprecated and will be removed in a future version. Use isinstance(dtype, CategoricalDtype) instead\n",
      "  if pd.api.types.is_categorical_dtype(vector):\n",
      "C:\\Users\\chall\\anaconda3\\Lib\\site-packages\\seaborn\\_oldcore.py:1498: FutureWarning: is_categorical_dtype is deprecated and will be removed in a future version. Use isinstance(dtype, CategoricalDtype) instead\n",
      "  if pd.api.types.is_categorical_dtype(vector):\n",
      "C:\\Users\\chall\\anaconda3\\Lib\\site-packages\\seaborn\\_oldcore.py:1119: FutureWarning: use_inf_as_na option is deprecated and will be removed in a future version. Convert inf values to NaN before operating instead.\n",
      "  with pd.option_context('mode.use_inf_as_na', True):\n",
      "C:\\Users\\chall\\anaconda3\\Lib\\site-packages\\seaborn\\_oldcore.py:1119: FutureWarning: use_inf_as_na option is deprecated and will be removed in a future version. Convert inf values to NaN before operating instead.\n",
      "  with pd.option_context('mode.use_inf_as_na', True):\n",
      "C:\\Users\\chall\\anaconda3\\Lib\\site-packages\\seaborn\\_oldcore.py:1498: FutureWarning: is_categorical_dtype is deprecated and will be removed in a future version. Use isinstance(dtype, CategoricalDtype) instead\n",
      "  if pd.api.types.is_categorical_dtype(vector):\n",
      "C:\\Users\\chall\\anaconda3\\Lib\\site-packages\\seaborn\\_oldcore.py:1498: FutureWarning: is_categorical_dtype is deprecated and will be removed in a future version. Use isinstance(dtype, CategoricalDtype) instead\n",
      "  if pd.api.types.is_categorical_dtype(vector):\n",
      "C:\\Users\\chall\\anaconda3\\Lib\\site-packages\\seaborn\\_oldcore.py:1119: FutureWarning: use_inf_as_na option is deprecated and will be removed in a future version. Convert inf values to NaN before operating instead.\n",
      "  with pd.option_context('mode.use_inf_as_na', True):\n",
      "C:\\Users\\chall\\anaconda3\\Lib\\site-packages\\seaborn\\_oldcore.py:1119: FutureWarning: use_inf_as_na option is deprecated and will be removed in a future version. Convert inf values to NaN before operating instead.\n",
      "  with pd.option_context('mode.use_inf_as_na', True):\n"
     ]
    },
    {
     "data": {
      "image/png": "[encoded data removed]",
      "text/plain": [
       "<Figure size 640x480 with 1 Axes>"
      ]
     },
     "metadata": {},
     "output_type": "display_data"
    },
    {
     "name": "stdout",
     "output_type": "stream",
     "text": [
      "The best k_value:  1\n"
     ]
    }
   ],
   "source": [
    "sns.lineplot(x = k_values,y = train_mape_values,marker = 'o',color = 'Red',label = 'train_mape_values')\n",
    "sns.lineplot(x = k_values,y = test_mape_values,marker = 'o',color = 'Blue',label = 'test_mape_values')\n",
    "sns.lineplot(x = k_values,y = cv_mape_values,marker = 'o',color = 'Orange',label = 'cv_mape_values')\n",
    "\n",
    "plt.show()\n",
    "\n",
    "#best_cv_value_is\n",
    "best_k_cv = k_values[np.argmin(cv_mape_values)]\n",
    "print(\"The best k_value: \",best_k_cv)"
   ]
  },
  {
   "cell_type": "code",
   "execution_count": null,
   "id": "a1bf5560-1e6e-4eda-ab81-ad1e6a799acd",
   "metadata": {},
   "outputs": [],
   "source": []
  }
 ],
 "metadata": {
  "kernelspec": {
   "display_name": "Python 3 (ipykernel)",
   "language": "python",
   "name": "python3"
  },
  "language_info": {
   "codemirror_mode": {
    "name": "ipython",
    "version": 3
   },
   "file_extension": ".py",
   "mimetype": "text/x-python",
   "name": "python",
   "nbconvert_exporter": "python",
   "pygments_lexer": "ipython3",
   "version": "3.11.3"
  }
 },
 "nbformat": 4,
 "nbformat_minor": 5
}
