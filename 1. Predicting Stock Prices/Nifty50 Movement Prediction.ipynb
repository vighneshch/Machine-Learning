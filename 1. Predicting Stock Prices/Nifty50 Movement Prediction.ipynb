{
 "cells": [
  {
   "cell_type": "code",
   "execution_count": 1,
   "id": "e58b1b51-55b7-4309-8d2c-b302b697a268",
   "metadata": {},
   "outputs": [],
   "source": [
    "#Importing the necessary libraries\n",
    "\n",
    "import numpy as np\n",
    "import pandas as pd\n",
    "import seaborn as sns\n",
    "import matplotlib.pyplot as plt\n",
    "\n",
    "from sklearn.metrics import precision_score,accuracy_score,confusion_matrix,roc_auc_score"
   ]
  },
  {
   "cell_type": "code",
   "execution_count": 2,
   "id": "bcfd47a5-558a-4048-896c-d5ea4947c1ad",
   "metadata": {},
   "outputs": [],
   "source": [
    "#Loading the Dataset\n",
    "\n",
    "df = pd.read_csv('^NSEI.csv')"
   ]
  },
  {
   "cell_type": "code",
   "execution_count": 3,
   "id": "69eafea9-e53e-4f85-82b7-afd28bf7b4ca",
   "metadata": {},
   "outputs": [
    {
     "data": {
      "text/html": [
       "<div>\n",
       "<style scoped>\n",
       "    .dataframe tbody tr th:only-of-type {\n",
       "        vertical-align: middle;\n",
       "    }\n",
       "\n",
       "    .dataframe tbody tr th {\n",
       "        vertical-align: top;\n",
       "    }\n",
       "\n",
       "    .dataframe thead th {\n",
       "        text-align: right;\n",
       "    }\n",
       "</style>\n",
       "<table border=\"1\" class=\"dataframe\">\n",
       "  <thead>\n",
       "    <tr style=\"text-align: right;\">\n",
       "      <th></th>\n",
       "      <th>Date</th>\n",
       "      <th>Open</th>\n",
       "      <th>High</th>\n",
       "      <th>Low</th>\n",
       "      <th>Close</th>\n",
       "      <th>Adj Close</th>\n",
       "      <th>Volume</th>\n",
       "    </tr>\n",
       "  </thead>\n",
       "  <tbody>\n",
       "    <tr>\n",
       "      <th>0</th>\n",
       "      <td>2007-09-17</td>\n",
       "      <td>4518.450195</td>\n",
       "      <td>4855.700195</td>\n",
       "      <td>4481.549805</td>\n",
       "      <td>4837.549805</td>\n",
       "      <td>4837.549805</td>\n",
       "      <td>0</td>\n",
       "    </tr>\n",
       "    <tr>\n",
       "      <th>1</th>\n",
       "      <td>2007-09-24</td>\n",
       "      <td>4837.149902</td>\n",
       "      <td>5055.799805</td>\n",
       "      <td>4837.149902</td>\n",
       "      <td>5021.350098</td>\n",
       "      <td>5021.350098</td>\n",
       "      <td>0</td>\n",
       "    </tr>\n",
       "    <tr>\n",
       "      <th>2</th>\n",
       "      <td>2007-10-01</td>\n",
       "      <td>5021.500000</td>\n",
       "      <td>5261.350098</td>\n",
       "      <td>5001.350098</td>\n",
       "      <td>5185.850098</td>\n",
       "      <td>5185.850098</td>\n",
       "      <td>0</td>\n",
       "    </tr>\n",
       "    <tr>\n",
       "      <th>3</th>\n",
       "      <td>2007-10-08</td>\n",
       "      <td>5186.250000</td>\n",
       "      <td>5549.299805</td>\n",
       "      <td>5000.950195</td>\n",
       "      <td>5428.250000</td>\n",
       "      <td>5428.250000</td>\n",
       "      <td>0</td>\n",
       "    </tr>\n",
       "    <tr>\n",
       "      <th>4</th>\n",
       "      <td>2007-10-15</td>\n",
       "      <td>5428.350098</td>\n",
       "      <td>5736.799805</td>\n",
       "      <td>5101.750000</td>\n",
       "      <td>5215.299805</td>\n",
       "      <td>5215.299805</td>\n",
       "      <td>0</td>\n",
       "    </tr>\n",
       "  </tbody>\n",
       "</table>\n",
       "</div>"
      ],
      "text/plain": [
       "         Date         Open         High          Low        Close  \\\n",
       "0  2007-09-17  4518.450195  4855.700195  4481.549805  4837.549805   \n",
       "1  2007-09-24  4837.149902  5055.799805  4837.149902  5021.350098   \n",
       "2  2007-10-01  5021.500000  5261.350098  5001.350098  5185.850098   \n",
       "3  2007-10-08  5186.250000  5549.299805  5000.950195  5428.250000   \n",
       "4  2007-10-15  5428.350098  5736.799805  5101.750000  5215.299805   \n",
       "\n",
       "     Adj Close  Volume  \n",
       "0  4837.549805       0  \n",
       "1  5021.350098       0  \n",
       "2  5185.850098       0  \n",
       "3  5428.250000       0  \n",
       "4  5215.299805       0  "
      ]
     },
     "execution_count": 3,
     "metadata": {},
     "output_type": "execute_result"
    }
   ],
   "source": [
    "df.head()"
   ]
  },
  {
   "cell_type": "code",
   "execution_count": 4,
   "id": "6830fc48-7a1f-48d1-96b0-fcfdffcc3678",
   "metadata": {},
   "outputs": [
    {
     "data": {
      "text/html": [
       "<div>\n",
       "<style scoped>\n",
       "    .dataframe tbody tr th:only-of-type {\n",
       "        vertical-align: middle;\n",
       "    }\n",
       "\n",
       "    .dataframe tbody tr th {\n",
       "        vertical-align: top;\n",
       "    }\n",
       "\n",
       "    .dataframe thead th {\n",
       "        text-align: right;\n",
       "    }\n",
       "</style>\n",
       "<table border=\"1\" class=\"dataframe\">\n",
       "  <thead>\n",
       "    <tr style=\"text-align: right;\">\n",
       "      <th></th>\n",
       "      <th>Date</th>\n",
       "      <th>Open</th>\n",
       "      <th>High</th>\n",
       "      <th>Low</th>\n",
       "      <th>Close</th>\n",
       "      <th>Adj Close</th>\n",
       "      <th>Volume</th>\n",
       "    </tr>\n",
       "  </thead>\n",
       "  <tbody>\n",
       "    <tr>\n",
       "      <th>834</th>\n",
       "      <td>2023-09-11</td>\n",
       "      <td>19890.000000</td>\n",
       "      <td>20222.449219</td>\n",
       "      <td>19865.349609</td>\n",
       "      <td>20192.349609</td>\n",
       "      <td>20192.349609</td>\n",
       "      <td>1541600</td>\n",
       "    </tr>\n",
       "    <tr>\n",
       "      <th>835</th>\n",
       "      <td>2023-09-18</td>\n",
       "      <td>20155.949219</td>\n",
       "      <td>20195.349609</td>\n",
       "      <td>19657.500000</td>\n",
       "      <td>19674.250000</td>\n",
       "      <td>19674.250000</td>\n",
       "      <td>1164500</td>\n",
       "    </tr>\n",
       "    <tr>\n",
       "      <th>836</th>\n",
       "      <td>2023-09-25</td>\n",
       "      <td>19678.199219</td>\n",
       "      <td>19766.650391</td>\n",
       "      <td>19492.099609</td>\n",
       "      <td>19638.300781</td>\n",
       "      <td>19638.300781</td>\n",
       "      <td>1193200</td>\n",
       "    </tr>\n",
       "    <tr>\n",
       "      <th>837</th>\n",
       "      <td>2023-10-02</td>\n",
       "      <td>19622.400391</td>\n",
       "      <td>19675.750000</td>\n",
       "      <td>19333.599609</td>\n",
       "      <td>19653.500000</td>\n",
       "      <td>19653.500000</td>\n",
       "      <td>892800</td>\n",
       "    </tr>\n",
       "    <tr>\n",
       "      <th>838</th>\n",
       "      <td>2023-10-09</td>\n",
       "      <td>19539.449219</td>\n",
       "      <td>19717.800781</td>\n",
       "      <td>19480.500000</td>\n",
       "      <td>19689.849609</td>\n",
       "      <td>19689.849609</td>\n",
       "      <td>381700</td>\n",
       "    </tr>\n",
       "  </tbody>\n",
       "</table>\n",
       "</div>"
      ],
      "text/plain": [
       "           Date          Open          High           Low         Close  \\\n",
       "834  2023-09-11  19890.000000  20222.449219  19865.349609  20192.349609   \n",
       "835  2023-09-18  20155.949219  20195.349609  19657.500000  19674.250000   \n",
       "836  2023-09-25  19678.199219  19766.650391  19492.099609  19638.300781   \n",
       "837  2023-10-02  19622.400391  19675.750000  19333.599609  19653.500000   \n",
       "838  2023-10-09  19539.449219  19717.800781  19480.500000  19689.849609   \n",
       "\n",
       "        Adj Close   Volume  \n",
       "834  20192.349609  1541600  \n",
       "835  19674.250000  1164500  \n",
       "836  19638.300781  1193200  \n",
       "837  19653.500000   892800  \n",
       "838  19689.849609   381700  "
      ]
     },
     "execution_count": 4,
     "metadata": {},
     "output_type": "execute_result"
    }
   ],
   "source": [
    "df.tail()"
   ]
  },
  {
   "cell_type": "code",
   "execution_count": 5,
   "id": "cf3b4392-2cdf-4cdf-9b58-b21a018b1426",
   "metadata": {},
   "outputs": [],
   "source": [
    "#Adding the next weeks close to the separate column for comparison\n",
    "df['Next_Week'] = df['Adj Close'].shift(-1)"
   ]
  },
  {
   "cell_type": "code",
   "execution_count": 6,
   "id": "f716506e-1d3c-4b3d-86b0-88a4a8731465",
   "metadata": {},
   "outputs": [
    {
     "data": {
      "text/html": [
       "<div>\n",
       "<style scoped>\n",
       "    .dataframe tbody tr th:only-of-type {\n",
       "        vertical-align: middle;\n",
       "    }\n",
       "\n",
       "    .dataframe tbody tr th {\n",
       "        vertical-align: top;\n",
       "    }\n",
       "\n",
       "    .dataframe thead th {\n",
       "        text-align: right;\n",
       "    }\n",
       "</style>\n",
       "<table border=\"1\" class=\"dataframe\">\n",
       "  <thead>\n",
       "    <tr style=\"text-align: right;\">\n",
       "      <th></th>\n",
       "      <th>Date</th>\n",
       "      <th>Open</th>\n",
       "      <th>High</th>\n",
       "      <th>Low</th>\n",
       "      <th>Close</th>\n",
       "      <th>Adj Close</th>\n",
       "      <th>Volume</th>\n",
       "      <th>Next_Week</th>\n",
       "    </tr>\n",
       "  </thead>\n",
       "  <tbody>\n",
       "    <tr>\n",
       "      <th>0</th>\n",
       "      <td>2007-09-17</td>\n",
       "      <td>4518.450195</td>\n",
       "      <td>4855.700195</td>\n",
       "      <td>4481.549805</td>\n",
       "      <td>4837.549805</td>\n",
       "      <td>4837.549805</td>\n",
       "      <td>0</td>\n",
       "      <td>5021.350098</td>\n",
       "    </tr>\n",
       "    <tr>\n",
       "      <th>1</th>\n",
       "      <td>2007-09-24</td>\n",
       "      <td>4837.149902</td>\n",
       "      <td>5055.799805</td>\n",
       "      <td>4837.149902</td>\n",
       "      <td>5021.350098</td>\n",
       "      <td>5021.350098</td>\n",
       "      <td>0</td>\n",
       "      <td>5185.850098</td>\n",
       "    </tr>\n",
       "    <tr>\n",
       "      <th>2</th>\n",
       "      <td>2007-10-01</td>\n",
       "      <td>5021.500000</td>\n",
       "      <td>5261.350098</td>\n",
       "      <td>5001.350098</td>\n",
       "      <td>5185.850098</td>\n",
       "      <td>5185.850098</td>\n",
       "      <td>0</td>\n",
       "      <td>5428.250000</td>\n",
       "    </tr>\n",
       "    <tr>\n",
       "      <th>3</th>\n",
       "      <td>2007-10-08</td>\n",
       "      <td>5186.250000</td>\n",
       "      <td>5549.299805</td>\n",
       "      <td>5000.950195</td>\n",
       "      <td>5428.250000</td>\n",
       "      <td>5428.250000</td>\n",
       "      <td>0</td>\n",
       "      <td>5215.299805</td>\n",
       "    </tr>\n",
       "    <tr>\n",
       "      <th>4</th>\n",
       "      <td>2007-10-15</td>\n",
       "      <td>5428.350098</td>\n",
       "      <td>5736.799805</td>\n",
       "      <td>5101.750000</td>\n",
       "      <td>5215.299805</td>\n",
       "      <td>5215.299805</td>\n",
       "      <td>0</td>\n",
       "      <td>5702.299805</td>\n",
       "    </tr>\n",
       "  </tbody>\n",
       "</table>\n",
       "</div>"
      ],
      "text/plain": [
       "         Date         Open         High          Low        Close  \\\n",
       "0  2007-09-17  4518.450195  4855.700195  4481.549805  4837.549805   \n",
       "1  2007-09-24  4837.149902  5055.799805  4837.149902  5021.350098   \n",
       "2  2007-10-01  5021.500000  5261.350098  5001.350098  5185.850098   \n",
       "3  2007-10-08  5186.250000  5549.299805  5000.950195  5428.250000   \n",
       "4  2007-10-15  5428.350098  5736.799805  5101.750000  5215.299805   \n",
       "\n",
       "     Adj Close  Volume    Next_Week  \n",
       "0  4837.549805       0  5021.350098  \n",
       "1  5021.350098       0  5185.850098  \n",
       "2  5185.850098       0  5428.250000  \n",
       "3  5428.250000       0  5215.299805  \n",
       "4  5215.299805       0  5702.299805  "
      ]
     },
     "execution_count": 6,
     "metadata": {},
     "output_type": "execute_result"
    }
   ],
   "source": [
    "df.head()"
   ]
  },
  {
   "cell_type": "code",
   "execution_count": 7,
   "id": "1eab0446-6759-4d27-9772-c37a2ba31ce8",
   "metadata": {},
   "outputs": [],
   "source": [
    "#Making the direction column 1 if Next_week's close is more than Adj 0 if Next Week's close is less than previous weeks close\n",
    "\n",
    "df['Direction'] = (df['Next_Week'] > df['Adj Close']).astype('int')"
   ]
  },
  {
   "cell_type": "code",
   "execution_count": 8,
   "id": "8bffcb95-6a72-47bc-8ae7-ed9d86c11e24",
   "metadata": {},
   "outputs": [
    {
     "data": {
      "text/html": [
       "<div>\n",
       "<style scoped>\n",
       "    .dataframe tbody tr th:only-of-type {\n",
       "        vertical-align: middle;\n",
       "    }\n",
       "\n",
       "    .dataframe tbody tr th {\n",
       "        vertical-align: top;\n",
       "    }\n",
       "\n",
       "    .dataframe thead th {\n",
       "        text-align: right;\n",
       "    }\n",
       "</style>\n",
       "<table border=\"1\" class=\"dataframe\">\n",
       "  <thead>\n",
       "    <tr style=\"text-align: right;\">\n",
       "      <th></th>\n",
       "      <th>Date</th>\n",
       "      <th>Open</th>\n",
       "      <th>High</th>\n",
       "      <th>Low</th>\n",
       "      <th>Close</th>\n",
       "      <th>Adj Close</th>\n",
       "      <th>Volume</th>\n",
       "      <th>Next_Week</th>\n",
       "      <th>Direction</th>\n",
       "    </tr>\n",
       "  </thead>\n",
       "  <tbody>\n",
       "    <tr>\n",
       "      <th>834</th>\n",
       "      <td>2023-09-11</td>\n",
       "      <td>19890.000000</td>\n",
       "      <td>20222.449219</td>\n",
       "      <td>19865.349609</td>\n",
       "      <td>20192.349609</td>\n",
       "      <td>20192.349609</td>\n",
       "      <td>1541600</td>\n",
       "      <td>19674.250000</td>\n",
       "      <td>0</td>\n",
       "    </tr>\n",
       "    <tr>\n",
       "      <th>835</th>\n",
       "      <td>2023-09-18</td>\n",
       "      <td>20155.949219</td>\n",
       "      <td>20195.349609</td>\n",
       "      <td>19657.500000</td>\n",
       "      <td>19674.250000</td>\n",
       "      <td>19674.250000</td>\n",
       "      <td>1164500</td>\n",
       "      <td>19638.300781</td>\n",
       "      <td>0</td>\n",
       "    </tr>\n",
       "    <tr>\n",
       "      <th>836</th>\n",
       "      <td>2023-09-25</td>\n",
       "      <td>19678.199219</td>\n",
       "      <td>19766.650391</td>\n",
       "      <td>19492.099609</td>\n",
       "      <td>19638.300781</td>\n",
       "      <td>19638.300781</td>\n",
       "      <td>1193200</td>\n",
       "      <td>19653.500000</td>\n",
       "      <td>1</td>\n",
       "    </tr>\n",
       "    <tr>\n",
       "      <th>837</th>\n",
       "      <td>2023-10-02</td>\n",
       "      <td>19622.400391</td>\n",
       "      <td>19675.750000</td>\n",
       "      <td>19333.599609</td>\n",
       "      <td>19653.500000</td>\n",
       "      <td>19653.500000</td>\n",
       "      <td>892800</td>\n",
       "      <td>19689.849609</td>\n",
       "      <td>1</td>\n",
       "    </tr>\n",
       "    <tr>\n",
       "      <th>838</th>\n",
       "      <td>2023-10-09</td>\n",
       "      <td>19539.449219</td>\n",
       "      <td>19717.800781</td>\n",
       "      <td>19480.500000</td>\n",
       "      <td>19689.849609</td>\n",
       "      <td>19689.849609</td>\n",
       "      <td>381700</td>\n",
       "      <td>NaN</td>\n",
       "      <td>0</td>\n",
       "    </tr>\n",
       "  </tbody>\n",
       "</table>\n",
       "</div>"
      ],
      "text/plain": [
       "           Date          Open          High           Low         Close  \\\n",
       "834  2023-09-11  19890.000000  20222.449219  19865.349609  20192.349609   \n",
       "835  2023-09-18  20155.949219  20195.349609  19657.500000  19674.250000   \n",
       "836  2023-09-25  19678.199219  19766.650391  19492.099609  19638.300781   \n",
       "837  2023-10-02  19622.400391  19675.750000  19333.599609  19653.500000   \n",
       "838  2023-10-09  19539.449219  19717.800781  19480.500000  19689.849609   \n",
       "\n",
       "        Adj Close   Volume     Next_Week  Direction  \n",
       "834  20192.349609  1541600  19674.250000          0  \n",
       "835  19674.250000  1164500  19638.300781          0  \n",
       "836  19638.300781  1193200  19653.500000          1  \n",
       "837  19653.500000   892800  19689.849609          1  \n",
       "838  19689.849609   381700           NaN          0  "
      ]
     },
     "execution_count": 8,
     "metadata": {},
     "output_type": "execute_result"
    }
   ],
   "source": [
    "df.tail()"
   ]
  },
  {
   "cell_type": "code",
   "execution_count": 9,
   "id": "7afc17e0-ccfb-47ca-a4b2-0e6fc3ac4b27",
   "metadata": {},
   "outputs": [
    {
     "data": {
      "text/plain": [
       "(839, 9)"
      ]
     },
     "execution_count": 9,
     "metadata": {},
     "output_type": "execute_result"
    }
   ],
   "source": [
    "df.shape"
   ]
  },
  {
   "cell_type": "code",
   "execution_count": 10,
   "id": "fe3458d0-997e-4ac7-807d-8ef1b1fb56e3",
   "metadata": {},
   "outputs": [],
   "source": [
    "#The ratio of the the rows to columns is healthy"
   ]
  },
  {
   "cell_type": "code",
   "execution_count": 11,
   "id": "829c1dcb-955a-41c0-a0e6-324497e69b39",
   "metadata": {},
   "outputs": [
    {
     "data": {
      "image/png": "[encoded data removed]",
      "text/plain": [
       "<Figure size 3000x1800 with 1 Axes>"
      ]
     },
     "metadata": {},
     "output_type": "display_data"
    }
   ],
   "source": [
    "#Bivariate Analysis\n",
    "plt.figure(figsize = (10,6),dpi = 300)\n",
    "sns.lineplot(data  = df,x = 'Date',y = 'Adj Close')\n",
    "plt.title('Nifty 50 Movement')\n",
    "plt.xticks(range(0, len(df['Date']), 100), df['Date'][::100], rotation=45)\n",
    "plt.show()"
   ]
  },
  {
   "cell_type": "code",
   "execution_count": 12,
   "id": "94569a5b-b05f-4c4e-bd09-1591f16a0a97",
   "metadata": {},
   "outputs": [],
   "source": [
    "train = df.iloc[0:400]\n",
    "train.head()\n",
    "X_train = train[['Open','High','Low','Adj Close']]\n",
    "y_train = train['Direction']"
   ]
  },
  {
   "cell_type": "code",
   "execution_count": 14,
   "id": "808dcbb2-d5a9-4bb3-b052-25da8dc30f68",
   "metadata": {},
   "outputs": [
    {
     "data": {
      "text/html": [
       "<div>\n",
       "<style scoped>\n",
       "    .dataframe tbody tr th:only-of-type {\n",
       "        vertical-align: middle;\n",
       "    }\n",
       "\n",
       "    .dataframe tbody tr th {\n",
       "        vertical-align: top;\n",
       "    }\n",
       "\n",
       "    .dataframe thead th {\n",
       "        text-align: right;\n",
       "    }\n",
       "</style>\n",
       "<table border=\"1\" class=\"dataframe\">\n",
       "  <thead>\n",
       "    <tr style=\"text-align: right;\">\n",
       "      <th></th>\n",
       "      <th>Open</th>\n",
       "      <th>High</th>\n",
       "      <th>Low</th>\n",
       "      <th>Adj Close</th>\n",
       "    </tr>\n",
       "  </thead>\n",
       "  <tbody>\n",
       "    <tr>\n",
       "      <th>0</th>\n",
       "      <td>0.303716</td>\n",
       "      <td>0.333104</td>\n",
       "      <td>0.337871</td>\n",
       "      <td>0.354680</td>\n",
       "    </tr>\n",
       "    <tr>\n",
       "      <th>1</th>\n",
       "      <td>0.353746</td>\n",
       "      <td>0.364404</td>\n",
       "      <td>0.391778</td>\n",
       "      <td>0.383608</td>\n",
       "    </tr>\n",
       "    <tr>\n",
       "      <th>2</th>\n",
       "      <td>0.382686</td>\n",
       "      <td>0.396556</td>\n",
       "      <td>0.416669</td>\n",
       "      <td>0.409498</td>\n",
       "    </tr>\n",
       "    <tr>\n",
       "      <th>3</th>\n",
       "      <td>0.408549</td>\n",
       "      <td>0.441597</td>\n",
       "      <td>0.416609</td>\n",
       "      <td>0.447649</td>\n",
       "    </tr>\n",
       "    <tr>\n",
       "      <th>4</th>\n",
       "      <td>0.446555</td>\n",
       "      <td>0.470925</td>\n",
       "      <td>0.431889</td>\n",
       "      <td>0.414133</td>\n",
       "    </tr>\n",
       "    <tr>\n",
       "      <th>...</th>\n",
       "      <td>...</td>\n",
       "      <td>...</td>\n",
       "      <td>...</td>\n",
       "      <td>...</td>\n",
       "    </tr>\n",
       "    <tr>\n",
       "      <th>395</th>\n",
       "      <td>0.976123</td>\n",
       "      <td>0.956586</td>\n",
       "      <td>0.961700</td>\n",
       "      <td>0.947787</td>\n",
       "    </tr>\n",
       "    <tr>\n",
       "      <th>396</th>\n",
       "      <td>0.947403</td>\n",
       "      <td>0.921907</td>\n",
       "      <td>0.912682</td>\n",
       "      <td>0.900452</td>\n",
       "    </tr>\n",
       "    <tr>\n",
       "      <th>397</th>\n",
       "      <td>0.902152</td>\n",
       "      <td>0.877250</td>\n",
       "      <td>0.893187</td>\n",
       "      <td>0.880976</td>\n",
       "    </tr>\n",
       "    <tr>\n",
       "      <th>398</th>\n",
       "      <td>0.886375</td>\n",
       "      <td>0.880566</td>\n",
       "      <td>0.870812</td>\n",
       "      <td>0.882550</td>\n",
       "    </tr>\n",
       "    <tr>\n",
       "      <th>399</th>\n",
       "      <td>0.888440</td>\n",
       "      <td>0.876984</td>\n",
       "      <td>0.884857</td>\n",
       "      <td>0.893701</td>\n",
       "    </tr>\n",
       "  </tbody>\n",
       "</table>\n",
       "<p>400 rows × 4 columns</p>\n",
       "</div>"
      ],
      "text/plain": [
       "         Open      High       Low  Adj Close\n",
       "0    0.303716  0.333104  0.337871   0.354680\n",
       "1    0.353746  0.364404  0.391778   0.383608\n",
       "2    0.382686  0.396556  0.416669   0.409498\n",
       "3    0.408549  0.441597  0.416609   0.447649\n",
       "4    0.446555  0.470925  0.431889   0.414133\n",
       "..        ...       ...       ...        ...\n",
       "395  0.976123  0.956586  0.961700   0.947787\n",
       "396  0.947403  0.921907  0.912682   0.900452\n",
       "397  0.902152  0.877250  0.893187   0.880976\n",
       "398  0.886375  0.880566  0.870812   0.882550\n",
       "399  0.888440  0.876984  0.884857   0.893701\n",
       "\n",
       "[400 rows x 4 columns]"
      ]
     },
     "execution_count": 14,
     "metadata": {},
     "output_type": "execute_result"
    }
   ],
   "source": [
    "#Scaling the train and test data separately\n",
    "\n",
    "from sklearn.preprocessing import MinMaxScaler\n",
    "\n",
    "train_scaler = MinMaxScaler()\n",
    "scaled_X_train = train_scaler.fit_transform(X_train)\n",
    "scaled_X_train = pd.DataFrame(scaled_X_train,columns = X_train.columns,index = X_train.index)\n",
    "scaled_X_train"
   ]
  },
  {
   "cell_type": "code",
   "execution_count": 16,
   "id": "38957f00-7c33-44f8-9f1e-0536cf638a30",
   "metadata": {},
   "outputs": [],
   "source": [
    "test = df.iloc[400:]\n",
    "test\n",
    "\n",
    "X_test = test[['Open','High','Low','Adj Close']]\n",
    "y_test = test['Direction']"
   ]
  },
  {
   "cell_type": "code",
   "execution_count": 20,
   "id": "8ac772f5-7d77-40e6-90db-38369c17064f",
   "metadata": {
    "tags": []
   },
   "outputs": [
    {
     "data": {
      "text/html": [
       "<div>\n",
       "<style scoped>\n",
       "    .dataframe tbody tr th:only-of-type {\n",
       "        vertical-align: middle;\n",
       "    }\n",
       "\n",
       "    .dataframe tbody tr th {\n",
       "        vertical-align: top;\n",
       "    }\n",
       "\n",
       "    .dataframe thead th {\n",
       "        text-align: right;\n",
       "    }\n",
       "</style>\n",
       "<table border=\"1\" class=\"dataframe\">\n",
       "  <thead>\n",
       "    <tr style=\"text-align: right;\">\n",
       "      <th></th>\n",
       "      <th>Open</th>\n",
       "      <th>High</th>\n",
       "      <th>Low</th>\n",
       "      <th>Adj Close</th>\n",
       "    </tr>\n",
       "  </thead>\n",
       "  <tbody>\n",
       "    <tr>\n",
       "      <th>400</th>\n",
       "      <td>0.894994</td>\n",
       "      <td>0.901510</td>\n",
       "      <td>0.912470</td>\n",
       "      <td>0.924643</td>\n",
       "    </tr>\n",
       "    <tr>\n",
       "      <th>401</th>\n",
       "      <td>0.919044</td>\n",
       "      <td>0.894370</td>\n",
       "      <td>0.912197</td>\n",
       "      <td>0.920661</td>\n",
       "    </tr>\n",
       "    <tr>\n",
       "      <th>402</th>\n",
       "      <td>0.915763</td>\n",
       "      <td>0.898006</td>\n",
       "      <td>0.879847</td>\n",
       "      <td>0.870462</td>\n",
       "    </tr>\n",
       "    <tr>\n",
       "      <th>403</th>\n",
       "      <td>0.869782</td>\n",
       "      <td>0.850439</td>\n",
       "      <td>0.862194</td>\n",
       "      <td>0.849719</td>\n",
       "    </tr>\n",
       "    <tr>\n",
       "      <th>404</th>\n",
       "      <td>0.848158</td>\n",
       "      <td>0.864165</td>\n",
       "      <td>0.862884</td>\n",
       "      <td>0.887814</td>\n",
       "    </tr>\n",
       "    <tr>\n",
       "      <th>...</th>\n",
       "      <td>...</td>\n",
       "      <td>...</td>\n",
       "      <td>...</td>\n",
       "      <td>...</td>\n",
       "    </tr>\n",
       "    <tr>\n",
       "      <th>834</th>\n",
       "      <td>2.716794</td>\n",
       "      <td>2.736769</td>\n",
       "      <td>2.669951</td>\n",
       "      <td>2.771332</td>\n",
       "    </tr>\n",
       "    <tr>\n",
       "      <th>835</th>\n",
       "      <td>2.758544</td>\n",
       "      <td>2.732530</td>\n",
       "      <td>2.638443</td>\n",
       "      <td>2.689789</td>\n",
       "    </tr>\n",
       "    <tr>\n",
       "      <th>836</th>\n",
       "      <td>2.683545</td>\n",
       "      <td>2.665473</td>\n",
       "      <td>2.613369</td>\n",
       "      <td>2.684132</td>\n",
       "    </tr>\n",
       "    <tr>\n",
       "      <th>837</th>\n",
       "      <td>2.674786</td>\n",
       "      <td>2.651254</td>\n",
       "      <td>2.589342</td>\n",
       "      <td>2.686524</td>\n",
       "    </tr>\n",
       "    <tr>\n",
       "      <th>838</th>\n",
       "      <td>2.661764</td>\n",
       "      <td>2.657832</td>\n",
       "      <td>2.611611</td>\n",
       "      <td>2.692245</td>\n",
       "    </tr>\n",
       "  </tbody>\n",
       "</table>\n",
       "<p>439 rows × 4 columns</p>\n",
       "</div>"
      ],
      "text/plain": [
       "         Open      High       Low  Adj Close\n",
       "400  0.894994  0.901510  0.912470   0.924643\n",
       "401  0.919044  0.894370  0.912197   0.920661\n",
       "402  0.915763  0.898006  0.879847   0.870462\n",
       "403  0.869782  0.850439  0.862194   0.849719\n",
       "404  0.848158  0.864165  0.862884   0.887814\n",
       "..        ...       ...       ...        ...\n",
       "834  2.716794  2.736769  2.669951   2.771332\n",
       "835  2.758544  2.732530  2.638443   2.689789\n",
       "836  2.683545  2.665473  2.613369   2.684132\n",
       "837  2.674786  2.651254  2.589342   2.686524\n",
       "838  2.661764  2.657832  2.611611   2.692245\n",
       "\n",
       "[439 rows x 4 columns]"
      ]
     },
     "execution_count": 20,
     "metadata": {},
     "output_type": "execute_result"
    }
   ],
   "source": [
    "#Testing data Scaling\n",
    "\n",
    "scaled_X_test = train_scaler.transform(X_test)\n",
    "scaled_X_test = pd.DataFrame(scaled_X_test,columns = X_test.columns,index = X_test.index)\n",
    "scaled_X_test"
   ]
  },
  {
   "cell_type": "code",
   "execution_count": 21,
   "id": "ff3407d7-cf4e-422a-92e1-ff26aa563fa9",
   "metadata": {},
   "outputs": [],
   "source": [
    "from sklearn.neighbors import KNeighborsClassifier"
   ]
  },
  {
   "cell_type": "code",
   "execution_count": 22,
   "id": "b531d2c6-644a-423f-8e94-bcbaf2c58103",
   "metadata": {},
   "outputs": [],
   "source": [
    "model_knn = KNeighborsClassifier(n_neighbors = 5)\n",
    "model_knn.fit(scaled_X_train,y_train)\n",
    "y_pred_train = model_knn.predict(scaled_X_train)\n",
    "train_precision = precision_score(y_train,y_pred_train)\n",
    "y_pred_test = model_knn.predict(scaled_X_test)\n",
    "test_precision  = precision_score(y_test,y_pred_test)"
   ]
  },
  {
   "cell_type": "code",
   "execution_count": 23,
   "id": "016e32fe-a1ec-4295-aca0-d3dd02d241be",
   "metadata": {},
   "outputs": [
    {
     "data": {
      "text/plain": [
       "(0.7111111111111111, 0.5245901639344263)"
      ]
     },
     "execution_count": 23,
     "metadata": {},
     "output_type": "execute_result"
    }
   ],
   "source": [
    "train_precision,test_precision"
   ]
  },
  {
   "cell_type": "code",
   "execution_count": 24,
   "id": "7b8c6f5e-e56e-4a64-ba11-7920324a8d8d",
   "metadata": {},
   "outputs": [],
   "source": [
    "#Knn Hyper Parameter Tuning\n",
    "\n",
    "k_values = np.arange(1,30,2)\n",
    "k_values\n",
    "train_precision_values = []\n",
    "test_precision_values = []\n",
    "train_accuracy_values = []\n",
    "test_accuracy_values = []\n",
    "cv_precision_values = []\n",
    "for k in k_values:\n",
    "    model_knn = KNeighborsClassifier(n_neighbors = k)\n",
    "    model_knn.fit(scaled_X_train,y_train)\n",
    "    y_pred_train = model_knn.predict(scaled_X_train)\n",
    "    train_precision_values.append(precision_score(y_train,y_pred_train))\n",
    "    train_accuracy_values.append(accuracy_score(y_train,y_pred_train))\n",
    "\n",
    "    y_pred_test = model_knn.predict(scaled_X_test)\n",
    "    test_precision_values.append(precision_score(y_test,y_pred_test))\n",
    "    test_accuracy_values.append(accuracy_score(y_test,y_pred_test))"
   ]
  },
  {
   "cell_type": "code",
   "execution_count": 25,
   "id": "5bc1905d-130f-4002-8899-c0b46cfe88ca",
   "metadata": {},
   "outputs": [
    {
     "data": {
      "text/plain": [
       "[1.0,\n",
       " 0.7533632286995515,\n",
       " 0.7111111111111111,\n",
       " 0.6708333333333333,\n",
       " 0.6751054852320675,\n",
       " 0.6516393442622951,\n",
       " 0.6352941176470588,\n",
       " 0.6417322834645669,\n",
       " 0.6385542168674698,\n",
       " 0.6135458167330677,\n",
       " 0.5925925925925926,\n",
       " 0.5845588235294118,\n",
       " 0.5818181818181818,\n",
       " 0.5915492957746479,\n",
       " 0.5902777777777778]"
      ]
     },
     "execution_count": 25,
     "metadata": {},
     "output_type": "execute_result"
    }
   ],
   "source": [
    "train_precision_values"
   ]
  },
  {
   "cell_type": "code",
   "execution_count": 26,
   "id": "a29252a9-e621-47ff-945b-51d83d42baa6",
   "metadata": {},
   "outputs": [
    {
     "data": {
      "text/plain": [
       "[0.5344827586206896,\n",
       " 0.4909090909090909,\n",
       " 0.5245901639344263,\n",
       " 0.5081967213114754,\n",
       " 0.5081967213114754,\n",
       " 0.5074626865671642,\n",
       " 0.5303030303030303,\n",
       " 0.5362318840579711,\n",
       " 0.5131578947368421,\n",
       " 0.5301204819277109,\n",
       " 0.5720823798627003,\n",
       " 0.5740318906605922,\n",
       " 0.5740318906605922,\n",
       " 0.5740318906605922,\n",
       " 0.5740318906605922]"
      ]
     },
     "execution_count": 26,
     "metadata": {},
     "output_type": "execute_result"
    }
   ],
   "source": [
    "test_precision_values"
   ]
  },
  {
   "cell_type": "code",
   "execution_count": 27,
   "id": "c8b889e6-cc9a-47d2-bbfc-1bdff352fdb4",
   "metadata": {},
   "outputs": [
    {
     "data": {
      "image/png": "[encoded data removed]",
      "text/plain": [
       "<Figure size 640x480 with 1 Axes>"
      ]
     },
     "metadata": {},
     "output_type": "display_data"
    }
   ],
   "source": [
    "sns.lineplot(x = k_values,y = train_precision_values,label='Train Precision Scores',color = 'red',marker = 'o')\n",
    "sns.lineplot(x = k_values,y = test_precision_values,label='Test Precision Scores',color = 'blue',marker = 'o')\n",
    "plt.title(\"k_values vs Precision Score\")\n",
    "plt.show()"
   ]
  },
  {
   "cell_type": "code",
   "execution_count": 28,
   "id": "20040faa-6fa9-4c6a-b109-7129319fbb0a",
   "metadata": {},
   "outputs": [
    {
     "data": {
      "image/png": "[encoded data removed]",
      "text/plain": [
       "<Figure size 640x480 with 1 Axes>"
      ]
     },
     "metadata": {},
     "output_type": "display_data"
    }
   ],
   "source": [
    "sns.lineplot(x = k_values,y = train_accuracy_values,label='Train Accuracy Scores',color = 'red',marker = 'o')\n",
    "sns.lineplot(x = k_values,y = test_accuracy_values,label='Test Accuracy Scores',color = 'blue',marker = 'o')\n",
    "plt.title(\"k_values vs Accuracy Score\")\n",
    "plt.show()"
   ]
  },
  {
   "cell_type": "code",
   "execution_count": 29,
   "id": "78df6159-64cc-46c2-b2c1-0f6ab4cbf753",
   "metadata": {},
   "outputs": [
    {
     "data": {
      "text/plain": [
       "0      1\n",
       "1      1\n",
       "2      1\n",
       "3      0\n",
       "4      1\n",
       "      ..\n",
       "834    0\n",
       "835    0\n",
       "836    1\n",
       "837    1\n",
       "838    0\n",
       "Name: Direction, Length: 839, dtype: int32"
      ]
     },
     "execution_count": 29,
     "metadata": {},
     "output_type": "execute_result"
    }
   ],
   "source": [
    "X_scaled = pd.concat([scaled_X_train,scaled_X_test],axis=0)\n",
    "X_scaled\n",
    "y = pd.concat([y_train,y_test],axis=0)\n",
    "y"
   ]
  },
  {
   "cell_type": "code",
   "execution_count": 30,
   "id": "66b5d2e7-8c48-46cb-bef0-a00b869dbe35",
   "metadata": {},
   "outputs": [
    {
     "data": {
      "text/html": [
       "<div>\n",
       "<style scoped>\n",
       "    .dataframe tbody tr th:only-of-type {\n",
       "        vertical-align: middle;\n",
       "    }\n",
       "\n",
       "    .dataframe tbody tr th {\n",
       "        vertical-align: top;\n",
       "    }\n",
       "\n",
       "    .dataframe thead th {\n",
       "        text-align: right;\n",
       "    }\n",
       "</style>\n",
       "<table border=\"1\" class=\"dataframe\">\n",
       "  <thead>\n",
       "    <tr style=\"text-align: right;\">\n",
       "      <th></th>\n",
       "      <th>Threshold</th>\n",
       "      <th>TP</th>\n",
       "      <th>FP</th>\n",
       "      <th>TN</th>\n",
       "      <th>FN</th>\n",
       "      <th>TPR</th>\n",
       "      <th>FPR</th>\n",
       "    </tr>\n",
       "  </thead>\n",
       "  <tbody>\n",
       "  </tbody>\n",
       "</table>\n",
       "</div>"
      ],
      "text/plain": [
       "Empty DataFrame\n",
       "Columns: [Threshold, TP, FP, TN, FN, TPR, FPR]\n",
       "Index: []"
      ]
     },
     "execution_count": 30,
     "metadata": {},
     "output_type": "execute_result"
    }
   ],
   "source": [
    "df_ROC_knn = pd.DataFrame(columns = ['Threshold','TP','FP','TN','FN','TPR','FPR'])\n",
    "\n",
    "df_ROC_knn"
   ]
  },
  {
   "cell_type": "code",
   "execution_count": 31,
   "id": "fe1de85c-bf6f-4382-bc5e-c486163ef3a5",
   "metadata": {},
   "outputs": [
    {
     "name": "stderr",
     "output_type": "stream",
     "text": [
      "C:\\Users\\chall\\AppData\\Local\\Temp\\ipykernel_17560\\3728407552.py:17: RuntimeWarning: invalid value encountered in scalar divide\n",
      "  precision = TP/(TP+FP)\n",
      "C:\\Users\\chall\\AppData\\Local\\Temp\\ipykernel_17560\\3728407552.py:17: RuntimeWarning: invalid value encountered in scalar divide\n",
      "  precision = TP/(TP+FP)\n"
     ]
    }
   ],
   "source": [
    "#Threshold Tuning using max TPR-FPR\n",
    "model_knn_tuned = KNeighborsClassifier(n_neighbors = 21)\n",
    "model_knn_tuned.fit(X_scaled,y)\n",
    "y_pred_prob = model_knn_tuned.predict_proba(X_scaled)[:,1]\n",
    "y_pred_prob\n",
    "\n",
    "threshold = np.arange(0,1.1,0.1)\n",
    "for i in threshold:\n",
    "    y_pred_tuned = (y_pred_prob > i).astype('int')\n",
    "    cm = confusion_matrix(y,y_pred_tuned)\n",
    "    TP = cm[1,1]\n",
    "    TN = cm[0,0]\n",
    "    FP = cm[0,1]\n",
    "    FN = cm[1,0]\n",
    "\n",
    "    accuracy = (TP+TN)/(TP+TN+FP+FN)\n",
    "    precision = TP/(TP+FP)\n",
    "    recall = TP/(TP+FN)\n",
    "\n",
    "    TPR = recall\n",
    "    FPR = FP/(FP+TN)\n",
    "\n",
    "    df_ROC_knn.loc[len(df_ROC_knn)] = pd.Series({'Threshold':i,'TP':TP,'FP':FP,'TN':TN,'FN':FN,'TPR':TPR,'FPR':FPR})\n",
    "auc_score = roc_auc_score(y,y_pred_prob)"
   ]
  },
  {
   "cell_type": "code",
   "execution_count": 32,
   "id": "4771cf6b-2ae9-426d-9b3e-4127e0495f90",
   "metadata": {},
   "outputs": [
    {
     "data": {
      "text/html": [
       "<div>\n",
       "<style scoped>\n",
       "    .dataframe tbody tr th:only-of-type {\n",
       "        vertical-align: middle;\n",
       "    }\n",
       "\n",
       "    .dataframe tbody tr th {\n",
       "        vertical-align: top;\n",
       "    }\n",
       "\n",
       "    .dataframe thead th {\n",
       "        text-align: right;\n",
       "    }\n",
       "</style>\n",
       "<table border=\"1\" class=\"dataframe\">\n",
       "  <thead>\n",
       "    <tr style=\"text-align: right;\">\n",
       "      <th></th>\n",
       "      <th>Threshold</th>\n",
       "      <th>TP</th>\n",
       "      <th>FP</th>\n",
       "      <th>TN</th>\n",
       "      <th>FN</th>\n",
       "      <th>TPR</th>\n",
       "      <th>FPR</th>\n",
       "    </tr>\n",
       "  </thead>\n",
       "  <tbody>\n",
       "    <tr>\n",
       "      <th>0</th>\n",
       "      <td>0.0</td>\n",
       "      <td>470.0</td>\n",
       "      <td>369.0</td>\n",
       "      <td>0.0</td>\n",
       "      <td>0.0</td>\n",
       "      <td>1.000000</td>\n",
       "      <td>1.000000</td>\n",
       "    </tr>\n",
       "    <tr>\n",
       "      <th>1</th>\n",
       "      <td>0.1</td>\n",
       "      <td>470.0</td>\n",
       "      <td>369.0</td>\n",
       "      <td>0.0</td>\n",
       "      <td>0.0</td>\n",
       "      <td>1.000000</td>\n",
       "      <td>1.000000</td>\n",
       "    </tr>\n",
       "    <tr>\n",
       "      <th>2</th>\n",
       "      <td>0.2</td>\n",
       "      <td>470.0</td>\n",
       "      <td>369.0</td>\n",
       "      <td>0.0</td>\n",
       "      <td>0.0</td>\n",
       "      <td>1.000000</td>\n",
       "      <td>1.000000</td>\n",
       "    </tr>\n",
       "    <tr>\n",
       "      <th>3</th>\n",
       "      <td>0.3</td>\n",
       "      <td>470.0</td>\n",
       "      <td>369.0</td>\n",
       "      <td>0.0</td>\n",
       "      <td>0.0</td>\n",
       "      <td>1.000000</td>\n",
       "      <td>1.000000</td>\n",
       "    </tr>\n",
       "    <tr>\n",
       "      <th>4</th>\n",
       "      <td>0.4</td>\n",
       "      <td>447.0</td>\n",
       "      <td>333.0</td>\n",
       "      <td>36.0</td>\n",
       "      <td>23.0</td>\n",
       "      <td>0.951064</td>\n",
       "      <td>0.902439</td>\n",
       "    </tr>\n",
       "    <tr>\n",
       "      <th>5</th>\n",
       "      <td>0.5</td>\n",
       "      <td>355.0</td>\n",
       "      <td>244.0</td>\n",
       "      <td>125.0</td>\n",
       "      <td>115.0</td>\n",
       "      <td>0.755319</td>\n",
       "      <td>0.661247</td>\n",
       "    </tr>\n",
       "    <tr>\n",
       "      <th>6</th>\n",
       "      <td>0.6</td>\n",
       "      <td>187.0</td>\n",
       "      <td>90.0</td>\n",
       "      <td>279.0</td>\n",
       "      <td>283.0</td>\n",
       "      <td>0.397872</td>\n",
       "      <td>0.243902</td>\n",
       "    </tr>\n",
       "    <tr>\n",
       "      <th>7</th>\n",
       "      <td>0.7</td>\n",
       "      <td>53.0</td>\n",
       "      <td>20.0</td>\n",
       "      <td>349.0</td>\n",
       "      <td>417.0</td>\n",
       "      <td>0.112766</td>\n",
       "      <td>0.054201</td>\n",
       "    </tr>\n",
       "    <tr>\n",
       "      <th>8</th>\n",
       "      <td>0.8</td>\n",
       "      <td>17.0</td>\n",
       "      <td>3.0</td>\n",
       "      <td>366.0</td>\n",
       "      <td>453.0</td>\n",
       "      <td>0.036170</td>\n",
       "      <td>0.008130</td>\n",
       "    </tr>\n",
       "    <tr>\n",
       "      <th>9</th>\n",
       "      <td>0.9</td>\n",
       "      <td>0.0</td>\n",
       "      <td>0.0</td>\n",
       "      <td>369.0</td>\n",
       "      <td>470.0</td>\n",
       "      <td>0.000000</td>\n",
       "      <td>0.000000</td>\n",
       "    </tr>\n",
       "    <tr>\n",
       "      <th>10</th>\n",
       "      <td>1.0</td>\n",
       "      <td>0.0</td>\n",
       "      <td>0.0</td>\n",
       "      <td>369.0</td>\n",
       "      <td>470.0</td>\n",
       "      <td>0.000000</td>\n",
       "      <td>0.000000</td>\n",
       "    </tr>\n",
       "  </tbody>\n",
       "</table>\n",
       "</div>"
      ],
      "text/plain": [
       "    Threshold     TP     FP     TN     FN       TPR       FPR\n",
       "0         0.0  470.0  369.0    0.0    0.0  1.000000  1.000000\n",
       "1         0.1  470.0  369.0    0.0    0.0  1.000000  1.000000\n",
       "2         0.2  470.0  369.0    0.0    0.0  1.000000  1.000000\n",
       "3         0.3  470.0  369.0    0.0    0.0  1.000000  1.000000\n",
       "4         0.4  447.0  333.0   36.0   23.0  0.951064  0.902439\n",
       "5         0.5  355.0  244.0  125.0  115.0  0.755319  0.661247\n",
       "6         0.6  187.0   90.0  279.0  283.0  0.397872  0.243902\n",
       "7         0.7   53.0   20.0  349.0  417.0  0.112766  0.054201\n",
       "8         0.8   17.0    3.0  366.0  453.0  0.036170  0.008130\n",
       "9         0.9    0.0    0.0  369.0  470.0  0.000000  0.000000\n",
       "10        1.0    0.0    0.0  369.0  470.0  0.000000  0.000000"
      ]
     },
     "execution_count": 32,
     "metadata": {},
     "output_type": "execute_result"
    }
   ],
   "source": [
    "df_ROC_knn"
   ]
  },
  {
   "cell_type": "code",
   "execution_count": 33,
   "id": "6f11ee49-b0ee-4563-a8ba-57838233221c",
   "metadata": {},
   "outputs": [
    {
     "data": {
      "text/html": [
       "<div>\n",
       "<style scoped>\n",
       "    .dataframe tbody tr th:only-of-type {\n",
       "        vertical-align: middle;\n",
       "    }\n",
       "\n",
       "    .dataframe tbody tr th {\n",
       "        vertical-align: top;\n",
       "    }\n",
       "\n",
       "    .dataframe thead th {\n",
       "        text-align: right;\n",
       "    }\n",
       "</style>\n",
       "<table border=\"1\" class=\"dataframe\">\n",
       "  <thead>\n",
       "    <tr style=\"text-align: right;\">\n",
       "      <th></th>\n",
       "      <th>Threshold</th>\n",
       "      <th>TP</th>\n",
       "      <th>FP</th>\n",
       "      <th>TN</th>\n",
       "      <th>FN</th>\n",
       "      <th>TPR</th>\n",
       "      <th>FPR</th>\n",
       "      <th>TPR-FPR</th>\n",
       "    </tr>\n",
       "  </thead>\n",
       "  <tbody>\n",
       "    <tr>\n",
       "      <th>0</th>\n",
       "      <td>0.0</td>\n",
       "      <td>470.0</td>\n",
       "      <td>369.0</td>\n",
       "      <td>0.0</td>\n",
       "      <td>0.0</td>\n",
       "      <td>1.000000</td>\n",
       "      <td>1.000000</td>\n",
       "      <td>0.000000</td>\n",
       "    </tr>\n",
       "    <tr>\n",
       "      <th>1</th>\n",
       "      <td>0.1</td>\n",
       "      <td>470.0</td>\n",
       "      <td>369.0</td>\n",
       "      <td>0.0</td>\n",
       "      <td>0.0</td>\n",
       "      <td>1.000000</td>\n",
       "      <td>1.000000</td>\n",
       "      <td>0.000000</td>\n",
       "    </tr>\n",
       "    <tr>\n",
       "      <th>2</th>\n",
       "      <td>0.2</td>\n",
       "      <td>470.0</td>\n",
       "      <td>369.0</td>\n",
       "      <td>0.0</td>\n",
       "      <td>0.0</td>\n",
       "      <td>1.000000</td>\n",
       "      <td>1.000000</td>\n",
       "      <td>0.000000</td>\n",
       "    </tr>\n",
       "    <tr>\n",
       "      <th>3</th>\n",
       "      <td>0.3</td>\n",
       "      <td>470.0</td>\n",
       "      <td>369.0</td>\n",
       "      <td>0.0</td>\n",
       "      <td>0.0</td>\n",
       "      <td>1.000000</td>\n",
       "      <td>1.000000</td>\n",
       "      <td>0.000000</td>\n",
       "    </tr>\n",
       "    <tr>\n",
       "      <th>4</th>\n",
       "      <td>0.4</td>\n",
       "      <td>447.0</td>\n",
       "      <td>333.0</td>\n",
       "      <td>36.0</td>\n",
       "      <td>23.0</td>\n",
       "      <td>0.951064</td>\n",
       "      <td>0.902439</td>\n",
       "      <td>0.048625</td>\n",
       "    </tr>\n",
       "    <tr>\n",
       "      <th>5</th>\n",
       "      <td>0.5</td>\n",
       "      <td>355.0</td>\n",
       "      <td>244.0</td>\n",
       "      <td>125.0</td>\n",
       "      <td>115.0</td>\n",
       "      <td>0.755319</td>\n",
       "      <td>0.661247</td>\n",
       "      <td>0.094073</td>\n",
       "    </tr>\n",
       "    <tr>\n",
       "      <th>6</th>\n",
       "      <td>0.6</td>\n",
       "      <td>187.0</td>\n",
       "      <td>90.0</td>\n",
       "      <td>279.0</td>\n",
       "      <td>283.0</td>\n",
       "      <td>0.397872</td>\n",
       "      <td>0.243902</td>\n",
       "      <td>0.153970</td>\n",
       "    </tr>\n",
       "    <tr>\n",
       "      <th>7</th>\n",
       "      <td>0.7</td>\n",
       "      <td>53.0</td>\n",
       "      <td>20.0</td>\n",
       "      <td>349.0</td>\n",
       "      <td>417.0</td>\n",
       "      <td>0.112766</td>\n",
       "      <td>0.054201</td>\n",
       "      <td>0.058565</td>\n",
       "    </tr>\n",
       "    <tr>\n",
       "      <th>8</th>\n",
       "      <td>0.8</td>\n",
       "      <td>17.0</td>\n",
       "      <td>3.0</td>\n",
       "      <td>366.0</td>\n",
       "      <td>453.0</td>\n",
       "      <td>0.036170</td>\n",
       "      <td>0.008130</td>\n",
       "      <td>0.028040</td>\n",
       "    </tr>\n",
       "    <tr>\n",
       "      <th>9</th>\n",
       "      <td>0.9</td>\n",
       "      <td>0.0</td>\n",
       "      <td>0.0</td>\n",
       "      <td>369.0</td>\n",
       "      <td>470.0</td>\n",
       "      <td>0.000000</td>\n",
       "      <td>0.000000</td>\n",
       "      <td>0.000000</td>\n",
       "    </tr>\n",
       "    <tr>\n",
       "      <th>10</th>\n",
       "      <td>1.0</td>\n",
       "      <td>0.0</td>\n",
       "      <td>0.0</td>\n",
       "      <td>369.0</td>\n",
       "      <td>470.0</td>\n",
       "      <td>0.000000</td>\n",
       "      <td>0.000000</td>\n",
       "      <td>0.000000</td>\n",
       "    </tr>\n",
       "  </tbody>\n",
       "</table>\n",
       "</div>"
      ],
      "text/plain": [
       "    Threshold     TP     FP     TN     FN       TPR       FPR   TPR-FPR\n",
       "0         0.0  470.0  369.0    0.0    0.0  1.000000  1.000000  0.000000\n",
       "1         0.1  470.0  369.0    0.0    0.0  1.000000  1.000000  0.000000\n",
       "2         0.2  470.0  369.0    0.0    0.0  1.000000  1.000000  0.000000\n",
       "3         0.3  470.0  369.0    0.0    0.0  1.000000  1.000000  0.000000\n",
       "4         0.4  447.0  333.0   36.0   23.0  0.951064  0.902439  0.048625\n",
       "5         0.5  355.0  244.0  125.0  115.0  0.755319  0.661247  0.094073\n",
       "6         0.6  187.0   90.0  279.0  283.0  0.397872  0.243902  0.153970\n",
       "7         0.7   53.0   20.0  349.0  417.0  0.112766  0.054201  0.058565\n",
       "8         0.8   17.0    3.0  366.0  453.0  0.036170  0.008130  0.028040\n",
       "9         0.9    0.0    0.0  369.0  470.0  0.000000  0.000000  0.000000\n",
       "10        1.0    0.0    0.0  369.0  470.0  0.000000  0.000000  0.000000"
      ]
     },
     "execution_count": 33,
     "metadata": {},
     "output_type": "execute_result"
    }
   ],
   "source": [
    "df_ROC_knn['TPR-FPR'] = df_ROC_knn['TPR'] - df_ROC_knn['FPR']\n",
    "df_ROC_knn"
   ]
  },
  {
   "cell_type": "code",
   "execution_count": 34,
   "id": "472a9c68-584b-4af7-ad28-92895532799c",
   "metadata": {},
   "outputs": [
    {
     "data": {
      "text/plain": [
       "<Axes: xlabel='FPR', ylabel='TPR'>"
      ]
     },
     "execution_count": 34,
     "metadata": {},
     "output_type": "execute_result"
    },
    {
     "data": {
      "image/png": "[encoded data removed]",
      "text/plain": [
       "<Figure size 640x480 with 1 Axes>"
      ]
     },
     "metadata": {},
     "output_type": "display_data"
    }
   ],
   "source": [
    "sns.lineplot(x = df_ROC_knn['FPR'],y = df_ROC_knn['TPR'],label = 'AUC Score : {}'.format(auc_score))"
   ]
  },
  {
   "cell_type": "code",
   "execution_count": 35,
   "id": "af14af87-ccd3-40da-843f-4b4e08745d72",
   "metadata": {},
   "outputs": [],
   "source": [
    "best_threshold = 0.6"
   ]
  },
  {
   "cell_type": "code",
   "execution_count": 37,
   "id": "73a5edf3-1cd6-4223-a84e-f6b821760f15",
   "metadata": {},
   "outputs": [],
   "source": [
    "y_pred_tuned = (y_pred_prob > best_threshold).astype('int')\n",
    "cm_tuned = confusion_matrix(y,y_pred_tuned)\n",
    "TP = cm_tuned[1,1]\n",
    "TN = cm_tuned[0,0]\n",
    "FP = cm_tuned[0,1]\n",
    "FN = cm_tuned[1,0]\n",
    "\n",
    "accuracy = (TP+TN)/(TP+TN+FP+FN)\n",
    "precision = TP/(TP+FP)\n",
    "recall = TP/(TP+FN)\n",
    "\n",
    "TPR = recall\n",
    "FPR = FP/(FP+TN)"
   ]
  },
  {
   "cell_type": "code",
   "execution_count": 38,
   "id": "6c431b6f-18c2-4861-b81b-676898143625",
   "metadata": {},
   "outputs": [
    {
     "name": "stdout",
     "output_type": "stream",
     "text": [
      "KNearest Neighbors Performance Metrics\n",
      "----------------------------------------\n",
      "Accuracy: 0.5554231227651967\n",
      "Misclassification: 0.4445768772348033\n",
      "Precision: 0.6750902527075813\n",
      "Recall: 0.39787234042553193\n",
      "TPR: 0.39787234042553193\n",
      "FPR: 0.24390243902439024\n"
     ]
    }
   ],
   "source": [
    "print('KNearest Neighbors Performance Metrics')\n",
    "\n",
    "print('-'*40)\n",
    "print('Accuracy:',accuracy)\n",
    "print('Misclassification:',1-accuracy)\n",
    "print('Precision:',precision)\n",
    "print('Recall:',recall)\n",
    "\n",
    "print('TPR:',TPR)\n",
    "print('FPR:',FPR)"
   ]
  },
  {
   "cell_type": "code",
   "execution_count": 42,
   "id": "b850ff9a-3c4e-4b47-bcac-6c52b5f50aa8",
   "metadata": {
    "tags": []
   },
   "outputs": [
    {
     "data": {
      "text/html": [
       "<div>\n",
       "<style scoped>\n",
       "    .dataframe tbody tr th:only-of-type {\n",
       "        vertical-align: middle;\n",
       "    }\n",
       "\n",
       "    .dataframe tbody tr th {\n",
       "        vertical-align: top;\n",
       "    }\n",
       "\n",
       "    .dataframe thead th {\n",
       "        text-align: right;\n",
       "    }\n",
       "</style>\n",
       "<table border=\"1\" class=\"dataframe\">\n",
       "  <thead>\n",
       "    <tr style=\"text-align: right;\">\n",
       "      <th></th>\n",
       "      <th>Model</th>\n",
       "      <th>Accuracy Score</th>\n",
       "      <th>Precision</th>\n",
       "      <th>Recall</th>\n",
       "      <th>Misclassification</th>\n",
       "    </tr>\n",
       "  </thead>\n",
       "  <tbody>\n",
       "    <tr>\n",
       "      <th>0</th>\n",
       "      <td>kNN Classifier</td>\n",
       "      <td>0.555423</td>\n",
       "      <td>0.67509</td>\n",
       "      <td>0.397872</td>\n",
       "      <td>0.444577</td>\n",
       "    </tr>\n",
       "  </tbody>\n",
       "</table>\n",
       "</div>"
      ],
      "text/plain": [
       "            Model Accuracy Score Precision    Recall Misclassification\n",
       "0  kNN Classifier       0.555423   0.67509  0.397872          0.444577"
      ]
     },
     "execution_count": 42,
     "metadata": {},
     "output_type": "execute_result"
    }
   ],
   "source": [
    "summary = pd.DataFrame(columns = ['Model','Accuracy Score','Precision','Recall','Misclassification'])\n",
    "summary.loc[len(summary)] = pd.Series({'Model':'kNN Classifier','Accuracy Score':accuracy,'Precision':precision,'Recall':recall,'Misclassification':1-accuracy})\n",
    "summary"
   ]
  },
  {
   "cell_type": "markdown",
   "id": "c72a38de-fd48-4562-94a3-000d00c0b0bd",
   "metadata": {},
   "source": [
    "### Decision Tree Classifier"
   ]
  },
  {
   "cell_type": "code",
   "execution_count": 43,
   "id": "36467d7b-c9d8-42ae-9f8f-2063c5b88d9e",
   "metadata": {},
   "outputs": [],
   "source": [
    "from sklearn.tree import DecisionTreeClassifier\n",
    "model_dtr  = DecisionTreeClassifier(criterion = 'gini',random_state = 1)\n",
    "model_dtr.fit(scaled_X_train,y_train)\n",
    "y_pred_train_dtr = model_dtr.predict(scaled_X_train)\n",
    "train_precision_score = precision_score(y_train,y_pred_train_dtr)\n",
    "train_accuracy_score = accuracy_score(y_train,y_pred_train_dtr)\n",
    "\n",
    "y_pred_test_dtr = model_dtr.predict(scaled_X_test)\n",
    "test_precision_score = precision_score(y_test,y_pred_test_dtr)\n",
    "test_accuracy_score = accuracy_score(y_test,y_pred_test_dtr)"
   ]
  },
  {
   "cell_type": "code",
   "execution_count": 44,
   "id": "744217cb-5b5a-49ed-8792-f84e34a5e432",
   "metadata": {},
   "outputs": [
    {
     "data": {
      "text/plain": [
       "1.0"
      ]
     },
     "execution_count": 44,
     "metadata": {},
     "output_type": "execute_result"
    }
   ],
   "source": [
    "train_accuracy_score"
   ]
  },
  {
   "cell_type": "code",
   "execution_count": 45,
   "id": "c259de7c-8eea-4c01-92d6-4f9e1cbc6c93",
   "metadata": {},
   "outputs": [
    {
     "data": {
      "text/plain": [
       "1.0"
      ]
     },
     "execution_count": 45,
     "metadata": {},
     "output_type": "execute_result"
    }
   ],
   "source": [
    "train_precision_score"
   ]
  },
  {
   "cell_type": "code",
   "execution_count": 46,
   "id": "dd4bfb9d-65c0-4fc4-a37a-7588c5c38aee",
   "metadata": {},
   "outputs": [
    {
     "data": {
      "text/plain": [
       "0.509090909090909"
      ]
     },
     "execution_count": 46,
     "metadata": {},
     "output_type": "execute_result"
    }
   ],
   "source": [
    "test_precision_score"
   ]
  },
  {
   "cell_type": "code",
   "execution_count": 47,
   "id": "beecdd86-c5e1-43c7-af3e-b5a113c761a5",
   "metadata": {},
   "outputs": [
    {
     "data": {
      "text/plain": [
       "0.428246013667426"
      ]
     },
     "execution_count": 47,
     "metadata": {},
     "output_type": "execute_result"
    }
   ],
   "source": [
    "test_accuracy_score"
   ]
  },
  {
   "cell_type": "code",
   "execution_count": 48,
   "id": "9561f615-1000-4d6d-8742-2bc72a90c59f",
   "metadata": {},
   "outputs": [],
   "source": [
    "#Tuning the Decision Tree classifier using gridsearchcv\n",
    "from sklearn.metrics import make_scorer"
   ]
  },
  {
   "cell_type": "code",
   "execution_count": 49,
   "id": "1ce4941f-8e4c-4f05-ba01-cc12f098f2ae",
   "metadata": {},
   "outputs": [],
   "source": [
    "parameters = {'splitter':['random','best'],\n",
    "             'max_depth':[1,5,10,15,20,25,30,35,40,45,50,55,60,65],\n",
    "             'min_samples_split':[2,5,10,15,20,25,30,35,40,45,50,55,65],\n",
    "             'min_samples_leaf':[1,5,10,15,20,25,30,35,40,45],\n",
    "             }"
   ]
  },
  {
   "cell_type": "code",
   "execution_count": 50,
   "id": "08bc7067-6dc8-456c-b1fe-cf5f2d851e57",
   "metadata": {},
   "outputs": [],
   "source": [
    "from sklearn.model_selection import GridSearchCV"
   ]
  },
  {
   "cell_type": "code",
   "execution_count": 51,
   "id": "5ae9bd94-0d43-4e75-8896-fa8787bafda6",
   "metadata": {},
   "outputs": [],
   "source": [
    "tuning_model = GridSearchCV(model_dtr,param_grid = parameters,cv=5,verbose= 0,scoring = make_scorer(precision_score))"
   ]
  },
  {
   "cell_type": "code",
   "execution_count": null,
   "id": "86b4b009-8f4b-4e58-be9d-984fe2344be0",
   "metadata": {},
   "outputs": [],
   "source": []
  },
  {
   "cell_type": "code",
   "execution_count": 52,
   "id": "7b7d868b-22a0-40e0-a7af-6be7fa218be9",
   "metadata": {
    "scrolled": true
   },
   "outputs": [
    {
     "data": {
      "text/html": [
       "<style>#sk-container-id-1 {color: black;}#sk-container-id-1 pre{padding: 0;}#sk-container-id-1 div.sk-toggleable {background-color: white;}#sk-container-id-1 label.sk-toggleable__label {cursor: pointer;display: block;width: 100%;margin-bottom: 0;padding: 0.3em;box-sizing: border-box;text-align: center;}#sk-container-id-1 label.sk-toggleable__label-arrow:before {content: \"▸\";float: left;margin-right: 0.25em;color: #696969;}#sk-container-id-1 label.sk-toggleable__label-arrow:hover:before {color: black;}#sk-container-id-1 div.sk-estimator:hover label.sk-toggleable__label-arrow:before {color: black;}#sk-container-id-1 div.sk-toggleable__content {max-height: 0;max-width: 0;overflow: hidden;text-align: left;background-color: #f0f8ff;}#sk-container-id-1 div.sk-toggleable__content pre {margin: 0.2em;color: black;border-radius: 0.25em;background-color: #f0f8ff;}#sk-container-id-1 input.sk-toggleable__control:checked~div.sk-toggleable__content {max-height: 200px;max-width: 100%;overflow: auto;}#sk-container-id-1 input.sk-toggleable__control:checked~label.sk-toggleable__label-arrow:before {content: \"▾\";}#sk-container-id-1 div.sk-estimator input.sk-toggleable__control:checked~label.sk-toggleable__label {background-color: #d4ebff;}#sk-container-id-1 div.sk-label input.sk-toggleable__control:checked~label.sk-toggleable__label {background-color: #d4ebff;}#sk-container-id-1 input.sk-hidden--visually {border: 0;clip: rect(1px 1px 1px 1px);clip: rect(1px, 1px, 1px, 1px);height: 1px;margin: -1px;overflow: hidden;padding: 0;position: absolute;width: 1px;}#sk-container-id-1 div.sk-estimator {font-family: monospace;background-color: #f0f8ff;border: 1px dotted black;border-radius: 0.25em;box-sizing: border-box;margin-bottom: 0.5em;}#sk-container-id-1 div.sk-estimator:hover {background-color: #d4ebff;}#sk-container-id-1 div.sk-parallel-item::after {content: \"\";width: 100%;border-bottom: 1px solid gray;flex-grow: 1;}#sk-container-id-1 div.sk-label:hover label.sk-toggleable__label {background-color: #d4ebff;}#sk-container-id-1 div.sk-serial::before {content: \"\";position: absolute;border-left: 1px solid gray;box-sizing: border-box;top: 0;bottom: 0;left: 50%;z-index: 0;}#sk-container-id-1 div.sk-serial {display: flex;flex-direction: column;align-items: center;background-color: white;padding-right: 0.2em;padding-left: 0.2em;position: relative;}#sk-container-id-1 div.sk-item {position: relative;z-index: 1;}#sk-container-id-1 div.sk-parallel {display: flex;align-items: stretch;justify-content: center;background-color: white;position: relative;}#sk-container-id-1 div.sk-item::before, #sk-container-id-1 div.sk-parallel-item::before {content: \"\";position: absolute;border-left: 1px solid gray;box-sizing: border-box;top: 0;bottom: 0;left: 50%;z-index: -1;}#sk-container-id-1 div.sk-parallel-item {display: flex;flex-direction: column;z-index: 1;position: relative;background-color: white;}#sk-container-id-1 div.sk-parallel-item:first-child::after {align-self: flex-end;width: 50%;}#sk-container-id-1 div.sk-parallel-item:last-child::after {align-self: flex-start;width: 50%;}#sk-container-id-1 div.sk-parallel-item:only-child::after {width: 0;}#sk-container-id-1 div.sk-dashed-wrapped {border: 1px dashed gray;margin: 0 0.4em 0.5em 0.4em;box-sizing: border-box;padding-bottom: 0.4em;background-color: white;}#sk-container-id-1 div.sk-label label {font-family: monospace;font-weight: bold;display: inline-block;line-height: 1.2em;}#sk-container-id-1 div.sk-label-container {text-align: center;}#sk-container-id-1 div.sk-container {/* jupyter's `normalize.less` sets `[hidden] { display: none; }` but bootstrap.min.css set `[hidden] { display: none !important; }` so we also need the `!important` here to be able to override the default hidden behavior on the sphinx rendered scikit-learn.org. See: https://github.com/scikit-learn/scikit-learn/issues/21755 */display: inline-block !important;position: relative;}#sk-container-id-1 div.sk-text-repr-fallback {display: none;}</style><div id=\"sk-container-id-1\" class=\"sk-top-container\"><div class=\"sk-text-repr-fallback\"><pre>GridSearchCV(cv=5, estimator=DecisionTreeClassifier(random_state=1),\n",
       "             param_grid={&#x27;max_depth&#x27;: [1, 5, 10, 15, 20, 25, 30, 35, 40, 45, 50,\n",
       "                                       55, 60, 65],\n",
       "                         &#x27;min_samples_leaf&#x27;: [1, 5, 10, 15, 20, 25, 30, 35, 40,\n",
       "                                              45],\n",
       "                         &#x27;min_samples_split&#x27;: [2, 5, 10, 15, 20, 25, 30, 35, 40,\n",
       "                                               45, 50, 55, 65],\n",
       "                         &#x27;splitter&#x27;: [&#x27;random&#x27;, &#x27;best&#x27;]},\n",
       "             scoring=make_scorer(precision_score))</pre><b>In a Jupyter environment, please rerun this cell to show the HTML representation or trust the notebook. <br />On GitHub, the HTML representation is unable to render, please try loading this page with nbviewer.org.</b></div><div class=\"sk-container\" hidden><div class=\"sk-item sk-dashed-wrapped\"><div class=\"sk-label-container\"><div class=\"sk-label sk-toggleable\"><input class=\"sk-toggleable__control sk-hidden--visually\" id=\"sk-estimator-id-1\" type=\"checkbox\" ><label for=\"sk-estimator-id-1\" class=\"sk-toggleable__label sk-toggleable__label-arrow\">GridSearchCV</label><div class=\"sk-toggleable__content\"><pre>GridSearchCV(cv=5, estimator=DecisionTreeClassifier(random_state=1),\n",
       "             param_grid={&#x27;max_depth&#x27;: [1, 5, 10, 15, 20, 25, 30, 35, 40, 45, 50,\n",
       "                                       55, 60, 65],\n",
       "                         &#x27;min_samples_leaf&#x27;: [1, 5, 10, 15, 20, 25, 30, 35, 40,\n",
       "                                              45],\n",
       "                         &#x27;min_samples_split&#x27;: [2, 5, 10, 15, 20, 25, 30, 35, 40,\n",
       "                                               45, 50, 55, 65],\n",
       "                         &#x27;splitter&#x27;: [&#x27;random&#x27;, &#x27;best&#x27;]},\n",
       "             scoring=make_scorer(precision_score))</pre></div></div></div><div class=\"sk-parallel\"><div class=\"sk-parallel-item\"><div class=\"sk-item\"><div class=\"sk-label-container\"><div class=\"sk-label sk-toggleable\"><input class=\"sk-toggleable__control sk-hidden--visually\" id=\"sk-estimator-id-2\" type=\"checkbox\" ><label for=\"sk-estimator-id-2\" class=\"sk-toggleable__label sk-toggleable__label-arrow\">estimator: DecisionTreeClassifier</label><div class=\"sk-toggleable__content\"><pre>DecisionTreeClassifier(random_state=1)</pre></div></div></div><div class=\"sk-serial\"><div class=\"sk-item\"><div class=\"sk-estimator sk-toggleable\"><input class=\"sk-toggleable__control sk-hidden--visually\" id=\"sk-estimator-id-3\" type=\"checkbox\" ><label for=\"sk-estimator-id-3\" class=\"sk-toggleable__label sk-toggleable__label-arrow\">DecisionTreeClassifier</label><div class=\"sk-toggleable__content\"><pre>DecisionTreeClassifier(random_state=1)</pre></div></div></div></div></div></div></div></div></div></div>"
      ],
      "text/plain": [
       "GridSearchCV(cv=5, estimator=DecisionTreeClassifier(random_state=1),\n",
       "             param_grid={'max_depth': [1, 5, 10, 15, 20, 25, 30, 35, 40, 45, 50,\n",
       "                                       55, 60, 65],\n",
       "                         'min_samples_leaf': [1, 5, 10, 15, 20, 25, 30, 35, 40,\n",
       "                                              45],\n",
       "                         'min_samples_split': [2, 5, 10, 15, 20, 25, 30, 35, 40,\n",
       "                                               45, 50, 55, 65],\n",
       "                         'splitter': ['random', 'best']},\n",
       "             scoring=make_scorer(precision_score))"
      ]
     },
     "execution_count": 52,
     "metadata": {},
     "output_type": "execute_result"
    }
   ],
   "source": [
    "tuning_model.fit(X_scaled,y)"
   ]
  },
  {
   "cell_type": "code",
   "execution_count": 53,
   "id": "f2f4ba7b-4a08-48d3-904b-c2080142c6a4",
   "metadata": {},
   "outputs": [
    {
     "data": {
      "text/plain": [
       "{'max_depth': 10,\n",
       " 'min_samples_leaf': 10,\n",
       " 'min_samples_split': 2,\n",
       " 'splitter': 'random'}"
      ]
     },
     "execution_count": 53,
     "metadata": {},
     "output_type": "execute_result"
    }
   ],
   "source": [
    "tuning_model.best_params_\n"
   ]
  },
  {
   "cell_type": "code",
   "execution_count": 54,
   "id": "d417cd96-ee9b-4c67-af99-769d12b23114",
   "metadata": {},
   "outputs": [
    {
     "data": {
      "text/plain": [
       "0.5964813085570044"
      ]
     },
     "execution_count": 54,
     "metadata": {},
     "output_type": "execute_result"
    }
   ],
   "source": [
    "tuning_model.best_score_\n"
   ]
  },
  {
   "cell_type": "code",
   "execution_count": 55,
   "id": "ff436c04-d64f-4a21-b1d5-3e58b763bdf4",
   "metadata": {},
   "outputs": [],
   "source": [
    "model_dtr_tuned = DecisionTreeClassifier(splitter = 'random',max_depth = 10,min_samples_leaf = 10,min_samples_split = 2,random_state = 1,criterion='gini')"
   ]
  },
  {
   "cell_type": "code",
   "execution_count": 56,
   "id": "c914a9b0-49db-448d-9d00-08c7d5a1fea2",
   "metadata": {},
   "outputs": [],
   "source": [
    "model_dtr_tuned.fit(scaled_X_train,y_train)\n",
    "y_pred_train_dtr= model_dtr_tuned.predict(scaled_X_train)\n",
    "tuned_train_precision_score = precision_score(y_train,y_pred_train_dtr)\n",
    "tuned_train_accuracy_score = accuracy_score(y_train,y_pred_train_dtr)\n",
    "\n",
    "y_pred_test_dtr = model_dtr_tuned.predict(scaled_X_test)\n",
    "tuned_test_precision_score = precision_score(y_test,y_pred_test_dtr)\n",
    "tuned_test_accuracy_score = accuracy_score(y_test,y_pred_test_dtr)"
   ]
  },
  {
   "cell_type": "code",
   "execution_count": 57,
   "id": "654ef224-40b9-4ce4-bf5a-a86b7b0cd716",
   "metadata": {},
   "outputs": [
    {
     "data": {
      "text/plain": [
       "(0.6284584980237155, 0.5342465753424658)"
      ]
     },
     "execution_count": 57,
     "metadata": {},
     "output_type": "execute_result"
    }
   ],
   "source": [
    "tuned_train_precision_score,tuned_test_precision_score"
   ]
  },
  {
   "cell_type": "code",
   "execution_count": 58,
   "id": "0c1234a2-9d27-4a36-bcbe-570e2a71964d",
   "metadata": {},
   "outputs": [
    {
     "data": {
      "text/plain": [
       "(0.6175, 0.43735763097949887)"
      ]
     },
     "execution_count": 58,
     "metadata": {},
     "output_type": "execute_result"
    }
   ],
   "source": [
    "tuned_train_accuracy_score,tuned_test_accuracy_score"
   ]
  },
  {
   "cell_type": "code",
   "execution_count": 59,
   "id": "201aa9ca-bb66-456d-bb6f-bf39040d8766",
   "metadata": {},
   "outputs": [
    {
     "data": {
      "text/html": [
       "<div>\n",
       "<style scoped>\n",
       "    .dataframe tbody tr th:only-of-type {\n",
       "        vertical-align: middle;\n",
       "    }\n",
       "\n",
       "    .dataframe tbody tr th {\n",
       "        vertical-align: top;\n",
       "    }\n",
       "\n",
       "    .dataframe thead th {\n",
       "        text-align: right;\n",
       "    }\n",
       "</style>\n",
       "<table border=\"1\" class=\"dataframe\">\n",
       "  <thead>\n",
       "    <tr style=\"text-align: right;\">\n",
       "      <th></th>\n",
       "      <th>Threshold</th>\n",
       "      <th>TP</th>\n",
       "      <th>FP</th>\n",
       "      <th>TN</th>\n",
       "      <th>FN</th>\n",
       "      <th>TPR</th>\n",
       "      <th>FPR</th>\n",
       "    </tr>\n",
       "  </thead>\n",
       "  <tbody>\n",
       "  </tbody>\n",
       "</table>\n",
       "</div>"
      ],
      "text/plain": [
       "Empty DataFrame\n",
       "Columns: [Threshold, TP, FP, TN, FN, TPR, FPR]\n",
       "Index: []"
      ]
     },
     "execution_count": 59,
     "metadata": {},
     "output_type": "execute_result"
    }
   ],
   "source": [
    "df_ROC_dtr = pd.DataFrame(columns = ['Threshold','TP','FP','TN','FN','TPR','FPR'])\n",
    "\n",
    "df_ROC_dtr"
   ]
  },
  {
   "cell_type": "code",
   "execution_count": 60,
   "id": "204b12dc-ad4b-4abc-b772-480fcb5df791",
   "metadata": {},
   "outputs": [
    {
     "name": "stderr",
     "output_type": "stream",
     "text": [
      "C:\\Users\\chall\\AppData\\Local\\Temp\\ipykernel_17560\\1989817740.py:16: RuntimeWarning: invalid value encountered in scalar divide\n",
      "  precision = TP/(TP+FP)\n",
      "C:\\Users\\chall\\AppData\\Local\\Temp\\ipykernel_17560\\1989817740.py:16: RuntimeWarning: invalid value encountered in scalar divide\n",
      "  precision = TP/(TP+FP)\n"
     ]
    }
   ],
   "source": [
    "\n",
    "#Threshold Tuning using max TPR-FPR\n",
    "model_dtr_tuned.fit(X_scaled,y)\n",
    "y_pred_prob_dtr = model_dtr_tuned.predict_proba(X_scaled)[:,1]\n",
    "y_pred_prob_dtr\n",
    "\n",
    "threshold = np.arange(0,1.1,0.1)\n",
    "for i in threshold:\n",
    "    y_pred_tuned_dtr = (y_pred_prob_dtr > i).astype('int')\n",
    "    cm_dtr = confusion_matrix(y,y_pred_tuned_dtr)\n",
    "    TP = cm_dtr[1,1]\n",
    "    TN = cm_dtr[0,0]\n",
    "    FP = cm_dtr[0,1]\n",
    "    FN = cm_dtr[1,0]\n",
    "\n",
    "    accuracy = (TP+TN)/(TP+TN+FP+FN)\n",
    "    precision = TP/(TP+FP)\n",
    "    recall = TP/(TP+FN)\n",
    "\n",
    "    TPR = recall\n",
    "    FPR = FP/(FP+TN)\n",
    "\n",
    "    df_ROC_dtr.loc[len(df_ROC_dtr)] = pd.Series({'Threshold':i,'TP':TP,'FP':FP,'TN':TN,'FN':FN,'TPR':TPR,'FPR':FPR})\n",
    "auc_score_dtr = round(roc_auc_score(y,y_pred_prob_dtr),2)"
   ]
  },
  {
   "cell_type": "code",
   "execution_count": 61,
   "id": "477a4de2-ce98-400e-9186-7a562e2528db",
   "metadata": {},
   "outputs": [
    {
     "data": {
      "text/html": [
       "<div>\n",
       "<style scoped>\n",
       "    .dataframe tbody tr th:only-of-type {\n",
       "        vertical-align: middle;\n",
       "    }\n",
       "\n",
       "    .dataframe tbody tr th {\n",
       "        vertical-align: top;\n",
       "    }\n",
       "\n",
       "    .dataframe thead th {\n",
       "        text-align: right;\n",
       "    }\n",
       "</style>\n",
       "<table border=\"1\" class=\"dataframe\">\n",
       "  <thead>\n",
       "    <tr style=\"text-align: right;\">\n",
       "      <th></th>\n",
       "      <th>Threshold</th>\n",
       "      <th>TP</th>\n",
       "      <th>FP</th>\n",
       "      <th>TN</th>\n",
       "      <th>FN</th>\n",
       "      <th>TPR</th>\n",
       "      <th>FPR</th>\n",
       "    </tr>\n",
       "  </thead>\n",
       "  <tbody>\n",
       "    <tr>\n",
       "      <th>0</th>\n",
       "      <td>0.0</td>\n",
       "      <td>470.0</td>\n",
       "      <td>369.0</td>\n",
       "      <td>0.0</td>\n",
       "      <td>0.0</td>\n",
       "      <td>1.000000</td>\n",
       "      <td>1.000000</td>\n",
       "    </tr>\n",
       "    <tr>\n",
       "      <th>1</th>\n",
       "      <td>0.1</td>\n",
       "      <td>470.0</td>\n",
       "      <td>369.0</td>\n",
       "      <td>0.0</td>\n",
       "      <td>0.0</td>\n",
       "      <td>1.000000</td>\n",
       "      <td>1.000000</td>\n",
       "    </tr>\n",
       "    <tr>\n",
       "      <th>2</th>\n",
       "      <td>0.2</td>\n",
       "      <td>470.0</td>\n",
       "      <td>369.0</td>\n",
       "      <td>0.0</td>\n",
       "      <td>0.0</td>\n",
       "      <td>1.000000</td>\n",
       "      <td>1.000000</td>\n",
       "    </tr>\n",
       "    <tr>\n",
       "      <th>3</th>\n",
       "      <td>0.3</td>\n",
       "      <td>470.0</td>\n",
       "      <td>369.0</td>\n",
       "      <td>0.0</td>\n",
       "      <td>0.0</td>\n",
       "      <td>1.000000</td>\n",
       "      <td>1.000000</td>\n",
       "    </tr>\n",
       "    <tr>\n",
       "      <th>4</th>\n",
       "      <td>0.4</td>\n",
       "      <td>447.0</td>\n",
       "      <td>332.0</td>\n",
       "      <td>37.0</td>\n",
       "      <td>23.0</td>\n",
       "      <td>0.951064</td>\n",
       "      <td>0.899729</td>\n",
       "    </tr>\n",
       "    <tr>\n",
       "      <th>5</th>\n",
       "      <td>0.5</td>\n",
       "      <td>326.0</td>\n",
       "      <td>193.0</td>\n",
       "      <td>176.0</td>\n",
       "      <td>144.0</td>\n",
       "      <td>0.693617</td>\n",
       "      <td>0.523035</td>\n",
       "    </tr>\n",
       "    <tr>\n",
       "      <th>6</th>\n",
       "      <td>0.6</td>\n",
       "      <td>156.0</td>\n",
       "      <td>66.0</td>\n",
       "      <td>303.0</td>\n",
       "      <td>314.0</td>\n",
       "      <td>0.331915</td>\n",
       "      <td>0.178862</td>\n",
       "    </tr>\n",
       "    <tr>\n",
       "      <th>7</th>\n",
       "      <td>0.7</td>\n",
       "      <td>79.0</td>\n",
       "      <td>26.0</td>\n",
       "      <td>343.0</td>\n",
       "      <td>391.0</td>\n",
       "      <td>0.168085</td>\n",
       "      <td>0.070461</td>\n",
       "    </tr>\n",
       "    <tr>\n",
       "      <th>8</th>\n",
       "      <td>0.8</td>\n",
       "      <td>18.0</td>\n",
       "      <td>4.0</td>\n",
       "      <td>365.0</td>\n",
       "      <td>452.0</td>\n",
       "      <td>0.038298</td>\n",
       "      <td>0.010840</td>\n",
       "    </tr>\n",
       "    <tr>\n",
       "      <th>9</th>\n",
       "      <td>0.9</td>\n",
       "      <td>0.0</td>\n",
       "      <td>0.0</td>\n",
       "      <td>369.0</td>\n",
       "      <td>470.0</td>\n",
       "      <td>0.000000</td>\n",
       "      <td>0.000000</td>\n",
       "    </tr>\n",
       "    <tr>\n",
       "      <th>10</th>\n",
       "      <td>1.0</td>\n",
       "      <td>0.0</td>\n",
       "      <td>0.0</td>\n",
       "      <td>369.0</td>\n",
       "      <td>470.0</td>\n",
       "      <td>0.000000</td>\n",
       "      <td>0.000000</td>\n",
       "    </tr>\n",
       "  </tbody>\n",
       "</table>\n",
       "</div>"
      ],
      "text/plain": [
       "    Threshold     TP     FP     TN     FN       TPR       FPR\n",
       "0         0.0  470.0  369.0    0.0    0.0  1.000000  1.000000\n",
       "1         0.1  470.0  369.0    0.0    0.0  1.000000  1.000000\n",
       "2         0.2  470.0  369.0    0.0    0.0  1.000000  1.000000\n",
       "3         0.3  470.0  369.0    0.0    0.0  1.000000  1.000000\n",
       "4         0.4  447.0  332.0   37.0   23.0  0.951064  0.899729\n",
       "5         0.5  326.0  193.0  176.0  144.0  0.693617  0.523035\n",
       "6         0.6  156.0   66.0  303.0  314.0  0.331915  0.178862\n",
       "7         0.7   79.0   26.0  343.0  391.0  0.168085  0.070461\n",
       "8         0.8   18.0    4.0  365.0  452.0  0.038298  0.010840\n",
       "9         0.9    0.0    0.0  369.0  470.0  0.000000  0.000000\n",
       "10        1.0    0.0    0.0  369.0  470.0  0.000000  0.000000"
      ]
     },
     "execution_count": 61,
     "metadata": {},
     "output_type": "execute_result"
    }
   ],
   "source": [
    "df_ROC_dtr"
   ]
  },
  {
   "cell_type": "code",
   "execution_count": 62,
   "id": "efe4001f-3c8a-41af-abdd-c2b3f259b1dc",
   "metadata": {},
   "outputs": [
    {
     "data": {
      "text/plain": [
       "<Axes: xlabel='FPR', ylabel='TPR'>"
      ]
     },
     "execution_count": 62,
     "metadata": {},
     "output_type": "execute_result"
    },
    {
     "data": {
      "image/png": "[encoded data removed]",
      "text/plain": [
       "<Figure size 640x480 with 1 Axes>"
      ]
     },
     "metadata": {},
     "output_type": "display_data"
    }
   ],
   "source": [
    "sns.lineplot(x = df_ROC_dtr['FPR'],y = df_ROC_dtr['TPR'],label = 'AUC Score : {}'.format(auc_score_dtr))"
   ]
  },
  {
   "cell_type": "code",
   "execution_count": 63,
   "id": "5ba3dd74-c96c-46b8-8e23-609a7f6d1fc5",
   "metadata": {},
   "outputs": [],
   "source": [
    "df_ROC_dtr['TPR-FPR']  = df_ROC_dtr['TPR'] - df_ROC_dtr['FPR']"
   ]
  },
  {
   "cell_type": "code",
   "execution_count": 64,
   "id": "0ef1818f-44c8-4815-bf3d-3f97714a7712",
   "metadata": {},
   "outputs": [
    {
     "data": {
      "text/html": [
       "<div>\n",
       "<style scoped>\n",
       "    .dataframe tbody tr th:only-of-type {\n",
       "        vertical-align: middle;\n",
       "    }\n",
       "\n",
       "    .dataframe tbody tr th {\n",
       "        vertical-align: top;\n",
       "    }\n",
       "\n",
       "    .dataframe thead th {\n",
       "        text-align: right;\n",
       "    }\n",
       "</style>\n",
       "<table border=\"1\" class=\"dataframe\">\n",
       "  <thead>\n",
       "    <tr style=\"text-align: right;\">\n",
       "      <th></th>\n",
       "      <th>Threshold</th>\n",
       "      <th>TP</th>\n",
       "      <th>FP</th>\n",
       "      <th>TN</th>\n",
       "      <th>FN</th>\n",
       "      <th>TPR</th>\n",
       "      <th>FPR</th>\n",
       "      <th>TPR-FPR</th>\n",
       "    </tr>\n",
       "  </thead>\n",
       "  <tbody>\n",
       "    <tr>\n",
       "      <th>0</th>\n",
       "      <td>0.0</td>\n",
       "      <td>470.0</td>\n",
       "      <td>369.0</td>\n",
       "      <td>0.0</td>\n",
       "      <td>0.0</td>\n",
       "      <td>1.000000</td>\n",
       "      <td>1.000000</td>\n",
       "      <td>0.000000</td>\n",
       "    </tr>\n",
       "    <tr>\n",
       "      <th>1</th>\n",
       "      <td>0.1</td>\n",
       "      <td>470.0</td>\n",
       "      <td>369.0</td>\n",
       "      <td>0.0</td>\n",
       "      <td>0.0</td>\n",
       "      <td>1.000000</td>\n",
       "      <td>1.000000</td>\n",
       "      <td>0.000000</td>\n",
       "    </tr>\n",
       "    <tr>\n",
       "      <th>2</th>\n",
       "      <td>0.2</td>\n",
       "      <td>470.0</td>\n",
       "      <td>369.0</td>\n",
       "      <td>0.0</td>\n",
       "      <td>0.0</td>\n",
       "      <td>1.000000</td>\n",
       "      <td>1.000000</td>\n",
       "      <td>0.000000</td>\n",
       "    </tr>\n",
       "    <tr>\n",
       "      <th>3</th>\n",
       "      <td>0.3</td>\n",
       "      <td>470.0</td>\n",
       "      <td>369.0</td>\n",
       "      <td>0.0</td>\n",
       "      <td>0.0</td>\n",
       "      <td>1.000000</td>\n",
       "      <td>1.000000</td>\n",
       "      <td>0.000000</td>\n",
       "    </tr>\n",
       "    <tr>\n",
       "      <th>4</th>\n",
       "      <td>0.4</td>\n",
       "      <td>447.0</td>\n",
       "      <td>332.0</td>\n",
       "      <td>37.0</td>\n",
       "      <td>23.0</td>\n",
       "      <td>0.951064</td>\n",
       "      <td>0.899729</td>\n",
       "      <td>0.051335</td>\n",
       "    </tr>\n",
       "    <tr>\n",
       "      <th>5</th>\n",
       "      <td>0.5</td>\n",
       "      <td>326.0</td>\n",
       "      <td>193.0</td>\n",
       "      <td>176.0</td>\n",
       "      <td>144.0</td>\n",
       "      <td>0.693617</td>\n",
       "      <td>0.523035</td>\n",
       "      <td>0.170582</td>\n",
       "    </tr>\n",
       "    <tr>\n",
       "      <th>6</th>\n",
       "      <td>0.6</td>\n",
       "      <td>156.0</td>\n",
       "      <td>66.0</td>\n",
       "      <td>303.0</td>\n",
       "      <td>314.0</td>\n",
       "      <td>0.331915</td>\n",
       "      <td>0.178862</td>\n",
       "      <td>0.153053</td>\n",
       "    </tr>\n",
       "    <tr>\n",
       "      <th>7</th>\n",
       "      <td>0.7</td>\n",
       "      <td>79.0</td>\n",
       "      <td>26.0</td>\n",
       "      <td>343.0</td>\n",
       "      <td>391.0</td>\n",
       "      <td>0.168085</td>\n",
       "      <td>0.070461</td>\n",
       "      <td>0.097624</td>\n",
       "    </tr>\n",
       "    <tr>\n",
       "      <th>8</th>\n",
       "      <td>0.8</td>\n",
       "      <td>18.0</td>\n",
       "      <td>4.0</td>\n",
       "      <td>365.0</td>\n",
       "      <td>452.0</td>\n",
       "      <td>0.038298</td>\n",
       "      <td>0.010840</td>\n",
       "      <td>0.027458</td>\n",
       "    </tr>\n",
       "    <tr>\n",
       "      <th>9</th>\n",
       "      <td>0.9</td>\n",
       "      <td>0.0</td>\n",
       "      <td>0.0</td>\n",
       "      <td>369.0</td>\n",
       "      <td>470.0</td>\n",
       "      <td>0.000000</td>\n",
       "      <td>0.000000</td>\n",
       "      <td>0.000000</td>\n",
       "    </tr>\n",
       "    <tr>\n",
       "      <th>10</th>\n",
       "      <td>1.0</td>\n",
       "      <td>0.0</td>\n",
       "      <td>0.0</td>\n",
       "      <td>369.0</td>\n",
       "      <td>470.0</td>\n",
       "      <td>0.000000</td>\n",
       "      <td>0.000000</td>\n",
       "      <td>0.000000</td>\n",
       "    </tr>\n",
       "  </tbody>\n",
       "</table>\n",
       "</div>"
      ],
      "text/plain": [
       "    Threshold     TP     FP     TN     FN       TPR       FPR   TPR-FPR\n",
       "0         0.0  470.0  369.0    0.0    0.0  1.000000  1.000000  0.000000\n",
       "1         0.1  470.0  369.0    0.0    0.0  1.000000  1.000000  0.000000\n",
       "2         0.2  470.0  369.0    0.0    0.0  1.000000  1.000000  0.000000\n",
       "3         0.3  470.0  369.0    0.0    0.0  1.000000  1.000000  0.000000\n",
       "4         0.4  447.0  332.0   37.0   23.0  0.951064  0.899729  0.051335\n",
       "5         0.5  326.0  193.0  176.0  144.0  0.693617  0.523035  0.170582\n",
       "6         0.6  156.0   66.0  303.0  314.0  0.331915  0.178862  0.153053\n",
       "7         0.7   79.0   26.0  343.0  391.0  0.168085  0.070461  0.097624\n",
       "8         0.8   18.0    4.0  365.0  452.0  0.038298  0.010840  0.027458\n",
       "9         0.9    0.0    0.0  369.0  470.0  0.000000  0.000000  0.000000\n",
       "10        1.0    0.0    0.0  369.0  470.0  0.000000  0.000000  0.000000"
      ]
     },
     "execution_count": 64,
     "metadata": {},
     "output_type": "execute_result"
    }
   ],
   "source": [
    "df_ROC_dtr"
   ]
  },
  {
   "cell_type": "code",
   "execution_count": 66,
   "id": "4e7978a4-3409-4e8a-ad31-d9fb13bcd247",
   "metadata": {},
   "outputs": [],
   "source": [
    "y_pred_tuned_dtr = (y_pred_prob_dtr > 0.5).astype('int')\n",
    "cm_dtr_tuned = confusion_matrix(y,y_pred_tuned_dtr)\n",
    "TP = cm_dtr_tuned[1,1]\n",
    "TN = cm_dtr_tuned[0,0]\n",
    "FP = cm_dtr_tuned[0,1]\n",
    "FN = cm_dtr_tuned[1,0]\n",
    "\n",
    "accuracy = (TP+TN)/(TP+TN+FP+FN)\n",
    "misclassification = 1-accuracy\n",
    "precision = TP/(TP+FP)\n",
    "recall = TP/(TP+FN)\n",
    "\n",
    "TPR = recall\n",
    "FPR = FP/(FP+TN)"
   ]
  },
  {
   "cell_type": "code",
   "execution_count": 67,
   "id": "ea960e9e-7d48-4ddc-a558-56b6d6403a1f",
   "metadata": {},
   "outputs": [
    {
     "name": "stdout",
     "output_type": "stream",
     "text": [
      "Decision Tree Performance Metrics\n",
      "----------------------------------------\n",
      "Accuracy: 0.5983313468414779\n",
      "Precision: 0.628131021194605\n",
      "Recall: 0.6936170212765957\n",
      "TPR: 0.6936170212765957\n",
      "FPR: 0.5230352303523035\n"
     ]
    }
   ],
   "source": [
    "print(\"Decision Tree Performance Metrics\")\n",
    "\n",
    "print('-'*40)\n",
    "print('Accuracy:',accuracy)\n",
    "print('Precision:',precision)\n",
    "print('Recall:',recall)\n",
    "print('TPR:',TPR)\n",
    "print('FPR:',FPR)"
   ]
  },
  {
   "cell_type": "code",
   "execution_count": 68,
   "id": "59216bef-05a6-4d20-a539-7e9a30cf7d87",
   "metadata": {
    "tags": []
   },
   "outputs": [
    {
     "data": {
      "text/html": [
       "<div>\n",
       "<style scoped>\n",
       "    .dataframe tbody tr th:only-of-type {\n",
       "        vertical-align: middle;\n",
       "    }\n",
       "\n",
       "    .dataframe tbody tr th {\n",
       "        vertical-align: top;\n",
       "    }\n",
       "\n",
       "    .dataframe thead th {\n",
       "        text-align: right;\n",
       "    }\n",
       "</style>\n",
       "<table border=\"1\" class=\"dataframe\">\n",
       "  <thead>\n",
       "    <tr style=\"text-align: right;\">\n",
       "      <th></th>\n",
       "      <th>Model</th>\n",
       "      <th>Accuracy Score</th>\n",
       "      <th>Precision</th>\n",
       "      <th>Recall</th>\n",
       "      <th>Misclassification</th>\n",
       "    </tr>\n",
       "  </thead>\n",
       "  <tbody>\n",
       "    <tr>\n",
       "      <th>0</th>\n",
       "      <td>kNN Classifier</td>\n",
       "      <td>0.555423</td>\n",
       "      <td>0.67509</td>\n",
       "      <td>0.397872</td>\n",
       "      <td>0.444577</td>\n",
       "    </tr>\n",
       "  </tbody>\n",
       "</table>\n",
       "</div>"
      ],
      "text/plain": [
       "            Model Accuracy Score Precision    Recall Misclassification\n",
       "0  kNN Classifier       0.555423   0.67509  0.397872          0.444577"
      ]
     },
     "execution_count": 68,
     "metadata": {},
     "output_type": "execute_result"
    }
   ],
   "source": [
    "summary"
   ]
  },
  {
   "cell_type": "code",
   "execution_count": 69,
   "id": "80756334-2524-4a5b-8813-870a7951d1db",
   "metadata": {
    "tags": []
   },
   "outputs": [
    {
     "data": {
      "text/html": [
       "<div>\n",
       "<style scoped>\n",
       "    .dataframe tbody tr th:only-of-type {\n",
       "        vertical-align: middle;\n",
       "    }\n",
       "\n",
       "    .dataframe tbody tr th {\n",
       "        vertical-align: top;\n",
       "    }\n",
       "\n",
       "    .dataframe thead th {\n",
       "        text-align: right;\n",
       "    }\n",
       "</style>\n",
       "<table border=\"1\" class=\"dataframe\">\n",
       "  <thead>\n",
       "    <tr style=\"text-align: right;\">\n",
       "      <th></th>\n",
       "      <th>Model</th>\n",
       "      <th>Accuracy Score</th>\n",
       "      <th>Precision</th>\n",
       "      <th>Recall</th>\n",
       "      <th>Misclassification</th>\n",
       "    </tr>\n",
       "  </thead>\n",
       "  <tbody>\n",
       "    <tr>\n",
       "      <th>0</th>\n",
       "      <td>kNN Classifier</td>\n",
       "      <td>0.555423</td>\n",
       "      <td>0.67509</td>\n",
       "      <td>0.397872</td>\n",
       "      <td>0.444577</td>\n",
       "    </tr>\n",
       "    <tr>\n",
       "      <th>1</th>\n",
       "      <td>Decision tree Classifier</td>\n",
       "      <td>0.598331</td>\n",
       "      <td>0.628131</td>\n",
       "      <td>0.693617</td>\n",
       "      <td>0.401669</td>\n",
       "    </tr>\n",
       "  </tbody>\n",
       "</table>\n",
       "</div>"
      ],
      "text/plain": [
       "                      Model Accuracy Score Precision    Recall  \\\n",
       "0            kNN Classifier       0.555423   0.67509  0.397872   \n",
       "1  Decision tree Classifier       0.598331  0.628131  0.693617   \n",
       "\n",
       "  Misclassification  \n",
       "0          0.444577  \n",
       "1          0.401669  "
      ]
     },
     "execution_count": 69,
     "metadata": {},
     "output_type": "execute_result"
    }
   ],
   "source": [
    "summary.loc[len(summary)] = pd.Series({'Model':'Decision tree Classifier','Accuracy Score':accuracy,'Precision':precision,'Recall':recall,'Misclassification':1-accuracy})\n",
    "summary"
   ]
  }
 ],
 "metadata": {
  "kernelspec": {
   "display_name": "Python 3 (ipykernel)",
   "language": "python",
   "name": "python3"
  },
  "language_info": {
   "codemirror_mode": {
    "name": "ipython",
    "version": 3
   },
   "file_extension": ".py",
   "mimetype": "text/x-python",
   "name": "python",
   "nbconvert_exporter": "python",
   "pygments_lexer": "ipython3",
   "version": "3.11.5"
  }
 },
 "nbformat": 4,
 "nbformat_minor": 5
}
