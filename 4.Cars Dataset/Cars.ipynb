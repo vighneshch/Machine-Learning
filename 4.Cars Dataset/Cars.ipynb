{
 "cells": [
  {
   "cell_type": "code",
   "execution_count": 1,
   "id": "6f6a4bb3-9f7b-4fc6-b13d-231f9f4b68b5",
   "metadata": {
    "tags": []
   },
   "outputs": [],
   "source": [
    "#Importing the necessary datasets\n",
    "\n",
    "import numpy as np\n",
    "import pandas as pd\n",
    "import seaborn as sns\n",
    "import matplotlib.pyplot as plt\n",
    "\n",
    "from sklearn.preprocessing import MinMaxScaler\n",
    "from sklearn.model_selection import train_test_split,cross_val_score\n",
    "from sklearn.metrics import mean_absolute_percentage_error\n",
    "from sklearn.neighbors import KNeighborsRegressor"
   ]
  },
  {
   "cell_type": "code",
   "execution_count": 2,
   "id": "82413453-4e37-42fd-91bd-4f014b3960b7",
   "metadata": {
    "tags": []
   },
   "outputs": [],
   "source": [
    "#Loading the dataset\n",
    "\n",
    "df = pd.read_csv('D:\\\\DataScience\\\\Term 1\\\\8.IML\\\\1.Assignments\\\\1.Assigment for midterm\\\\34 Challa Vighnesh_DataSets_input\\\\Cars.csv')"
   ]
  },
  {
   "cell_type": "code",
   "execution_count": 4,
   "id": "dce2b560-06ca-496e-977e-9e6d2ec30653",
   "metadata": {
    "tags": []
   },
   "outputs": [
    {
     "data": {
      "text/html": [
       "<div>\n",
       "<style scoped>\n",
       "    .dataframe tbody tr th:only-of-type {\n",
       "        vertical-align: middle;\n",
       "    }\n",
       "\n",
       "    .dataframe tbody tr th {\n",
       "        vertical-align: top;\n",
       "    }\n",
       "\n",
       "    .dataframe thead th {\n",
       "        text-align: right;\n",
       "    }\n",
       "</style>\n",
       "<table border=\"1\" class=\"dataframe\">\n",
       "  <thead>\n",
       "    <tr style=\"text-align: right;\">\n",
       "      <th></th>\n",
       "      <th>Make</th>\n",
       "      <th>Model</th>\n",
       "      <th>Year</th>\n",
       "      <th>Engine Fuel Type</th>\n",
       "      <th>Engine HP</th>\n",
       "      <th>Engine Cylinders</th>\n",
       "      <th>Transmission Type</th>\n",
       "      <th>Driven_Wheels</th>\n",
       "      <th>Number of Doors</th>\n",
       "      <th>Market Category</th>\n",
       "      <th>Vehicle Size</th>\n",
       "      <th>Vehicle Style</th>\n",
       "      <th>highway MPG</th>\n",
       "      <th>city mpg</th>\n",
       "      <th>Popularity</th>\n",
       "      <th>MSRP</th>\n",
       "    </tr>\n",
       "  </thead>\n",
       "  <tbody>\n",
       "    <tr>\n",
       "      <th>0</th>\n",
       "      <td>BMW</td>\n",
       "      <td>1 Series M</td>\n",
       "      <td>2011</td>\n",
       "      <td>premium unleaded (required)</td>\n",
       "      <td>335.0</td>\n",
       "      <td>6.0</td>\n",
       "      <td>MANUAL</td>\n",
       "      <td>rear wheel drive</td>\n",
       "      <td>2.0</td>\n",
       "      <td>Factory Tuner,Luxury,High-Performance</td>\n",
       "      <td>Compact</td>\n",
       "      <td>Coupe</td>\n",
       "      <td>26</td>\n",
       "      <td>19</td>\n",
       "      <td>3916</td>\n",
       "      <td>46135</td>\n",
       "    </tr>\n",
       "    <tr>\n",
       "      <th>1</th>\n",
       "      <td>BMW</td>\n",
       "      <td>1 Series</td>\n",
       "      <td>2011</td>\n",
       "      <td>premium unleaded (required)</td>\n",
       "      <td>300.0</td>\n",
       "      <td>6.0</td>\n",
       "      <td>MANUAL</td>\n",
       "      <td>rear wheel drive</td>\n",
       "      <td>2.0</td>\n",
       "      <td>Luxury,Performance</td>\n",
       "      <td>Compact</td>\n",
       "      <td>Convertible</td>\n",
       "      <td>28</td>\n",
       "      <td>19</td>\n",
       "      <td>3916</td>\n",
       "      <td>40650</td>\n",
       "    </tr>\n",
       "    <tr>\n",
       "      <th>2</th>\n",
       "      <td>BMW</td>\n",
       "      <td>1 Series</td>\n",
       "      <td>2011</td>\n",
       "      <td>premium unleaded (required)</td>\n",
       "      <td>300.0</td>\n",
       "      <td>6.0</td>\n",
       "      <td>MANUAL</td>\n",
       "      <td>rear wheel drive</td>\n",
       "      <td>2.0</td>\n",
       "      <td>Luxury,High-Performance</td>\n",
       "      <td>Compact</td>\n",
       "      <td>Coupe</td>\n",
       "      <td>28</td>\n",
       "      <td>20</td>\n",
       "      <td>3916</td>\n",
       "      <td>36350</td>\n",
       "    </tr>\n",
       "    <tr>\n",
       "      <th>3</th>\n",
       "      <td>BMW</td>\n",
       "      <td>1 Series</td>\n",
       "      <td>2011</td>\n",
       "      <td>premium unleaded (required)</td>\n",
       "      <td>230.0</td>\n",
       "      <td>6.0</td>\n",
       "      <td>MANUAL</td>\n",
       "      <td>rear wheel drive</td>\n",
       "      <td>2.0</td>\n",
       "      <td>Luxury,Performance</td>\n",
       "      <td>Compact</td>\n",
       "      <td>Coupe</td>\n",
       "      <td>28</td>\n",
       "      <td>18</td>\n",
       "      <td>3916</td>\n",
       "      <td>29450</td>\n",
       "    </tr>\n",
       "    <tr>\n",
       "      <th>4</th>\n",
       "      <td>BMW</td>\n",
       "      <td>1 Series</td>\n",
       "      <td>2011</td>\n",
       "      <td>premium unleaded (required)</td>\n",
       "      <td>230.0</td>\n",
       "      <td>6.0</td>\n",
       "      <td>MANUAL</td>\n",
       "      <td>rear wheel drive</td>\n",
       "      <td>2.0</td>\n",
       "      <td>Luxury</td>\n",
       "      <td>Compact</td>\n",
       "      <td>Convertible</td>\n",
       "      <td>28</td>\n",
       "      <td>18</td>\n",
       "      <td>3916</td>\n",
       "      <td>34500</td>\n",
       "    </tr>\n",
       "  </tbody>\n",
       "</table>\n",
       "</div>"
      ],
      "text/plain": [
       "  Make       Model  Year             Engine Fuel Type  Engine HP  \\\n",
       "0  BMW  1 Series M  2011  premium unleaded (required)      335.0   \n",
       "1  BMW    1 Series  2011  premium unleaded (required)      300.0   \n",
       "2  BMW    1 Series  2011  premium unleaded (required)      300.0   \n",
       "3  BMW    1 Series  2011  premium unleaded (required)      230.0   \n",
       "4  BMW    1 Series  2011  premium unleaded (required)      230.0   \n",
       "\n",
       "   Engine Cylinders Transmission Type     Driven_Wheels  Number of Doors  \\\n",
       "0               6.0            MANUAL  rear wheel drive              2.0   \n",
       "1               6.0            MANUAL  rear wheel drive              2.0   \n",
       "2               6.0            MANUAL  rear wheel drive              2.0   \n",
       "3               6.0            MANUAL  rear wheel drive              2.0   \n",
       "4               6.0            MANUAL  rear wheel drive              2.0   \n",
       "\n",
       "                         Market Category Vehicle Size Vehicle Style  \\\n",
       "0  Factory Tuner,Luxury,High-Performance      Compact         Coupe   \n",
       "1                     Luxury,Performance      Compact   Convertible   \n",
       "2                Luxury,High-Performance      Compact         Coupe   \n",
       "3                     Luxury,Performance      Compact         Coupe   \n",
       "4                                 Luxury      Compact   Convertible   \n",
       "\n",
       "   highway MPG  city mpg  Popularity   MSRP  \n",
       "0           26        19        3916  46135  \n",
       "1           28        19        3916  40650  \n",
       "2           28        20        3916  36350  \n",
       "3           28        18        3916  29450  \n",
       "4           28        18        3916  34500  "
      ]
     },
     "execution_count": 4,
     "metadata": {},
     "output_type": "execute_result"
    }
   ],
   "source": [
    "df.head()"
   ]
  },
  {
   "cell_type": "code",
   "execution_count": 5,
   "id": "07c1c23c-9df5-46c2-b367-9069944ddfd4",
   "metadata": {
    "tags": []
   },
   "outputs": [
    {
     "data": {
      "text/html": [
       "<div>\n",
       "<style scoped>\n",
       "    .dataframe tbody tr th:only-of-type {\n",
       "        vertical-align: middle;\n",
       "    }\n",
       "\n",
       "    .dataframe tbody tr th {\n",
       "        vertical-align: top;\n",
       "    }\n",
       "\n",
       "    .dataframe thead th {\n",
       "        text-align: right;\n",
       "    }\n",
       "</style>\n",
       "<table border=\"1\" class=\"dataframe\">\n",
       "  <thead>\n",
       "    <tr style=\"text-align: right;\">\n",
       "      <th></th>\n",
       "      <th>Make</th>\n",
       "      <th>Model</th>\n",
       "      <th>Year</th>\n",
       "      <th>Engine Fuel Type</th>\n",
       "      <th>Engine HP</th>\n",
       "      <th>Engine Cylinders</th>\n",
       "      <th>Transmission Type</th>\n",
       "      <th>Driven_Wheels</th>\n",
       "      <th>Number of Doors</th>\n",
       "      <th>Market Category</th>\n",
       "      <th>Vehicle Size</th>\n",
       "      <th>Vehicle Style</th>\n",
       "      <th>highway MPG</th>\n",
       "      <th>city mpg</th>\n",
       "      <th>Popularity</th>\n",
       "      <th>MSRP</th>\n",
       "    </tr>\n",
       "  </thead>\n",
       "  <tbody>\n",
       "    <tr>\n",
       "      <th>11909</th>\n",
       "      <td>Acura</td>\n",
       "      <td>ZDX</td>\n",
       "      <td>2012</td>\n",
       "      <td>premium unleaded (required)</td>\n",
       "      <td>300.0</td>\n",
       "      <td>6.0</td>\n",
       "      <td>AUTOMATIC</td>\n",
       "      <td>all wheel drive</td>\n",
       "      <td>4.0</td>\n",
       "      <td>Crossover,Hatchback,Luxury</td>\n",
       "      <td>Midsize</td>\n",
       "      <td>4dr Hatchback</td>\n",
       "      <td>23</td>\n",
       "      <td>16</td>\n",
       "      <td>204</td>\n",
       "      <td>46120</td>\n",
       "    </tr>\n",
       "    <tr>\n",
       "      <th>11910</th>\n",
       "      <td>Acura</td>\n",
       "      <td>ZDX</td>\n",
       "      <td>2012</td>\n",
       "      <td>premium unleaded (required)</td>\n",
       "      <td>300.0</td>\n",
       "      <td>6.0</td>\n",
       "      <td>AUTOMATIC</td>\n",
       "      <td>all wheel drive</td>\n",
       "      <td>4.0</td>\n",
       "      <td>Crossover,Hatchback,Luxury</td>\n",
       "      <td>Midsize</td>\n",
       "      <td>4dr Hatchback</td>\n",
       "      <td>23</td>\n",
       "      <td>16</td>\n",
       "      <td>204</td>\n",
       "      <td>56670</td>\n",
       "    </tr>\n",
       "    <tr>\n",
       "      <th>11911</th>\n",
       "      <td>Acura</td>\n",
       "      <td>ZDX</td>\n",
       "      <td>2012</td>\n",
       "      <td>premium unleaded (required)</td>\n",
       "      <td>300.0</td>\n",
       "      <td>6.0</td>\n",
       "      <td>AUTOMATIC</td>\n",
       "      <td>all wheel drive</td>\n",
       "      <td>4.0</td>\n",
       "      <td>Crossover,Hatchback,Luxury</td>\n",
       "      <td>Midsize</td>\n",
       "      <td>4dr Hatchback</td>\n",
       "      <td>23</td>\n",
       "      <td>16</td>\n",
       "      <td>204</td>\n",
       "      <td>50620</td>\n",
       "    </tr>\n",
       "    <tr>\n",
       "      <th>11912</th>\n",
       "      <td>Acura</td>\n",
       "      <td>ZDX</td>\n",
       "      <td>2013</td>\n",
       "      <td>premium unleaded (recommended)</td>\n",
       "      <td>300.0</td>\n",
       "      <td>6.0</td>\n",
       "      <td>AUTOMATIC</td>\n",
       "      <td>all wheel drive</td>\n",
       "      <td>4.0</td>\n",
       "      <td>Crossover,Hatchback,Luxury</td>\n",
       "      <td>Midsize</td>\n",
       "      <td>4dr Hatchback</td>\n",
       "      <td>23</td>\n",
       "      <td>16</td>\n",
       "      <td>204</td>\n",
       "      <td>50920</td>\n",
       "    </tr>\n",
       "    <tr>\n",
       "      <th>11913</th>\n",
       "      <td>Lincoln</td>\n",
       "      <td>Zephyr</td>\n",
       "      <td>2006</td>\n",
       "      <td>regular unleaded</td>\n",
       "      <td>221.0</td>\n",
       "      <td>6.0</td>\n",
       "      <td>AUTOMATIC</td>\n",
       "      <td>front wheel drive</td>\n",
       "      <td>4.0</td>\n",
       "      <td>Luxury</td>\n",
       "      <td>Midsize</td>\n",
       "      <td>Sedan</td>\n",
       "      <td>26</td>\n",
       "      <td>17</td>\n",
       "      <td>61</td>\n",
       "      <td>28995</td>\n",
       "    </tr>\n",
       "  </tbody>\n",
       "</table>\n",
       "</div>"
      ],
      "text/plain": [
       "          Make   Model  Year                Engine Fuel Type  Engine HP  \\\n",
       "11909    Acura     ZDX  2012     premium unleaded (required)      300.0   \n",
       "11910    Acura     ZDX  2012     premium unleaded (required)      300.0   \n",
       "11911    Acura     ZDX  2012     premium unleaded (required)      300.0   \n",
       "11912    Acura     ZDX  2013  premium unleaded (recommended)      300.0   \n",
       "11913  Lincoln  Zephyr  2006                regular unleaded      221.0   \n",
       "\n",
       "       Engine Cylinders Transmission Type      Driven_Wheels  Number of Doors  \\\n",
       "11909               6.0         AUTOMATIC    all wheel drive              4.0   \n",
       "11910               6.0         AUTOMATIC    all wheel drive              4.0   \n",
       "11911               6.0         AUTOMATIC    all wheel drive              4.0   \n",
       "11912               6.0         AUTOMATIC    all wheel drive              4.0   \n",
       "11913               6.0         AUTOMATIC  front wheel drive              4.0   \n",
       "\n",
       "                  Market Category Vehicle Size  Vehicle Style  highway MPG  \\\n",
       "11909  Crossover,Hatchback,Luxury      Midsize  4dr Hatchback           23   \n",
       "11910  Crossover,Hatchback,Luxury      Midsize  4dr Hatchback           23   \n",
       "11911  Crossover,Hatchback,Luxury      Midsize  4dr Hatchback           23   \n",
       "11912  Crossover,Hatchback,Luxury      Midsize  4dr Hatchback           23   \n",
       "11913                      Luxury      Midsize          Sedan           26   \n",
       "\n",
       "       city mpg  Popularity   MSRP  \n",
       "11909        16         204  46120  \n",
       "11910        16         204  56670  \n",
       "11911        16         204  50620  \n",
       "11912        16         204  50920  \n",
       "11913        17          61  28995  "
      ]
     },
     "execution_count": 5,
     "metadata": {},
     "output_type": "execute_result"
    }
   ],
   "source": [
    "df.tail()"
   ]
  },
  {
   "cell_type": "code",
   "execution_count": 6,
   "id": "57065795-f1c3-4ccd-95ac-381e810c669f",
   "metadata": {
    "tags": []
   },
   "outputs": [
    {
     "name": "stdout",
     "output_type": "stream",
     "text": [
      "<class 'pandas.core.frame.DataFrame'>\n",
      "RangeIndex: 11914 entries, 0 to 11913\n",
      "Data columns (total 16 columns):\n",
      " #   Column             Non-Null Count  Dtype  \n",
      "---  ------             --------------  -----  \n",
      " 0   Make               11914 non-null  object \n",
      " 1   Model              11914 non-null  object \n",
      " 2   Year               11914 non-null  int64  \n",
      " 3   Engine Fuel Type   11911 non-null  object \n",
      " 4   Engine HP          11845 non-null  float64\n",
      " 5   Engine Cylinders   11884 non-null  float64\n",
      " 6   Transmission Type  11914 non-null  object \n",
      " 7   Driven_Wheels      11914 non-null  object \n",
      " 8   Number of Doors    11908 non-null  float64\n",
      " 9   Market Category    8172 non-null   object \n",
      " 10  Vehicle Size       11914 non-null  object \n",
      " 11  Vehicle Style      11914 non-null  object \n",
      " 12  highway MPG        11914 non-null  int64  \n",
      " 13  city mpg           11914 non-null  int64  \n",
      " 14  Popularity         11914 non-null  int64  \n",
      " 15  MSRP               11914 non-null  int64  \n",
      "dtypes: float64(3), int64(5), object(8)\n",
      "memory usage: 1.5+ MB\n"
     ]
    }
   ],
   "source": [
    "df.info()"
   ]
  },
  {
   "cell_type": "code",
   "execution_count": 7,
   "id": "57083c4b-e23a-4851-b15d-693690030f04",
   "metadata": {
    "tags": []
   },
   "outputs": [],
   "source": [
    "#There are null values in the columns Engine HP,Engine Cylinders,Number of doors,Market Category"
   ]
  },
  {
   "cell_type": "code",
   "execution_count": 8,
   "id": "6c03d294-cdca-491f-bb7b-9c6bba99e43c",
   "metadata": {
    "tags": []
   },
   "outputs": [],
   "source": [
    "#Dropping the irrelavant rows\n",
    "\n",
    "df = df.drop('Market Category',axis = 1)"
   ]
  },
  {
   "cell_type": "code",
   "execution_count": 9,
   "id": "7b400843-dc60-4836-bc81-5cfd4ee0fafd",
   "metadata": {
    "tags": []
   },
   "outputs": [
    {
     "data": {
      "text/html": [
       "<div>\n",
       "<style scoped>\n",
       "    .dataframe tbody tr th:only-of-type {\n",
       "        vertical-align: middle;\n",
       "    }\n",
       "\n",
       "    .dataframe tbody tr th {\n",
       "        vertical-align: top;\n",
       "    }\n",
       "\n",
       "    .dataframe thead th {\n",
       "        text-align: right;\n",
       "    }\n",
       "</style>\n",
       "<table border=\"1\" class=\"dataframe\">\n",
       "  <thead>\n",
       "    <tr style=\"text-align: right;\">\n",
       "      <th></th>\n",
       "      <th>Make</th>\n",
       "      <th>Model</th>\n",
       "      <th>Year</th>\n",
       "      <th>Engine Fuel Type</th>\n",
       "      <th>Engine HP</th>\n",
       "      <th>Engine Cylinders</th>\n",
       "      <th>Transmission Type</th>\n",
       "      <th>Driven_Wheels</th>\n",
       "      <th>Number of Doors</th>\n",
       "      <th>Vehicle Size</th>\n",
       "      <th>Vehicle Style</th>\n",
       "      <th>highway MPG</th>\n",
       "      <th>city mpg</th>\n",
       "      <th>Popularity</th>\n",
       "      <th>MSRP</th>\n",
       "    </tr>\n",
       "  </thead>\n",
       "  <tbody>\n",
       "    <tr>\n",
       "      <th>0</th>\n",
       "      <td>BMW</td>\n",
       "      <td>1 Series M</td>\n",
       "      <td>2011</td>\n",
       "      <td>premium unleaded (required)</td>\n",
       "      <td>335.0</td>\n",
       "      <td>6.0</td>\n",
       "      <td>MANUAL</td>\n",
       "      <td>rear wheel drive</td>\n",
       "      <td>2.0</td>\n",
       "      <td>Compact</td>\n",
       "      <td>Coupe</td>\n",
       "      <td>26</td>\n",
       "      <td>19</td>\n",
       "      <td>3916</td>\n",
       "      <td>46135</td>\n",
       "    </tr>\n",
       "    <tr>\n",
       "      <th>1</th>\n",
       "      <td>BMW</td>\n",
       "      <td>1 Series</td>\n",
       "      <td>2011</td>\n",
       "      <td>premium unleaded (required)</td>\n",
       "      <td>300.0</td>\n",
       "      <td>6.0</td>\n",
       "      <td>MANUAL</td>\n",
       "      <td>rear wheel drive</td>\n",
       "      <td>2.0</td>\n",
       "      <td>Compact</td>\n",
       "      <td>Convertible</td>\n",
       "      <td>28</td>\n",
       "      <td>19</td>\n",
       "      <td>3916</td>\n",
       "      <td>40650</td>\n",
       "    </tr>\n",
       "    <tr>\n",
       "      <th>2</th>\n",
       "      <td>BMW</td>\n",
       "      <td>1 Series</td>\n",
       "      <td>2011</td>\n",
       "      <td>premium unleaded (required)</td>\n",
       "      <td>300.0</td>\n",
       "      <td>6.0</td>\n",
       "      <td>MANUAL</td>\n",
       "      <td>rear wheel drive</td>\n",
       "      <td>2.0</td>\n",
       "      <td>Compact</td>\n",
       "      <td>Coupe</td>\n",
       "      <td>28</td>\n",
       "      <td>20</td>\n",
       "      <td>3916</td>\n",
       "      <td>36350</td>\n",
       "    </tr>\n",
       "    <tr>\n",
       "      <th>3</th>\n",
       "      <td>BMW</td>\n",
       "      <td>1 Series</td>\n",
       "      <td>2011</td>\n",
       "      <td>premium unleaded (required)</td>\n",
       "      <td>230.0</td>\n",
       "      <td>6.0</td>\n",
       "      <td>MANUAL</td>\n",
       "      <td>rear wheel drive</td>\n",
       "      <td>2.0</td>\n",
       "      <td>Compact</td>\n",
       "      <td>Coupe</td>\n",
       "      <td>28</td>\n",
       "      <td>18</td>\n",
       "      <td>3916</td>\n",
       "      <td>29450</td>\n",
       "    </tr>\n",
       "    <tr>\n",
       "      <th>4</th>\n",
       "      <td>BMW</td>\n",
       "      <td>1 Series</td>\n",
       "      <td>2011</td>\n",
       "      <td>premium unleaded (required)</td>\n",
       "      <td>230.0</td>\n",
       "      <td>6.0</td>\n",
       "      <td>MANUAL</td>\n",
       "      <td>rear wheel drive</td>\n",
       "      <td>2.0</td>\n",
       "      <td>Compact</td>\n",
       "      <td>Convertible</td>\n",
       "      <td>28</td>\n",
       "      <td>18</td>\n",
       "      <td>3916</td>\n",
       "      <td>34500</td>\n",
       "    </tr>\n",
       "  </tbody>\n",
       "</table>\n",
       "</div>"
      ],
      "text/plain": [
       "  Make       Model  Year             Engine Fuel Type  Engine HP  \\\n",
       "0  BMW  1 Series M  2011  premium unleaded (required)      335.0   \n",
       "1  BMW    1 Series  2011  premium unleaded (required)      300.0   \n",
       "2  BMW    1 Series  2011  premium unleaded (required)      300.0   \n",
       "3  BMW    1 Series  2011  premium unleaded (required)      230.0   \n",
       "4  BMW    1 Series  2011  premium unleaded (required)      230.0   \n",
       "\n",
       "   Engine Cylinders Transmission Type     Driven_Wheels  Number of Doors  \\\n",
       "0               6.0            MANUAL  rear wheel drive              2.0   \n",
       "1               6.0            MANUAL  rear wheel drive              2.0   \n",
       "2               6.0            MANUAL  rear wheel drive              2.0   \n",
       "3               6.0            MANUAL  rear wheel drive              2.0   \n",
       "4               6.0            MANUAL  rear wheel drive              2.0   \n",
       "\n",
       "  Vehicle Size Vehicle Style  highway MPG  city mpg  Popularity   MSRP  \n",
       "0      Compact         Coupe           26        19        3916  46135  \n",
       "1      Compact   Convertible           28        19        3916  40650  \n",
       "2      Compact         Coupe           28        20        3916  36350  \n",
       "3      Compact         Coupe           28        18        3916  29450  \n",
       "4      Compact   Convertible           28        18        3916  34500  "
      ]
     },
     "execution_count": 9,
     "metadata": {},
     "output_type": "execute_result"
    }
   ],
   "source": [
    "df.head()"
   ]
  },
  {
   "cell_type": "code",
   "execution_count": 10,
   "id": "a785f6df-7dbd-406c-ac07-8609e2cd3c7c",
   "metadata": {
    "tags": []
   },
   "outputs": [
    {
     "data": {
      "text/html": [
       "<div>\n",
       "<style scoped>\n",
       "    .dataframe tbody tr th:only-of-type {\n",
       "        vertical-align: middle;\n",
       "    }\n",
       "\n",
       "    .dataframe tbody tr th {\n",
       "        vertical-align: top;\n",
       "    }\n",
       "\n",
       "    .dataframe thead th {\n",
       "        text-align: right;\n",
       "    }\n",
       "</style>\n",
       "<table border=\"1\" class=\"dataframe\">\n",
       "  <thead>\n",
       "    <tr style=\"text-align: right;\">\n",
       "      <th></th>\n",
       "      <th>Year</th>\n",
       "      <th>Engine HP</th>\n",
       "      <th>Engine Cylinders</th>\n",
       "      <th>Number of Doors</th>\n",
       "      <th>highway MPG</th>\n",
       "      <th>city mpg</th>\n",
       "      <th>Popularity</th>\n",
       "      <th>MSRP</th>\n",
       "    </tr>\n",
       "  </thead>\n",
       "  <tbody>\n",
       "    <tr>\n",
       "      <th>count</th>\n",
       "      <td>11914.000000</td>\n",
       "      <td>11845.00000</td>\n",
       "      <td>11884.000000</td>\n",
       "      <td>11908.000000</td>\n",
       "      <td>11914.000000</td>\n",
       "      <td>11914.000000</td>\n",
       "      <td>11914.000000</td>\n",
       "      <td>1.191400e+04</td>\n",
       "    </tr>\n",
       "    <tr>\n",
       "      <th>mean</th>\n",
       "      <td>2010.384338</td>\n",
       "      <td>249.38607</td>\n",
       "      <td>5.628829</td>\n",
       "      <td>3.436093</td>\n",
       "      <td>26.637485</td>\n",
       "      <td>19.733255</td>\n",
       "      <td>1554.911197</td>\n",
       "      <td>4.059474e+04</td>\n",
       "    </tr>\n",
       "    <tr>\n",
       "      <th>std</th>\n",
       "      <td>7.579740</td>\n",
       "      <td>109.19187</td>\n",
       "      <td>1.780559</td>\n",
       "      <td>0.881315</td>\n",
       "      <td>8.863001</td>\n",
       "      <td>8.987798</td>\n",
       "      <td>1441.855347</td>\n",
       "      <td>6.010910e+04</td>\n",
       "    </tr>\n",
       "    <tr>\n",
       "      <th>min</th>\n",
       "      <td>1990.000000</td>\n",
       "      <td>55.00000</td>\n",
       "      <td>0.000000</td>\n",
       "      <td>2.000000</td>\n",
       "      <td>12.000000</td>\n",
       "      <td>7.000000</td>\n",
       "      <td>2.000000</td>\n",
       "      <td>2.000000e+03</td>\n",
       "    </tr>\n",
       "    <tr>\n",
       "      <th>25%</th>\n",
       "      <td>2007.000000</td>\n",
       "      <td>170.00000</td>\n",
       "      <td>4.000000</td>\n",
       "      <td>2.000000</td>\n",
       "      <td>22.000000</td>\n",
       "      <td>16.000000</td>\n",
       "      <td>549.000000</td>\n",
       "      <td>2.100000e+04</td>\n",
       "    </tr>\n",
       "    <tr>\n",
       "      <th>50%</th>\n",
       "      <td>2015.000000</td>\n",
       "      <td>227.00000</td>\n",
       "      <td>6.000000</td>\n",
       "      <td>4.000000</td>\n",
       "      <td>26.000000</td>\n",
       "      <td>18.000000</td>\n",
       "      <td>1385.000000</td>\n",
       "      <td>2.999500e+04</td>\n",
       "    </tr>\n",
       "    <tr>\n",
       "      <th>75%</th>\n",
       "      <td>2016.000000</td>\n",
       "      <td>300.00000</td>\n",
       "      <td>6.000000</td>\n",
       "      <td>4.000000</td>\n",
       "      <td>30.000000</td>\n",
       "      <td>22.000000</td>\n",
       "      <td>2009.000000</td>\n",
       "      <td>4.223125e+04</td>\n",
       "    </tr>\n",
       "    <tr>\n",
       "      <th>max</th>\n",
       "      <td>2017.000000</td>\n",
       "      <td>1001.00000</td>\n",
       "      <td>16.000000</td>\n",
       "      <td>4.000000</td>\n",
       "      <td>354.000000</td>\n",
       "      <td>137.000000</td>\n",
       "      <td>5657.000000</td>\n",
       "      <td>2.065902e+06</td>\n",
       "    </tr>\n",
       "  </tbody>\n",
       "</table>\n",
       "</div>"
      ],
      "text/plain": [
       "               Year    Engine HP  Engine Cylinders  Number of Doors  \\\n",
       "count  11914.000000  11845.00000      11884.000000     11908.000000   \n",
       "mean    2010.384338    249.38607          5.628829         3.436093   \n",
       "std        7.579740    109.19187          1.780559         0.881315   \n",
       "min     1990.000000     55.00000          0.000000         2.000000   \n",
       "25%     2007.000000    170.00000          4.000000         2.000000   \n",
       "50%     2015.000000    227.00000          6.000000         4.000000   \n",
       "75%     2016.000000    300.00000          6.000000         4.000000   \n",
       "max     2017.000000   1001.00000         16.000000         4.000000   \n",
       "\n",
       "        highway MPG      city mpg    Popularity          MSRP  \n",
       "count  11914.000000  11914.000000  11914.000000  1.191400e+04  \n",
       "mean      26.637485     19.733255   1554.911197  4.059474e+04  \n",
       "std        8.863001      8.987798   1441.855347  6.010910e+04  \n",
       "min       12.000000      7.000000      2.000000  2.000000e+03  \n",
       "25%       22.000000     16.000000    549.000000  2.100000e+04  \n",
       "50%       26.000000     18.000000   1385.000000  2.999500e+04  \n",
       "75%       30.000000     22.000000   2009.000000  4.223125e+04  \n",
       "max      354.000000    137.000000   5657.000000  2.065902e+06  "
      ]
     },
     "execution_count": 10,
     "metadata": {},
     "output_type": "execute_result"
    }
   ],
   "source": [
    "df.describe()"
   ]
  },
  {
   "cell_type": "code",
   "execution_count": 13,
   "id": "a52108a5-4fb2-4dda-bfdb-1ae58283f079",
   "metadata": {
    "tags": []
   },
   "outputs": [
    {
     "data": {
      "text/plain": [
       "<Axes: xlabel='Make'>"
      ]
     },
     "execution_count": 13,
     "metadata": {},
     "output_type": "execute_result"
    },
    {
     "data": {
      "image/png": "[encoded data removed]",
      "text/plain": [
       "<Figure size 640x480 with 1 Axes>"
      ]
     },
     "metadata": {},
     "output_type": "display_data"
    }
   ],
   "source": [
    "#Value_count analysis\n",
    "\n",
    "df['Make'].value_counts().plot(kind = 'bar')"
   ]
  },
  {
   "cell_type": "code",
   "execution_count": 14,
   "id": "561a1226-c484-4f1d-a2b7-3df2d028aa0e",
   "metadata": {
    "tags": []
   },
   "outputs": [],
   "source": [
    "#Chevrolet being the most common brand"
   ]
  },
  {
   "cell_type": "code",
   "execution_count": 15,
   "id": "ce5ff7ef-16d1-4c63-8310-9e09f9066d1c",
   "metadata": {
    "tags": []
   },
   "outputs": [
    {
     "data": {
      "text/plain": [
       "Year\n",
       "2015    2170\n",
       "2016    2157\n",
       "2017    1668\n",
       "2014     589\n",
       "2012     387\n",
       "2009     379\n",
       "2013     366\n",
       "2008     349\n",
       "2007     345\n",
       "2010     298\n",
       "2011     285\n",
       "2003     238\n",
       "2004     235\n",
       "2005     213\n",
       "1993     209\n",
       "2006     205\n",
       "2002     205\n",
       "1992     177\n",
       "1997     175\n",
       "2001     168\n",
       "1994     163\n",
       "1998     154\n",
       "1991     152\n",
       "1995     135\n",
       "1996     131\n",
       "1990     123\n",
       "1999     120\n",
       "2000     118\n",
       "Name: count, dtype: int64"
      ]
     },
     "execution_count": 15,
     "metadata": {},
     "output_type": "execute_result"
    }
   ],
   "source": [
    "df['Year'].value_counts()"
   ]
  },
  {
   "cell_type": "code",
   "execution_count": 18,
   "id": "83bbd960-6351-49d0-9b80-a16e52e153eb",
   "metadata": {
    "tags": []
   },
   "outputs": [
    {
     "data": {
      "text/plain": [
       "(11914, 15)"
      ]
     },
     "execution_count": 18,
     "metadata": {},
     "output_type": "execute_result"
    }
   ],
   "source": [
    "df.shape"
   ]
  },
  {
   "cell_type": "code",
   "execution_count": 17,
   "id": "d3864f5b-c867-4c58-acb1-c1c58c492c41",
   "metadata": {
    "tags": []
   },
   "outputs": [
    {
     "data": {
      "text/html": [
       "<div>\n",
       "<style scoped>\n",
       "    .dataframe tbody tr th:only-of-type {\n",
       "        vertical-align: middle;\n",
       "    }\n",
       "\n",
       "    .dataframe tbody tr th {\n",
       "        vertical-align: top;\n",
       "    }\n",
       "\n",
       "    .dataframe thead th {\n",
       "        text-align: right;\n",
       "    }\n",
       "</style>\n",
       "<table border=\"1\" class=\"dataframe\">\n",
       "  <thead>\n",
       "    <tr style=\"text-align: right;\">\n",
       "      <th>Engine Fuel Type</th>\n",
       "      <th>diesel</th>\n",
       "      <th>electric</th>\n",
       "      <th>flex-fuel (premium unleaded recommended/E85)</th>\n",
       "      <th>flex-fuel (premium unleaded required/E85)</th>\n",
       "      <th>flex-fuel (unleaded/E85)</th>\n",
       "      <th>flex-fuel (unleaded/natural gas)</th>\n",
       "      <th>natural gas</th>\n",
       "      <th>premium unleaded (recommended)</th>\n",
       "      <th>premium unleaded (required)</th>\n",
       "      <th>regular unleaded</th>\n",
       "    </tr>\n",
       "    <tr>\n",
       "      <th>Transmission Type</th>\n",
       "      <th></th>\n",
       "      <th></th>\n",
       "      <th></th>\n",
       "      <th></th>\n",
       "      <th></th>\n",
       "      <th></th>\n",
       "      <th></th>\n",
       "      <th></th>\n",
       "      <th></th>\n",
       "      <th></th>\n",
       "    </tr>\n",
       "  </thead>\n",
       "  <tbody>\n",
       "    <tr>\n",
       "      <th>AUTOMATED_MANUAL</th>\n",
       "      <td>39</td>\n",
       "      <td>0</td>\n",
       "      <td>0</td>\n",
       "      <td>0</td>\n",
       "      <td>9</td>\n",
       "      <td>0</td>\n",
       "      <td>0</td>\n",
       "      <td>255</td>\n",
       "      <td>284</td>\n",
       "      <td>39</td>\n",
       "    </tr>\n",
       "    <tr>\n",
       "      <th>AUTOMATIC</th>\n",
       "      <td>86</td>\n",
       "      <td>0</td>\n",
       "      <td>19</td>\n",
       "      <td>54</td>\n",
       "      <td>845</td>\n",
       "      <td>6</td>\n",
       "      <td>2</td>\n",
       "      <td>870</td>\n",
       "      <td>1244</td>\n",
       "      <td>5137</td>\n",
       "    </tr>\n",
       "    <tr>\n",
       "      <th>DIRECT_DRIVE</th>\n",
       "      <td>0</td>\n",
       "      <td>66</td>\n",
       "      <td>0</td>\n",
       "      <td>0</td>\n",
       "      <td>0</td>\n",
       "      <td>0</td>\n",
       "      <td>0</td>\n",
       "      <td>0</td>\n",
       "      <td>0</td>\n",
       "      <td>2</td>\n",
       "    </tr>\n",
       "    <tr>\n",
       "      <th>MANUAL</th>\n",
       "      <td>29</td>\n",
       "      <td>0</td>\n",
       "      <td>7</td>\n",
       "      <td>0</td>\n",
       "      <td>45</td>\n",
       "      <td>0</td>\n",
       "      <td>0</td>\n",
       "      <td>398</td>\n",
       "      <td>481</td>\n",
       "      <td>1975</td>\n",
       "    </tr>\n",
       "    <tr>\n",
       "      <th>UNKNOWN</th>\n",
       "      <td>0</td>\n",
       "      <td>0</td>\n",
       "      <td>0</td>\n",
       "      <td>0</td>\n",
       "      <td>0</td>\n",
       "      <td>0</td>\n",
       "      <td>0</td>\n",
       "      <td>0</td>\n",
       "      <td>0</td>\n",
       "      <td>19</td>\n",
       "    </tr>\n",
       "  </tbody>\n",
       "</table>\n",
       "</div>"
      ],
      "text/plain": [
       "Engine Fuel Type   diesel  electric  \\\n",
       "Transmission Type                     \n",
       "AUTOMATED_MANUAL       39         0   \n",
       "AUTOMATIC              86         0   \n",
       "DIRECT_DRIVE            0        66   \n",
       "MANUAL                 29         0   \n",
       "UNKNOWN                 0         0   \n",
       "\n",
       "Engine Fuel Type   flex-fuel (premium unleaded recommended/E85)  \\\n",
       "Transmission Type                                                 \n",
       "AUTOMATED_MANUAL                                              0   \n",
       "AUTOMATIC                                                    19   \n",
       "DIRECT_DRIVE                                                  0   \n",
       "MANUAL                                                        7   \n",
       "UNKNOWN                                                       0   \n",
       "\n",
       "Engine Fuel Type   flex-fuel (premium unleaded required/E85)  \\\n",
       "Transmission Type                                              \n",
       "AUTOMATED_MANUAL                                           0   \n",
       "AUTOMATIC                                                 54   \n",
       "DIRECT_DRIVE                                               0   \n",
       "MANUAL                                                     0   \n",
       "UNKNOWN                                                    0   \n",
       "\n",
       "Engine Fuel Type   flex-fuel (unleaded/E85)  flex-fuel (unleaded/natural gas)  \\\n",
       "Transmission Type                                                               \n",
       "AUTOMATED_MANUAL                          9                                 0   \n",
       "AUTOMATIC                               845                                 6   \n",
       "DIRECT_DRIVE                              0                                 0   \n",
       "MANUAL                                   45                                 0   \n",
       "UNKNOWN                                   0                                 0   \n",
       "\n",
       "Engine Fuel Type   natural gas  premium unleaded (recommended)  \\\n",
       "Transmission Type                                                \n",
       "AUTOMATED_MANUAL             0                             255   \n",
       "AUTOMATIC                    2                             870   \n",
       "DIRECT_DRIVE                 0                               0   \n",
       "MANUAL                       0                             398   \n",
       "UNKNOWN                      0                               0   \n",
       "\n",
       "Engine Fuel Type   premium unleaded (required)  regular unleaded  \n",
       "Transmission Type                                                 \n",
       "AUTOMATED_MANUAL                           284                39  \n",
       "AUTOMATIC                                 1244              5137  \n",
       "DIRECT_DRIVE                                 0                 2  \n",
       "MANUAL                                     481              1975  \n",
       "UNKNOWN                                      0                19  "
      ]
     },
     "execution_count": 17,
     "metadata": {},
     "output_type": "execute_result"
    }
   ],
   "source": [
    "pd.crosstab(index = df['Transmission Type'],columns = df['Engine Fuel Type'])"
   ]
  },
  {
   "cell_type": "code",
   "execution_count": 19,
   "id": "e7dbc7dd-cac8-44e5-afcb-496adc6e0929",
   "metadata": {
    "tags": []
   },
   "outputs": [],
   "source": [
    "#The datset has regular unleaded with automatic transmission type has approximately 50% values"
   ]
  },
  {
   "cell_type": "code",
   "execution_count": 23,
   "id": "9ebca22b-bccc-4df6-ab56-dab931d171fa",
   "metadata": {
    "tags": []
   },
   "outputs": [
    {
     "data": {
      "text/html": [
       "<div>\n",
       "<style scoped>\n",
       "    .dataframe tbody tr th:only-of-type {\n",
       "        vertical-align: middle;\n",
       "    }\n",
       "\n",
       "    .dataframe tbody tr th {\n",
       "        vertical-align: top;\n",
       "    }\n",
       "\n",
       "    .dataframe thead th {\n",
       "        text-align: right;\n",
       "    }\n",
       "</style>\n",
       "<table border=\"1\" class=\"dataframe\">\n",
       "  <thead>\n",
       "    <tr style=\"text-align: right;\">\n",
       "      <th>Driven_Wheels</th>\n",
       "      <th>all wheel drive</th>\n",
       "      <th>four wheel drive</th>\n",
       "      <th>front wheel drive</th>\n",
       "      <th>rear wheel drive</th>\n",
       "    </tr>\n",
       "    <tr>\n",
       "      <th>Transmission Type</th>\n",
       "      <th></th>\n",
       "      <th></th>\n",
       "      <th></th>\n",
       "      <th></th>\n",
       "    </tr>\n",
       "  </thead>\n",
       "  <tbody>\n",
       "    <tr>\n",
       "      <th>AUTOMATED_MANUAL</th>\n",
       "      <td>198</td>\n",
       "      <td>0</td>\n",
       "      <td>304</td>\n",
       "      <td>124</td>\n",
       "    </tr>\n",
       "    <tr>\n",
       "      <th>AUTOMATIC</th>\n",
       "      <td>1940</td>\n",
       "      <td>1056</td>\n",
       "      <td>3056</td>\n",
       "      <td>2214</td>\n",
       "    </tr>\n",
       "    <tr>\n",
       "      <th>DIRECT_DRIVE</th>\n",
       "      <td>11</td>\n",
       "      <td>0</td>\n",
       "      <td>43</td>\n",
       "      <td>14</td>\n",
       "    </tr>\n",
       "    <tr>\n",
       "      <th>MANUAL</th>\n",
       "      <td>204</td>\n",
       "      <td>345</td>\n",
       "      <td>1380</td>\n",
       "      <td>1006</td>\n",
       "    </tr>\n",
       "    <tr>\n",
       "      <th>UNKNOWN</th>\n",
       "      <td>0</td>\n",
       "      <td>2</td>\n",
       "      <td>4</td>\n",
       "      <td>13</td>\n",
       "    </tr>\n",
       "  </tbody>\n",
       "</table>\n",
       "</div>"
      ],
      "text/plain": [
       "Driven_Wheels      all wheel drive  four wheel drive  front wheel drive  \\\n",
       "Transmission Type                                                         \n",
       "AUTOMATED_MANUAL               198                 0                304   \n",
       "AUTOMATIC                     1940              1056               3056   \n",
       "DIRECT_DRIVE                    11                 0                 43   \n",
       "MANUAL                         204               345               1380   \n",
       "UNKNOWN                          0                 2                  4   \n",
       "\n",
       "Driven_Wheels      rear wheel drive  \n",
       "Transmission Type                    \n",
       "AUTOMATED_MANUAL                124  \n",
       "AUTOMATIC                      2214  \n",
       "DIRECT_DRIVE                     14  \n",
       "MANUAL                         1006  \n",
       "UNKNOWN                          13  "
      ]
     },
     "execution_count": 23,
     "metadata": {},
     "output_type": "execute_result"
    }
   ],
   "source": [
    "pd.crosstab(index = df['Transmission Type'],columns = df['Driven_Wheels'])"
   ]
  },
  {
   "cell_type": "code",
   "execution_count": 30,
   "id": "3ef7513e-a3f1-4ee0-a216-49aeb2a6a492",
   "metadata": {
    "tags": []
   },
   "outputs": [
    {
     "data": {
      "text/html": [
       "<div>\n",
       "<style scoped>\n",
       "    .dataframe tbody tr th:only-of-type {\n",
       "        vertical-align: middle;\n",
       "    }\n",
       "\n",
       "    .dataframe tbody tr th {\n",
       "        vertical-align: top;\n",
       "    }\n",
       "\n",
       "    .dataframe thead th {\n",
       "        text-align: right;\n",
       "    }\n",
       "</style>\n",
       "<table border=\"1\" class=\"dataframe\">\n",
       "  <thead>\n",
       "    <tr style=\"text-align: right;\">\n",
       "      <th></th>\n",
       "      <th>highway MPG</th>\n",
       "      <th>city mpg</th>\n",
       "      <th>MSRP</th>\n",
       "      <th>Engine HP</th>\n",
       "    </tr>\n",
       "    <tr>\n",
       "      <th>Driven_Wheels</th>\n",
       "      <th></th>\n",
       "      <th></th>\n",
       "      <th></th>\n",
       "      <th></th>\n",
       "    </tr>\n",
       "  </thead>\n",
       "  <tbody>\n",
       "    <tr>\n",
       "      <th>all wheel drive</th>\n",
       "      <td>26.150446</td>\n",
       "      <td>19.096048</td>\n",
       "      <td>58693.884828</td>\n",
       "      <td>290.683355</td>\n",
       "    </tr>\n",
       "    <tr>\n",
       "      <th>four wheel drive</th>\n",
       "      <td>19.789736</td>\n",
       "      <td>15.068425</td>\n",
       "      <td>35312.039914</td>\n",
       "      <td>274.975766</td>\n",
       "    </tr>\n",
       "    <tr>\n",
       "      <th>front wheel drive</th>\n",
       "      <td>31.452058</td>\n",
       "      <td>23.675371</td>\n",
       "      <td>23056.747650</td>\n",
       "      <td>183.440110</td>\n",
       "    </tr>\n",
       "    <tr>\n",
       "      <th>rear wheel drive</th>\n",
       "      <td>22.990507</td>\n",
       "      <td>16.521507</td>\n",
       "      <td>55064.830317</td>\n",
       "      <td>302.999405</td>\n",
       "    </tr>\n",
       "  </tbody>\n",
       "</table>\n",
       "</div>"
      ],
      "text/plain": [
       "                   highway MPG   city mpg          MSRP   Engine HP\n",
       "Driven_Wheels                                                      \n",
       "all wheel drive      26.150446  19.096048  58693.884828  290.683355\n",
       "four wheel drive     19.789736  15.068425  35312.039914  274.975766\n",
       "front wheel drive    31.452058  23.675371  23056.747650  183.440110\n",
       "rear wheel drive     22.990507  16.521507  55064.830317  302.999405"
      ]
     },
     "execution_count": 30,
     "metadata": {},
     "output_type": "execute_result"
    }
   ],
   "source": [
    "df[['highway MPG','city mpg','MSRP','Engine HP']].groupby(df['Driven_Wheels']).mean()"
   ]
  },
  {
   "cell_type": "code",
   "execution_count": 28,
   "id": "358a6e69-395c-457c-bea5-de847bd678ad",
   "metadata": {
    "tags": []
   },
   "outputs": [],
   "source": [
    "#Front wheel drive has typically better mileage when compared to other wheel driven types"
   ]
  },
  {
   "cell_type": "code",
   "execution_count": 32,
   "id": "fada867e-a7e8-4a2c-897a-98ddf650427a",
   "metadata": {
    "tags": []
   },
   "outputs": [
    {
     "data": {
      "text/html": [
       "<div>\n",
       "<style scoped>\n",
       "    .dataframe tbody tr th:only-of-type {\n",
       "        vertical-align: middle;\n",
       "    }\n",
       "\n",
       "    .dataframe tbody tr th {\n",
       "        vertical-align: top;\n",
       "    }\n",
       "\n",
       "    .dataframe thead th {\n",
       "        text-align: right;\n",
       "    }\n",
       "</style>\n",
       "<table border=\"1\" class=\"dataframe\">\n",
       "  <thead>\n",
       "    <tr style=\"text-align: right;\">\n",
       "      <th>Vehicle Size</th>\n",
       "      <th>Compact</th>\n",
       "      <th>Large</th>\n",
       "      <th>Midsize</th>\n",
       "    </tr>\n",
       "    <tr>\n",
       "      <th>Driven_Wheels</th>\n",
       "      <th></th>\n",
       "      <th></th>\n",
       "      <th></th>\n",
       "    </tr>\n",
       "  </thead>\n",
       "  <tbody>\n",
       "    <tr>\n",
       "      <th>all wheel drive</th>\n",
       "      <td>646</td>\n",
       "      <td>438</td>\n",
       "      <td>1269</td>\n",
       "    </tr>\n",
       "    <tr>\n",
       "      <th>four wheel drive</th>\n",
       "      <td>407</td>\n",
       "      <td>737</td>\n",
       "      <td>259</td>\n",
       "    </tr>\n",
       "    <tr>\n",
       "      <th>front wheel drive</th>\n",
       "      <td>2491</td>\n",
       "      <td>389</td>\n",
       "      <td>1907</td>\n",
       "    </tr>\n",
       "    <tr>\n",
       "      <th>rear wheel drive</th>\n",
       "      <td>1220</td>\n",
       "      <td>1213</td>\n",
       "      <td>938</td>\n",
       "    </tr>\n",
       "  </tbody>\n",
       "</table>\n",
       "</div>"
      ],
      "text/plain": [
       "Vehicle Size       Compact  Large  Midsize\n",
       "Driven_Wheels                             \n",
       "all wheel drive        646    438     1269\n",
       "four wheel drive       407    737      259\n",
       "front wheel drive     2491    389     1907\n",
       "rear wheel drive      1220   1213      938"
      ]
     },
     "execution_count": 32,
     "metadata": {},
     "output_type": "execute_result"
    }
   ],
   "source": [
    "pd.crosstab(index = df['Driven_Wheels'],columns = df['Vehicle Size'])"
   ]
  },
  {
   "cell_type": "code",
   "execution_count": 33,
   "id": "5c35d35f-6ece-450a-b126-b89408219bf6",
   "metadata": {
    "tags": []
   },
   "outputs": [
    {
     "data": {
      "text/html": [
       "<div>\n",
       "<style scoped>\n",
       "    .dataframe tbody tr th:only-of-type {\n",
       "        vertical-align: middle;\n",
       "    }\n",
       "\n",
       "    .dataframe tbody tr th {\n",
       "        vertical-align: top;\n",
       "    }\n",
       "\n",
       "    .dataframe thead th {\n",
       "        text-align: right;\n",
       "    }\n",
       "</style>\n",
       "<table border=\"1\" class=\"dataframe\">\n",
       "  <thead>\n",
       "    <tr style=\"text-align: right;\">\n",
       "      <th>Vehicle Style</th>\n",
       "      <th>2dr Hatchback</th>\n",
       "      <th>2dr SUV</th>\n",
       "      <th>4dr Hatchback</th>\n",
       "      <th>4dr SUV</th>\n",
       "      <th>Cargo Minivan</th>\n",
       "      <th>Cargo Van</th>\n",
       "      <th>Convertible</th>\n",
       "      <th>Convertible SUV</th>\n",
       "      <th>Coupe</th>\n",
       "      <th>Crew Cab Pickup</th>\n",
       "      <th>Extended Cab Pickup</th>\n",
       "      <th>Passenger Minivan</th>\n",
       "      <th>Passenger Van</th>\n",
       "      <th>Regular Cab Pickup</th>\n",
       "      <th>Sedan</th>\n",
       "      <th>Wagon</th>\n",
       "    </tr>\n",
       "    <tr>\n",
       "      <th>Driven_Wheels</th>\n",
       "      <th></th>\n",
       "      <th></th>\n",
       "      <th></th>\n",
       "      <th></th>\n",
       "      <th></th>\n",
       "      <th></th>\n",
       "      <th></th>\n",
       "      <th></th>\n",
       "      <th></th>\n",
       "      <th></th>\n",
       "      <th></th>\n",
       "      <th></th>\n",
       "      <th></th>\n",
       "      <th></th>\n",
       "      <th></th>\n",
       "      <th></th>\n",
       "    </tr>\n",
       "  </thead>\n",
       "  <tbody>\n",
       "    <tr>\n",
       "      <th>all wheel drive</th>\n",
       "      <td>10</td>\n",
       "      <td>11</td>\n",
       "      <td>101</td>\n",
       "      <td>984</td>\n",
       "      <td>6</td>\n",
       "      <td>2</td>\n",
       "      <td>106</td>\n",
       "      <td>5</td>\n",
       "      <td>197</td>\n",
       "      <td>37</td>\n",
       "      <td>1</td>\n",
       "      <td>53</td>\n",
       "      <td>2</td>\n",
       "      <td>1</td>\n",
       "      <td>675</td>\n",
       "      <td>162</td>\n",
       "    </tr>\n",
       "    <tr>\n",
       "      <th>four wheel drive</th>\n",
       "      <td>2</td>\n",
       "      <td>69</td>\n",
       "      <td>7</td>\n",
       "      <td>496</td>\n",
       "      <td>0</td>\n",
       "      <td>0</td>\n",
       "      <td>0</td>\n",
       "      <td>15</td>\n",
       "      <td>0</td>\n",
       "      <td>346</td>\n",
       "      <td>300</td>\n",
       "      <td>4</td>\n",
       "      <td>0</td>\n",
       "      <td>156</td>\n",
       "      <td>5</td>\n",
       "      <td>3</td>\n",
       "    </tr>\n",
       "    <tr>\n",
       "      <th>front wheel drive</th>\n",
       "      <td>473</td>\n",
       "      <td>0</td>\n",
       "      <td>583</td>\n",
       "      <td>631</td>\n",
       "      <td>54</td>\n",
       "      <td>0</td>\n",
       "      <td>236</td>\n",
       "      <td>0</td>\n",
       "      <td>338</td>\n",
       "      <td>5</td>\n",
       "      <td>0</td>\n",
       "      <td>327</td>\n",
       "      <td>0</td>\n",
       "      <td>0</td>\n",
       "      <td>1783</td>\n",
       "      <td>357</td>\n",
       "    </tr>\n",
       "    <tr>\n",
       "      <th>rear wheel drive</th>\n",
       "      <td>21</td>\n",
       "      <td>58</td>\n",
       "      <td>11</td>\n",
       "      <td>377</td>\n",
       "      <td>11</td>\n",
       "      <td>93</td>\n",
       "      <td>451</td>\n",
       "      <td>9</td>\n",
       "      <td>676</td>\n",
       "      <td>293</td>\n",
       "      <td>322</td>\n",
       "      <td>33</td>\n",
       "      <td>126</td>\n",
       "      <td>235</td>\n",
       "      <td>585</td>\n",
       "      <td>70</td>\n",
       "    </tr>\n",
       "  </tbody>\n",
       "</table>\n",
       "</div>"
      ],
      "text/plain": [
       "Vehicle Style      2dr Hatchback  2dr SUV  4dr Hatchback  4dr SUV  \\\n",
       "Driven_Wheels                                                       \n",
       "all wheel drive               10       11            101      984   \n",
       "four wheel drive               2       69              7      496   \n",
       "front wheel drive            473        0            583      631   \n",
       "rear wheel drive              21       58             11      377   \n",
       "\n",
       "Vehicle Style      Cargo Minivan  Cargo Van  Convertible  Convertible SUV  \\\n",
       "Driven_Wheels                                                               \n",
       "all wheel drive                6          2          106                5   \n",
       "four wheel drive               0          0            0               15   \n",
       "front wheel drive             54          0          236                0   \n",
       "rear wheel drive              11         93          451                9   \n",
       "\n",
       "Vehicle Style      Coupe  Crew Cab Pickup  Extended Cab Pickup  \\\n",
       "Driven_Wheels                                                    \n",
       "all wheel drive      197               37                    1   \n",
       "four wheel drive       0              346                  300   \n",
       "front wheel drive    338                5                    0   \n",
       "rear wheel drive     676              293                  322   \n",
       "\n",
       "Vehicle Style      Passenger Minivan  Passenger Van  Regular Cab Pickup  \\\n",
       "Driven_Wheels                                                             \n",
       "all wheel drive                   53              2                   1   \n",
       "four wheel drive                   4              0                 156   \n",
       "front wheel drive                327              0                   0   \n",
       "rear wheel drive                  33            126                 235   \n",
       "\n",
       "Vehicle Style      Sedan  Wagon  \n",
       "Driven_Wheels                    \n",
       "all wheel drive      675    162  \n",
       "four wheel drive       5      3  \n",
       "front wheel drive   1783    357  \n",
       "rear wheel drive     585     70  "
      ]
     },
     "execution_count": 33,
     "metadata": {},
     "output_type": "execute_result"
    }
   ],
   "source": [
    "pd.crosstab(index = df['Driven_Wheels'],columns = df['Vehicle Style'])"
   ]
  },
  {
   "cell_type": "code",
   "execution_count": 86,
   "id": "f3bdaef7-e610-4655-bf57-dc2b161509fa",
   "metadata": {
    "tags": []
   },
   "outputs": [
    {
     "data": {
      "text/plain": [
       "<Axes: xlabel='Vehicle Style'>"
      ]
     },
     "execution_count": 86,
     "metadata": {},
     "output_type": "execute_result"
    },
    {
     "data": {
      "image/png": "[encoded data removed]",
      "text/plain": [
       "<Figure size 640x480 with 1 Axes>"
      ]
     },
     "metadata": {},
     "output_type": "display_data"
    }
   ],
   "source": [
    "df['MSRP'].groupby(df['Vehicle Style']).mean().plot(kind = 'bar')"
   ]
  },
  {
   "cell_type": "code",
   "execution_count": 88,
   "id": "b3d9d775-29a1-4f37-8210-3d1e4dca746a",
   "metadata": {
    "tags": []
   },
   "outputs": [
    {
     "data": {
      "text/plain": [
       "<Axes: xlabel='Driven_Wheels'>"
      ]
     },
     "execution_count": 88,
     "metadata": {},
     "output_type": "execute_result"
    },
    {
     "data": {
      "image/png": "[encoded data removed]",
      "text/plain": [
       "<Figure size 640x480 with 1 Axes>"
      ]
     },
     "metadata": {},
     "output_type": "display_data"
    }
   ],
   "source": [
    "df['MSRP'].groupby(df['Driven_Wheels']).mean().plot(kind = 'bar')"
   ]
  },
  {
   "cell_type": "code",
   "execution_count": 102,
   "id": "1a0f4792-380b-485d-857d-df7b9a1b9935",
   "metadata": {
    "tags": []
   },
   "outputs": [
    {
     "data": {
      "text/plain": [
       "Driven_Wheels      Vehicle Style      \n",
       "all wheel drive    2dr Hatchback            9240.800000\n",
       "                   2dr SUV                 35551.363636\n",
       "                   4dr Hatchback           32109.603960\n",
       "                   4dr SUV                 40842.668699\n",
       "                   Cargo Minivan           25025.000000\n",
       "                   Cargo Van               32760.000000\n",
       "                   Convertible            166135.094340\n",
       "                   Convertible SUV         47975.000000\n",
       "                   Coupe                  153839.522843\n",
       "                   Crew Cab Pickup         38490.810811\n",
       "                   Extended Cab Pickup     38370.000000\n",
       "                   Passenger Minivan       27812.132075\n",
       "                   Passenger Van           34525.000000\n",
       "                   Regular Cab Pickup       5667.000000\n",
       "                   Sedan                   54452.355556\n",
       "                   Wagon                   37358.648148\n",
       "four wheel drive   2dr Hatchback            2000.000000\n",
       "                   2dr SUV                  8162.347826\n",
       "                   4dr Hatchback            2000.000000\n",
       "                   4dr SUV                 50361.705645\n",
       "                   Convertible SUV         11766.533333\n",
       "                   Crew Cab Pickup         38631.300578\n",
       "                   Extended Cab Pickup     24808.683333\n",
       "                   Passenger Minivan        2000.000000\n",
       "                   Regular Cab Pickup      18602.089744\n",
       "                   Sedan                   16145.000000\n",
       "                   Wagon                    2000.000000\n",
       "front wheel drive  2dr Hatchback           17050.186047\n",
       "                   4dr Hatchback           20567.740995\n",
       "                   4dr SUV                 31842.499208\n",
       "                   Cargo Minivan           21535.925926\n",
       "                   Convertible             25751.936441\n",
       "                   Coupe                   14316.455621\n",
       "                   Crew Cab Pickup         32743.000000\n",
       "                   Passenger Minivan       27436.131498\n",
       "                   Sedan                   23017.168817\n",
       "                   Wagon                   22324.935574\n",
       "rear wheel drive   2dr Hatchback           17805.571429\n",
       "                   2dr SUV                  7614.293103\n",
       "                   4dr Hatchback           44671.363636\n",
       "                   4dr SUV                 40605.856764\n",
       "                   Cargo Minivan           15663.636364\n",
       "                   Cargo Van               14904.311828\n",
       "                   Convertible             95570.024390\n",
       "                   Convertible SUV          9880.777778\n",
       "                   Coupe                   84602.618343\n",
       "                   Crew Cab Pickup         35470.419795\n",
       "                   Extended Cab Pickup     20278.052795\n",
       "                   Passenger Minivan        6979.393939\n",
       "                   Passenger Van           28927.746032\n",
       "                   Regular Cab Pickup      14239.408511\n",
       "                   Sedan                   71489.547009\n",
       "                   Wagon                   15745.671429\n",
       "Name: MSRP, dtype: float64"
      ]
     },
     "execution_count": 102,
     "metadata": {},
     "output_type": "execute_result"
    }
   ],
   "source": [
    "df['MSRP'].groupby([df['Driven_Wheels'],df['Vehicle Style']]).mean()"
   ]
  },
  {
   "cell_type": "code",
   "execution_count": 34,
   "id": "d74ec6c5-19ec-49a4-ba52-97e568e221ae",
   "metadata": {
    "tags": []
   },
   "outputs": [
    {
     "name": "stderr",
     "output_type": "stream",
     "text": [
      "C:\\Users\\chall\\anaconda3\\Lib\\site-packages\\seaborn\\_oldcore.py:1498: FutureWarning: is_categorical_dtype is deprecated and will be removed in a future version. Use isinstance(dtype, CategoricalDtype) instead\n",
      "  if pd.api.types.is_categorical_dtype(vector):\n",
      "C:\\Users\\chall\\anaconda3\\Lib\\site-packages\\seaborn\\_oldcore.py:1119: FutureWarning: use_inf_as_na option is deprecated and will be removed in a future version. Convert inf values to NaN before operating instead.\n",
      "  with pd.option_context('mode.use_inf_as_na', True):\n"
     ]
    },
    {
     "data": {
      "text/plain": [
       "<Axes: xlabel='MSRP', ylabel='Count'>"
      ]
     },
     "execution_count": 34,
     "metadata": {},
     "output_type": "execute_result"
    },
    {
     "data": {
      "image/png": "[encoded data removed]",
      "text/plain": [
       "<Figure size 640x480 with 1 Axes>"
      ]
     },
     "metadata": {},
     "output_type": "display_data"
    }
   ],
   "source": [
    "#Univariate analysis on price\n",
    "\n",
    "sns.histplot(df[\"MSRP\"])"
   ]
  },
  {
   "cell_type": "code",
   "execution_count": 36,
   "id": "af118471-73b0-4134-8bbc-522bdda565a5",
   "metadata": {
    "tags": []
   },
   "outputs": [
    {
     "data": {
      "text/plain": [
       "Index(['Make', 'Model', 'Year', 'Engine Fuel Type', 'Engine HP',\n",
       "       'Engine Cylinders', 'Transmission Type', 'Driven_Wheels',\n",
       "       'Number of Doors', 'Vehicle Size', 'Vehicle Style', 'highway MPG',\n",
       "       'city mpg', 'Popularity', 'MSRP'],\n",
       "      dtype='object')"
      ]
     },
     "execution_count": 36,
     "metadata": {},
     "output_type": "execute_result"
    }
   ],
   "source": [
    "df.columns"
   ]
  },
  {
   "cell_type": "code",
   "execution_count": 39,
   "id": "ec0249ed-1db7-440a-ab68-66c98fda7d0b",
   "metadata": {
    "tags": []
   },
   "outputs": [
    {
     "name": "stderr",
     "output_type": "stream",
     "text": [
      "C:\\Users\\chall\\anaconda3\\Lib\\site-packages\\seaborn\\_oldcore.py:1498: FutureWarning: is_categorical_dtype is deprecated and will be removed in a future version. Use isinstance(dtype, CategoricalDtype) instead\n",
      "  if pd.api.types.is_categorical_dtype(vector):\n",
      "C:\\Users\\chall\\anaconda3\\Lib\\site-packages\\seaborn\\_oldcore.py:1498: FutureWarning: is_categorical_dtype is deprecated and will be removed in a future version. Use isinstance(dtype, CategoricalDtype) instead\n",
      "  if pd.api.types.is_categorical_dtype(vector):\n",
      "C:\\Users\\chall\\anaconda3\\Lib\\site-packages\\seaborn\\_oldcore.py:1498: FutureWarning: is_categorical_dtype is deprecated and will be removed in a future version. Use isinstance(dtype, CategoricalDtype) instead\n",
      "  if pd.api.types.is_categorical_dtype(vector):\n",
      "C:\\Users\\chall\\anaconda3\\Lib\\site-packages\\seaborn\\_oldcore.py:1498: FutureWarning: is_categorical_dtype is deprecated and will be removed in a future version. Use isinstance(dtype, CategoricalDtype) instead\n",
      "  if pd.api.types.is_categorical_dtype(vector):\n",
      "C:\\Users\\chall\\anaconda3\\Lib\\site-packages\\seaborn\\_oldcore.py:1498: FutureWarning: is_categorical_dtype is deprecated and will be removed in a future version. Use isinstance(dtype, CategoricalDtype) instead\n",
      "  if pd.api.types.is_categorical_dtype(vector):\n",
      "C:\\Users\\chall\\anaconda3\\Lib\\site-packages\\seaborn\\_oldcore.py:1498: FutureWarning: is_categorical_dtype is deprecated and will be removed in a future version. Use isinstance(dtype, CategoricalDtype) instead\n",
      "  if pd.api.types.is_categorical_dtype(vector):\n",
      "C:\\Users\\chall\\anaconda3\\Lib\\site-packages\\seaborn\\_oldcore.py:1119: FutureWarning: use_inf_as_na option is deprecated and will be removed in a future version. Convert inf values to NaN before operating instead.\n",
      "  with pd.option_context('mode.use_inf_as_na', True):\n"
     ]
    },
    {
     "data": {
      "text/plain": [
       "<Axes: ylabel='Count'>"
      ]
     },
     "execution_count": 39,
     "metadata": {},
     "output_type": "execute_result"
    },
    {
     "data": {
      "image/png": "[encoded data removed]",
      "text/plain": [
       "<Figure size 640x480 with 1 Axes>"
      ]
     },
     "metadata": {},
     "output_type": "display_data"
    }
   ],
   "source": [
    "#Distribution of city mileage and highway mileage\n",
    "\n",
    "sns.histplot(df[['highway MPG','city mpg']])"
   ]
  },
  {
   "cell_type": "code",
   "execution_count": 40,
   "id": "f19eb651-f05f-428d-b23f-be56151ba341",
   "metadata": {
    "tags": []
   },
   "outputs": [],
   "source": [
    "#The city mileage is more concentrated when compared with the highway mileage.City mileage is lower than the highway mileage"
   ]
  },
  {
   "cell_type": "code",
   "execution_count": 52,
   "id": "68e86a7d-af51-4f9c-9062-a503b214a9cd",
   "metadata": {
    "tags": []
   },
   "outputs": [
    {
     "name": "stderr",
     "output_type": "stream",
     "text": [
      "C:\\Users\\chall\\anaconda3\\Lib\\site-packages\\seaborn\\_oldcore.py:1498: FutureWarning: is_categorical_dtype is deprecated and will be removed in a future version. Use isinstance(dtype, CategoricalDtype) instead\n",
      "  if pd.api.types.is_categorical_dtype(vector):\n",
      "C:\\Users\\chall\\anaconda3\\Lib\\site-packages\\seaborn\\_oldcore.py:1119: FutureWarning: use_inf_as_na option is deprecated and will be removed in a future version. Convert inf values to NaN before operating instead.\n",
      "  with pd.option_context('mode.use_inf_as_na', True):\n"
     ]
    },
    {
     "data": {
      "image/png": "[encoded data removed]",
      "text/plain": [
       "<Figure size 640x480 with 1 Axes>"
      ]
     },
     "metadata": {},
     "output_type": "display_data"
    }
   ],
   "source": [
    "sns.histplot(df['Engine HP'],kde = True)\n",
    "plt.show()"
   ]
  },
  {
   "cell_type": "code",
   "execution_count": 43,
   "id": "9a374b92-b17c-48ac-96da-3bad1064fbf7",
   "metadata": {
    "tags": []
   },
   "outputs": [],
   "source": [
    "#The engine HP is a right skewed one with mode at somewhere between 150-200HP"
   ]
  },
  {
   "cell_type": "code",
   "execution_count": 51,
   "id": "dde72fbc-6fc0-4c7f-95e9-476a68a2c656",
   "metadata": {
    "tags": []
   },
   "outputs": [
    {
     "name": "stderr",
     "output_type": "stream",
     "text": [
      "C:\\Users\\chall\\anaconda3\\Lib\\site-packages\\seaborn\\_oldcore.py:1498: FutureWarning: is_categorical_dtype is deprecated and will be removed in a future version. Use isinstance(dtype, CategoricalDtype) instead\n",
      "  if pd.api.types.is_categorical_dtype(vector):\n",
      "C:\\Users\\chall\\anaconda3\\Lib\\site-packages\\seaborn\\_oldcore.py:1498: FutureWarning: is_categorical_dtype is deprecated and will be removed in a future version. Use isinstance(dtype, CategoricalDtype) instead\n",
      "  if pd.api.types.is_categorical_dtype(vector):\n",
      "C:\\Users\\chall\\anaconda3\\Lib\\site-packages\\seaborn\\_oldcore.py:1498: FutureWarning: is_categorical_dtype is deprecated and will be removed in a future version. Use isinstance(dtype, CategoricalDtype) instead\n",
      "  if pd.api.types.is_categorical_dtype(vector):\n"
     ]
    },
    {
     "data": {
      "image/png": "[encoded data removed]",
      "text/plain": [
       "<Figure size 640x480 with 1 Axes>"
      ]
     },
     "metadata": {},
     "output_type": "display_data"
    }
   ],
   "source": [
    "sns.countplot(data = df,x = 'Engine Cylinders')\n",
    "plt.show()"
   ]
  },
  {
   "cell_type": "code",
   "execution_count": 50,
   "id": "24e0ce75-ccca-4f2f-bf57-36a3cc7fa66f",
   "metadata": {
    "tags": []
   },
   "outputs": [],
   "source": [
    "#The four cylinders is most popular in the dataset"
   ]
  },
  {
   "cell_type": "code",
   "execution_count": 53,
   "id": "293e6f67-19d7-4b2c-99cf-4fee3914a339",
   "metadata": {
    "tags": []
   },
   "outputs": [],
   "source": [
    "#Bivariate analysis"
   ]
  },
  {
   "cell_type": "code",
   "execution_count": 58,
   "id": "9917b917-4c05-4988-8d37-af6f4eb11b7d",
   "metadata": {
    "tags": []
   },
   "outputs": [
    {
     "name": "stderr",
     "output_type": "stream",
     "text": [
      "C:\\Users\\chall\\anaconda3\\Lib\\site-packages\\seaborn\\_oldcore.py:1498: FutureWarning: is_categorical_dtype is deprecated and will be removed in a future version. Use isinstance(dtype, CategoricalDtype) instead\n",
      "  if pd.api.types.is_categorical_dtype(vector):\n",
      "C:\\Users\\chall\\anaconda3\\Lib\\site-packages\\seaborn\\_oldcore.py:1498: FutureWarning: is_categorical_dtype is deprecated and will be removed in a future version. Use isinstance(dtype, CategoricalDtype) instead\n",
      "  if pd.api.types.is_categorical_dtype(vector):\n",
      "C:\\Users\\chall\\anaconda3\\Lib\\site-packages\\seaborn\\_oldcore.py:1498: FutureWarning: is_categorical_dtype is deprecated and will be removed in a future version. Use isinstance(dtype, CategoricalDtype) instead\n",
      "  if pd.api.types.is_categorical_dtype(vector):\n"
     ]
    },
    {
     "data": {
      "text/plain": [
       "<Axes: xlabel='Engine HP', ylabel='city mpg'>"
      ]
     },
     "execution_count": 58,
     "metadata": {},
     "output_type": "execute_result"
    },
    {
     "data": {
      "image/png": "[encoded data removed]",
      "text/plain": [
       "<Figure size 640x480 with 1 Axes>"
      ]
     },
     "metadata": {},
     "output_type": "display_data"
    }
   ],
   "source": [
    "sns.scatterplot(data = df,x = 'Engine HP',y='city mpg',hue = 'Engine Cylinders')"
   ]
  },
  {
   "cell_type": "code",
   "execution_count": 62,
   "id": "940f08c1-add1-4b74-abdb-ae15ccdbafa0",
   "metadata": {
    "tags": []
   },
   "outputs": [
    {
     "name": "stderr",
     "output_type": "stream",
     "text": [
      "C:\\Users\\chall\\anaconda3\\Lib\\site-packages\\seaborn\\_oldcore.py:1498: FutureWarning: is_categorical_dtype is deprecated and will be removed in a future version. Use isinstance(dtype, CategoricalDtype) instead\n",
      "  if pd.api.types.is_categorical_dtype(vector):\n",
      "C:\\Users\\chall\\anaconda3\\Lib\\site-packages\\seaborn\\_oldcore.py:1498: FutureWarning: is_categorical_dtype is deprecated and will be removed in a future version. Use isinstance(dtype, CategoricalDtype) instead\n",
      "  if pd.api.types.is_categorical_dtype(vector):\n",
      "C:\\Users\\chall\\anaconda3\\Lib\\site-packages\\seaborn\\_oldcore.py:1498: FutureWarning: is_categorical_dtype is deprecated and will be removed in a future version. Use isinstance(dtype, CategoricalDtype) instead\n",
      "  if pd.api.types.is_categorical_dtype(vector):\n"
     ]
    },
    {
     "data": {
      "text/plain": [
       "<Axes: xlabel='Engine HP', ylabel='highway MPG'>"
      ]
     },
     "execution_count": 62,
     "metadata": {},
     "output_type": "execute_result"
    },
    {
     "data": {
      "image/png": "[encoded data removed]",
      "text/plain": [
       "<Figure size 640x480 with 1 Axes>"
      ]
     },
     "metadata": {},
     "output_type": "display_data"
    }
   ],
   "source": [
    "sns.scatterplot(data = df,x = 'Engine HP',y='highway MPG',hue = 'Engine Cylinders')"
   ]
  },
  {
   "cell_type": "code",
   "execution_count": 63,
   "id": "491e34c0-7d4a-4b40-b3ec-294188d0df7e",
   "metadata": {
    "tags": []
   },
   "outputs": [],
   "source": [
    "#As the power of the engine increases, the mileage is decreasing"
   ]
  },
  {
   "cell_type": "code",
   "execution_count": 65,
   "id": "dee5dda4-b050-43e9-9e3f-d21464f3bd3f",
   "metadata": {
    "tags": []
   },
   "outputs": [
    {
     "data": {
      "text/plain": [
       "<Axes: xlabel='Driven_Wheels'>"
      ]
     },
     "execution_count": 65,
     "metadata": {},
     "output_type": "execute_result"
    },
    {
     "data": {
      "image/png": "[encoded data removed]",
      "text/plain": [
       "<Figure size 640x480 with 1 Axes>"
      ]
     },
     "metadata": {},
     "output_type": "display_data"
    }
   ],
   "source": [
    "df[['highway MPG','city mpg','Engine HP']].groupby(df['Driven_Wheels']).mean().plot(kind = 'bar')"
   ]
  },
  {
   "cell_type": "code",
   "execution_count": 66,
   "id": "9a35071c-5148-432f-ad03-6a0098a4a739",
   "metadata": {
    "tags": []
   },
   "outputs": [],
   "source": [
    "#All though the avg engine HP for rear wheel drive category is higher than the four wheel drive, the mileage from the rear wheel driven is more than the four wheeldrive"
   ]
  },
  {
   "cell_type": "code",
   "execution_count": 67,
   "id": "3fb66874-1c18-4607-be7f-c8676b5fc0bd",
   "metadata": {
    "tags": []
   },
   "outputs": [
    {
     "name": "stderr",
     "output_type": "stream",
     "text": [
      "C:\\Users\\chall\\anaconda3\\Lib\\site-packages\\seaborn\\_oldcore.py:1498: FutureWarning: is_categorical_dtype is deprecated and will be removed in a future version. Use isinstance(dtype, CategoricalDtype) instead\n",
      "  if pd.api.types.is_categorical_dtype(vector):\n",
      "C:\\Users\\chall\\anaconda3\\Lib\\site-packages\\seaborn\\_oldcore.py:1498: FutureWarning: is_categorical_dtype is deprecated and will be removed in a future version. Use isinstance(dtype, CategoricalDtype) instead\n",
      "  if pd.api.types.is_categorical_dtype(vector):\n"
     ]
    },
    {
     "data": {
      "text/plain": [
       "<Axes: xlabel='Engine HP', ylabel='MSRP'>"
      ]
     },
     "execution_count": 67,
     "metadata": {},
     "output_type": "execute_result"
    },
    {
     "data": {
      "image/png": "[encoded data removed]",
      "text/plain": [
       "<Figure size 640x480 with 1 Axes>"
      ]
     },
     "metadata": {},
     "output_type": "display_data"
    }
   ],
   "source": [
    "sns.scatterplot(data = df,x = 'Engine HP',y = 'MSRP')"
   ]
  },
  {
   "cell_type": "code",
   "execution_count": 68,
   "id": "b0ad0ffa-71b5-4356-b087-303d243f2c4e",
   "metadata": {
    "tags": []
   },
   "outputs": [],
   "source": [
    "#There is a positive correlation b/w price and power"
   ]
  },
  {
   "cell_type": "code",
   "execution_count": 70,
   "id": "900884d1-d66c-4751-acc7-8decd0b914a0",
   "metadata": {
    "tags": []
   },
   "outputs": [
    {
     "name": "stderr",
     "output_type": "stream",
     "text": [
      "C:\\Users\\chall\\anaconda3\\Lib\\site-packages\\seaborn\\_oldcore.py:1498: FutureWarning: is_categorical_dtype is deprecated and will be removed in a future version. Use isinstance(dtype, CategoricalDtype) instead\n",
      "  if pd.api.types.is_categorical_dtype(vector):\n",
      "C:\\Users\\chall\\anaconda3\\Lib\\site-packages\\seaborn\\_oldcore.py:1498: FutureWarning: is_categorical_dtype is deprecated and will be removed in a future version. Use isinstance(dtype, CategoricalDtype) instead\n",
      "  if pd.api.types.is_categorical_dtype(vector):\n"
     ]
    },
    {
     "data": {
      "text/plain": [
       "<Axes: xlabel='highway MPG', ylabel='MSRP'>"
      ]
     },
     "execution_count": 70,
     "metadata": {},
     "output_type": "execute_result"
    },
    {
     "data": {
      "image/png": "[encoded data removed]",
      "text/plain": [
       "<Figure size 640x480 with 1 Axes>"
      ]
     },
     "metadata": {},
     "output_type": "display_data"
    }
   ],
   "source": [
    "sns.scatterplot(data = df,x = 'highway MPG',y = 'MSRP')"
   ]
  },
  {
   "cell_type": "code",
   "execution_count": 103,
   "id": "3c8646b8-5b68-461f-9c5d-95e9fc6143c0",
   "metadata": {
    "tags": []
   },
   "outputs": [
    {
     "name": "stderr",
     "output_type": "stream",
     "text": [
      "C:\\Users\\chall\\anaconda3\\Lib\\site-packages\\seaborn\\_oldcore.py:1498: FutureWarning: is_categorical_dtype is deprecated and will be removed in a future version. Use isinstance(dtype, CategoricalDtype) instead\n",
      "  if pd.api.types.is_categorical_dtype(vector):\n",
      "C:\\Users\\chall\\anaconda3\\Lib\\site-packages\\seaborn\\_oldcore.py:1498: FutureWarning: is_categorical_dtype is deprecated and will be removed in a future version. Use isinstance(dtype, CategoricalDtype) instead\n",
      "  if pd.api.types.is_categorical_dtype(vector):\n"
     ]
    },
    {
     "data": {
      "image/png": "[encoded data removed]",
      "text/plain": [
       "<Figure size 640x480 with 1 Axes>"
      ]
     },
     "metadata": {},
     "output_type": "display_data"
    }
   ],
   "source": [
    "sns.scatterplot(data = df,x = 'city mpg',y = 'MSRP')\n",
    "plt.show()"
   ]
  },
  {
   "cell_type": "code",
   "execution_count": 73,
   "id": "feab7409-2854-41db-96b4-2f0f774ab606",
   "metadata": {
    "tags": []
   },
   "outputs": [],
   "source": [
    "#There is no strong correlation b/w mileage and price"
   ]
  },
  {
   "cell_type": "code",
   "execution_count": 75,
   "id": "dafd7a51-d51a-49ef-b69b-46c7e96840f8",
   "metadata": {
    "tags": []
   },
   "outputs": [
    {
     "data": {
      "text/html": [
       "<div>\n",
       "<style scoped>\n",
       "    .dataframe tbody tr th:only-of-type {\n",
       "        vertical-align: middle;\n",
       "    }\n",
       "\n",
       "    .dataframe tbody tr th {\n",
       "        vertical-align: top;\n",
       "    }\n",
       "\n",
       "    .dataframe thead th {\n",
       "        text-align: right;\n",
       "    }\n",
       "</style>\n",
       "<table border=\"1\" class=\"dataframe\">\n",
       "  <thead>\n",
       "    <tr style=\"text-align: right;\">\n",
       "      <th></th>\n",
       "      <th>Year</th>\n",
       "      <th>Engine HP</th>\n",
       "      <th>Engine Cylinders</th>\n",
       "      <th>Number of Doors</th>\n",
       "      <th>highway MPG</th>\n",
       "      <th>city mpg</th>\n",
       "      <th>Popularity</th>\n",
       "      <th>MSRP</th>\n",
       "    </tr>\n",
       "  </thead>\n",
       "  <tbody>\n",
       "    <tr>\n",
       "      <th>Year</th>\n",
       "      <td>1.000000</td>\n",
       "      <td>0.351794</td>\n",
       "      <td>-0.041479</td>\n",
       "      <td>0.263787</td>\n",
       "      <td>0.258240</td>\n",
       "      <td>0.198171</td>\n",
       "      <td>0.073049</td>\n",
       "      <td>0.227590</td>\n",
       "    </tr>\n",
       "    <tr>\n",
       "      <th>Engine HP</th>\n",
       "      <td>0.351794</td>\n",
       "      <td>1.000000</td>\n",
       "      <td>0.779988</td>\n",
       "      <td>-0.102713</td>\n",
       "      <td>-0.406563</td>\n",
       "      <td>-0.439371</td>\n",
       "      <td>0.037501</td>\n",
       "      <td>0.662008</td>\n",
       "    </tr>\n",
       "    <tr>\n",
       "      <th>Engine Cylinders</th>\n",
       "      <td>-0.041479</td>\n",
       "      <td>0.779988</td>\n",
       "      <td>1.000000</td>\n",
       "      <td>-0.140088</td>\n",
       "      <td>-0.621606</td>\n",
       "      <td>-0.600776</td>\n",
       "      <td>0.041145</td>\n",
       "      <td>0.531312</td>\n",
       "    </tr>\n",
       "    <tr>\n",
       "      <th>Number of Doors</th>\n",
       "      <td>0.263787</td>\n",
       "      <td>-0.102713</td>\n",
       "      <td>-0.140088</td>\n",
       "      <td>1.000000</td>\n",
       "      <td>0.118570</td>\n",
       "      <td>0.120881</td>\n",
       "      <td>-0.048272</td>\n",
       "      <td>-0.126635</td>\n",
       "    </tr>\n",
       "    <tr>\n",
       "      <th>highway MPG</th>\n",
       "      <td>0.258240</td>\n",
       "      <td>-0.406563</td>\n",
       "      <td>-0.621606</td>\n",
       "      <td>0.118570</td>\n",
       "      <td>1.000000</td>\n",
       "      <td>0.886829</td>\n",
       "      <td>-0.020991</td>\n",
       "      <td>-0.160043</td>\n",
       "    </tr>\n",
       "    <tr>\n",
       "      <th>city mpg</th>\n",
       "      <td>0.198171</td>\n",
       "      <td>-0.439371</td>\n",
       "      <td>-0.600776</td>\n",
       "      <td>0.120881</td>\n",
       "      <td>0.886829</td>\n",
       "      <td>1.000000</td>\n",
       "      <td>-0.003217</td>\n",
       "      <td>-0.157676</td>\n",
       "    </tr>\n",
       "    <tr>\n",
       "      <th>Popularity</th>\n",
       "      <td>0.073049</td>\n",
       "      <td>0.037501</td>\n",
       "      <td>0.041145</td>\n",
       "      <td>-0.048272</td>\n",
       "      <td>-0.020991</td>\n",
       "      <td>-0.003217</td>\n",
       "      <td>1.000000</td>\n",
       "      <td>-0.048476</td>\n",
       "    </tr>\n",
       "    <tr>\n",
       "      <th>MSRP</th>\n",
       "      <td>0.227590</td>\n",
       "      <td>0.662008</td>\n",
       "      <td>0.531312</td>\n",
       "      <td>-0.126635</td>\n",
       "      <td>-0.160043</td>\n",
       "      <td>-0.157676</td>\n",
       "      <td>-0.048476</td>\n",
       "      <td>1.000000</td>\n",
       "    </tr>\n",
       "  </tbody>\n",
       "</table>\n",
       "</div>"
      ],
      "text/plain": [
       "                      Year  Engine HP  Engine Cylinders  Number of Doors  \\\n",
       "Year              1.000000   0.351794         -0.041479         0.263787   \n",
       "Engine HP         0.351794   1.000000          0.779988        -0.102713   \n",
       "Engine Cylinders -0.041479   0.779988          1.000000        -0.140088   \n",
       "Number of Doors   0.263787  -0.102713         -0.140088         1.000000   \n",
       "highway MPG       0.258240  -0.406563         -0.621606         0.118570   \n",
       "city mpg          0.198171  -0.439371         -0.600776         0.120881   \n",
       "Popularity        0.073049   0.037501          0.041145        -0.048272   \n",
       "MSRP              0.227590   0.662008          0.531312        -0.126635   \n",
       "\n",
       "                  highway MPG  city mpg  Popularity      MSRP  \n",
       "Year                 0.258240  0.198171    0.073049  0.227590  \n",
       "Engine HP           -0.406563 -0.439371    0.037501  0.662008  \n",
       "Engine Cylinders    -0.621606 -0.600776    0.041145  0.531312  \n",
       "Number of Doors      0.118570  0.120881   -0.048272 -0.126635  \n",
       "highway MPG          1.000000  0.886829   -0.020991 -0.160043  \n",
       "city mpg             0.886829  1.000000   -0.003217 -0.157676  \n",
       "Popularity          -0.020991 -0.003217    1.000000 -0.048476  \n",
       "MSRP                -0.160043 -0.157676   -0.048476  1.000000  "
      ]
     },
     "execution_count": 75,
     "metadata": {},
     "output_type": "execute_result"
    }
   ],
   "source": [
    "df.select_dtypes(include = 'number').corr()"
   ]
  },
  {
   "cell_type": "code",
   "execution_count": 76,
   "id": "9d0dac23-7f00-421f-8141-d5684572f6ff",
   "metadata": {
    "tags": []
   },
   "outputs": [
    {
     "data": {
      "text/plain": [
       "<Axes: >"
      ]
     },
     "execution_count": 76,
     "metadata": {},
     "output_type": "execute_result"
    },
    {
     "data": {
      "image/png": "[encoded data removed]",
      "text/plain": [
       "<Figure size 640x480 with 2 Axes>"
      ]
     },
     "metadata": {},
     "output_type": "display_data"
    }
   ],
   "source": [
    "sns.heatmap(data = df.select_dtypes(include = 'number').corr(),annot = True)"
   ]
  },
  {
   "cell_type": "code",
   "execution_count": 77,
   "id": "8f04dcd8-2ef6-4670-81be-fd786f061cc8",
   "metadata": {
    "tags": []
   },
   "outputs": [],
   "source": [
    "#Data cleaning"
   ]
  },
  {
   "cell_type": "code",
   "execution_count": 81,
   "id": "877e0810-bb73-4741-ad18-3484b994dcde",
   "metadata": {
    "tags": []
   },
   "outputs": [],
   "source": [
    "#Removing the irrelavant columns\n",
    "\n",
    "df = df.drop(['Model'],axis = 1)"
   ]
  },
  {
   "cell_type": "code",
   "execution_count": 82,
   "id": "b58efa8c-dca3-4d48-b826-33c2de22973a",
   "metadata": {
    "tags": []
   },
   "outputs": [
    {
     "data": {
      "text/html": [
       "<div>\n",
       "<style scoped>\n",
       "    .dataframe tbody tr th:only-of-type {\n",
       "        vertical-align: middle;\n",
       "    }\n",
       "\n",
       "    .dataframe tbody tr th {\n",
       "        vertical-align: top;\n",
       "    }\n",
       "\n",
       "    .dataframe thead th {\n",
       "        text-align: right;\n",
       "    }\n",
       "</style>\n",
       "<table border=\"1\" class=\"dataframe\">\n",
       "  <thead>\n",
       "    <tr style=\"text-align: right;\">\n",
       "      <th></th>\n",
       "      <th>Year</th>\n",
       "      <th>Engine Fuel Type</th>\n",
       "      <th>Engine HP</th>\n",
       "      <th>Engine Cylinders</th>\n",
       "      <th>Transmission Type</th>\n",
       "      <th>Driven_Wheels</th>\n",
       "      <th>Number of Doors</th>\n",
       "      <th>Vehicle Size</th>\n",
       "      <th>Vehicle Style</th>\n",
       "      <th>highway MPG</th>\n",
       "      <th>city mpg</th>\n",
       "      <th>Popularity</th>\n",
       "      <th>MSRP</th>\n",
       "    </tr>\n",
       "  </thead>\n",
       "  <tbody>\n",
       "    <tr>\n",
       "      <th>0</th>\n",
       "      <td>2011</td>\n",
       "      <td>premium unleaded (required)</td>\n",
       "      <td>335.0</td>\n",
       "      <td>6.0</td>\n",
       "      <td>MANUAL</td>\n",
       "      <td>rear wheel drive</td>\n",
       "      <td>2.0</td>\n",
       "      <td>Compact</td>\n",
       "      <td>Coupe</td>\n",
       "      <td>26</td>\n",
       "      <td>19</td>\n",
       "      <td>3916</td>\n",
       "      <td>46135</td>\n",
       "    </tr>\n",
       "    <tr>\n",
       "      <th>1</th>\n",
       "      <td>2011</td>\n",
       "      <td>premium unleaded (required)</td>\n",
       "      <td>300.0</td>\n",
       "      <td>6.0</td>\n",
       "      <td>MANUAL</td>\n",
       "      <td>rear wheel drive</td>\n",
       "      <td>2.0</td>\n",
       "      <td>Compact</td>\n",
       "      <td>Convertible</td>\n",
       "      <td>28</td>\n",
       "      <td>19</td>\n",
       "      <td>3916</td>\n",
       "      <td>40650</td>\n",
       "    </tr>\n",
       "    <tr>\n",
       "      <th>2</th>\n",
       "      <td>2011</td>\n",
       "      <td>premium unleaded (required)</td>\n",
       "      <td>300.0</td>\n",
       "      <td>6.0</td>\n",
       "      <td>MANUAL</td>\n",
       "      <td>rear wheel drive</td>\n",
       "      <td>2.0</td>\n",
       "      <td>Compact</td>\n",
       "      <td>Coupe</td>\n",
       "      <td>28</td>\n",
       "      <td>20</td>\n",
       "      <td>3916</td>\n",
       "      <td>36350</td>\n",
       "    </tr>\n",
       "    <tr>\n",
       "      <th>3</th>\n",
       "      <td>2011</td>\n",
       "      <td>premium unleaded (required)</td>\n",
       "      <td>230.0</td>\n",
       "      <td>6.0</td>\n",
       "      <td>MANUAL</td>\n",
       "      <td>rear wheel drive</td>\n",
       "      <td>2.0</td>\n",
       "      <td>Compact</td>\n",
       "      <td>Coupe</td>\n",
       "      <td>28</td>\n",
       "      <td>18</td>\n",
       "      <td>3916</td>\n",
       "      <td>29450</td>\n",
       "    </tr>\n",
       "    <tr>\n",
       "      <th>4</th>\n",
       "      <td>2011</td>\n",
       "      <td>premium unleaded (required)</td>\n",
       "      <td>230.0</td>\n",
       "      <td>6.0</td>\n",
       "      <td>MANUAL</td>\n",
       "      <td>rear wheel drive</td>\n",
       "      <td>2.0</td>\n",
       "      <td>Compact</td>\n",
       "      <td>Convertible</td>\n",
       "      <td>28</td>\n",
       "      <td>18</td>\n",
       "      <td>3916</td>\n",
       "      <td>34500</td>\n",
       "    </tr>\n",
       "  </tbody>\n",
       "</table>\n",
       "</div>"
      ],
      "text/plain": [
       "   Year             Engine Fuel Type  Engine HP  Engine Cylinders  \\\n",
       "0  2011  premium unleaded (required)      335.0               6.0   \n",
       "1  2011  premium unleaded (required)      300.0               6.0   \n",
       "2  2011  premium unleaded (required)      300.0               6.0   \n",
       "3  2011  premium unleaded (required)      230.0               6.0   \n",
       "4  2011  premium unleaded (required)      230.0               6.0   \n",
       "\n",
       "  Transmission Type     Driven_Wheels  Number of Doors Vehicle Size  \\\n",
       "0            MANUAL  rear wheel drive              2.0      Compact   \n",
       "1            MANUAL  rear wheel drive              2.0      Compact   \n",
       "2            MANUAL  rear wheel drive              2.0      Compact   \n",
       "3            MANUAL  rear wheel drive              2.0      Compact   \n",
       "4            MANUAL  rear wheel drive              2.0      Compact   \n",
       "\n",
       "  Vehicle Style  highway MPG  city mpg  Popularity   MSRP  \n",
       "0         Coupe           26        19        3916  46135  \n",
       "1   Convertible           28        19        3916  40650  \n",
       "2         Coupe           28        20        3916  36350  \n",
       "3         Coupe           28        18        3916  29450  \n",
       "4   Convertible           28        18        3916  34500  "
      ]
     },
     "execution_count": 82,
     "metadata": {},
     "output_type": "execute_result"
    }
   ],
   "source": [
    "df.head()"
   ]
  },
  {
   "cell_type": "code",
   "execution_count": 104,
   "id": "0d64c834-5123-47b6-b8df-c269b2c65c36",
   "metadata": {
    "tags": []
   },
   "outputs": [],
   "source": [
    "#Dropping Engine Fuel type too\n",
    "\n",
    "df = df.drop('Engine Fuel Type',axis = 1)"
   ]
  },
  {
   "cell_type": "code",
   "execution_count": 105,
   "id": "25ce8a44-730f-41f8-8d26-0dd480a9441e",
   "metadata": {
    "tags": []
   },
   "outputs": [
    {
     "data": {
      "text/html": [
       "<div>\n",
       "<style scoped>\n",
       "    .dataframe tbody tr th:only-of-type {\n",
       "        vertical-align: middle;\n",
       "    }\n",
       "\n",
       "    .dataframe tbody tr th {\n",
       "        vertical-align: top;\n",
       "    }\n",
       "\n",
       "    .dataframe thead th {\n",
       "        text-align: right;\n",
       "    }\n",
       "</style>\n",
       "<table border=\"1\" class=\"dataframe\">\n",
       "  <thead>\n",
       "    <tr style=\"text-align: right;\">\n",
       "      <th></th>\n",
       "      <th>Year</th>\n",
       "      <th>Engine HP</th>\n",
       "      <th>Engine Cylinders</th>\n",
       "      <th>Transmission Type</th>\n",
       "      <th>Driven_Wheels</th>\n",
       "      <th>Number of Doors</th>\n",
       "      <th>Vehicle Size</th>\n",
       "      <th>Vehicle Style</th>\n",
       "      <th>highway MPG</th>\n",
       "      <th>city mpg</th>\n",
       "      <th>Popularity</th>\n",
       "      <th>MSRP</th>\n",
       "    </tr>\n",
       "  </thead>\n",
       "  <tbody>\n",
       "    <tr>\n",
       "      <th>0</th>\n",
       "      <td>2011</td>\n",
       "      <td>335.0</td>\n",
       "      <td>6.0</td>\n",
       "      <td>MANUAL</td>\n",
       "      <td>rear wheel drive</td>\n",
       "      <td>2.0</td>\n",
       "      <td>Compact</td>\n",
       "      <td>Coupe</td>\n",
       "      <td>26</td>\n",
       "      <td>19</td>\n",
       "      <td>3916</td>\n",
       "      <td>46135</td>\n",
       "    </tr>\n",
       "    <tr>\n",
       "      <th>1</th>\n",
       "      <td>2011</td>\n",
       "      <td>300.0</td>\n",
       "      <td>6.0</td>\n",
       "      <td>MANUAL</td>\n",
       "      <td>rear wheel drive</td>\n",
       "      <td>2.0</td>\n",
       "      <td>Compact</td>\n",
       "      <td>Convertible</td>\n",
       "      <td>28</td>\n",
       "      <td>19</td>\n",
       "      <td>3916</td>\n",
       "      <td>40650</td>\n",
       "    </tr>\n",
       "    <tr>\n",
       "      <th>2</th>\n",
       "      <td>2011</td>\n",
       "      <td>300.0</td>\n",
       "      <td>6.0</td>\n",
       "      <td>MANUAL</td>\n",
       "      <td>rear wheel drive</td>\n",
       "      <td>2.0</td>\n",
       "      <td>Compact</td>\n",
       "      <td>Coupe</td>\n",
       "      <td>28</td>\n",
       "      <td>20</td>\n",
       "      <td>3916</td>\n",
       "      <td>36350</td>\n",
       "    </tr>\n",
       "    <tr>\n",
       "      <th>3</th>\n",
       "      <td>2011</td>\n",
       "      <td>230.0</td>\n",
       "      <td>6.0</td>\n",
       "      <td>MANUAL</td>\n",
       "      <td>rear wheel drive</td>\n",
       "      <td>2.0</td>\n",
       "      <td>Compact</td>\n",
       "      <td>Coupe</td>\n",
       "      <td>28</td>\n",
       "      <td>18</td>\n",
       "      <td>3916</td>\n",
       "      <td>29450</td>\n",
       "    </tr>\n",
       "    <tr>\n",
       "      <th>4</th>\n",
       "      <td>2011</td>\n",
       "      <td>230.0</td>\n",
       "      <td>6.0</td>\n",
       "      <td>MANUAL</td>\n",
       "      <td>rear wheel drive</td>\n",
       "      <td>2.0</td>\n",
       "      <td>Compact</td>\n",
       "      <td>Convertible</td>\n",
       "      <td>28</td>\n",
       "      <td>18</td>\n",
       "      <td>3916</td>\n",
       "      <td>34500</td>\n",
       "    </tr>\n",
       "  </tbody>\n",
       "</table>\n",
       "</div>"
      ],
      "text/plain": [
       "   Year  Engine HP  Engine Cylinders Transmission Type     Driven_Wheels  \\\n",
       "0  2011      335.0               6.0            MANUAL  rear wheel drive   \n",
       "1  2011      300.0               6.0            MANUAL  rear wheel drive   \n",
       "2  2011      300.0               6.0            MANUAL  rear wheel drive   \n",
       "3  2011      230.0               6.0            MANUAL  rear wheel drive   \n",
       "4  2011      230.0               6.0            MANUAL  rear wheel drive   \n",
       "\n",
       "   Number of Doors Vehicle Size Vehicle Style  highway MPG  city mpg  \\\n",
       "0              2.0      Compact         Coupe           26        19   \n",
       "1              2.0      Compact   Convertible           28        19   \n",
       "2              2.0      Compact         Coupe           28        20   \n",
       "3              2.0      Compact         Coupe           28        18   \n",
       "4              2.0      Compact   Convertible           28        18   \n",
       "\n",
       "   Popularity   MSRP  \n",
       "0        3916  46135  \n",
       "1        3916  40650  \n",
       "2        3916  36350  \n",
       "3        3916  29450  \n",
       "4        3916  34500  "
      ]
     },
     "execution_count": 105,
     "metadata": {},
     "output_type": "execute_result"
    }
   ],
   "source": [
    "df.head()"
   ]
  },
  {
   "cell_type": "code",
   "execution_count": 106,
   "id": "b1501fc9-6e3c-47e5-8ce3-47a733368bd9",
   "metadata": {
    "tags": []
   },
   "outputs": [],
   "source": [
    "#Dropping null values\n",
    "\n",
    "df=df.dropna()"
   ]
  },
  {
   "cell_type": "code",
   "execution_count": 107,
   "id": "2e348d5d-a98f-482c-bf3e-346faf829ce7",
   "metadata": {
    "tags": []
   },
   "outputs": [
    {
     "data": {
      "text/plain": [
       "(11815, 12)"
      ]
     },
     "execution_count": 107,
     "metadata": {},
     "output_type": "execute_result"
    }
   ],
   "source": [
    "df.shape"
   ]
  },
  {
   "cell_type": "code",
   "execution_count": 109,
   "id": "7e777346-8378-4524-b843-529c804e828d",
   "metadata": {
    "tags": []
   },
   "outputs": [],
   "source": [
    "#using elapsed years instead of Year\n",
    "\n",
    "df['elapsed_years'] = 2023-df['Year']"
   ]
  },
  {
   "cell_type": "code",
   "execution_count": 111,
   "id": "2ab9fcd7-83a7-4304-aa39-81b1e05cd0e1",
   "metadata": {
    "tags": []
   },
   "outputs": [],
   "source": [
    "df = df.drop('Year',axis = 1)"
   ]
  },
  {
   "cell_type": "code",
   "execution_count": 112,
   "id": "8cb84cf4-919e-47e3-9245-4074945786f5",
   "metadata": {
    "tags": []
   },
   "outputs": [
    {
     "data": {
      "text/html": [
       "<div>\n",
       "<style scoped>\n",
       "    .dataframe tbody tr th:only-of-type {\n",
       "        vertical-align: middle;\n",
       "    }\n",
       "\n",
       "    .dataframe tbody tr th {\n",
       "        vertical-align: top;\n",
       "    }\n",
       "\n",
       "    .dataframe thead th {\n",
       "        text-align: right;\n",
       "    }\n",
       "</style>\n",
       "<table border=\"1\" class=\"dataframe\">\n",
       "  <thead>\n",
       "    <tr style=\"text-align: right;\">\n",
       "      <th></th>\n",
       "      <th>Engine HP</th>\n",
       "      <th>Engine Cylinders</th>\n",
       "      <th>Transmission Type</th>\n",
       "      <th>Driven_Wheels</th>\n",
       "      <th>Number of Doors</th>\n",
       "      <th>Vehicle Size</th>\n",
       "      <th>Vehicle Style</th>\n",
       "      <th>highway MPG</th>\n",
       "      <th>city mpg</th>\n",
       "      <th>Popularity</th>\n",
       "      <th>MSRP</th>\n",
       "      <th>elapsed_years</th>\n",
       "    </tr>\n",
       "  </thead>\n",
       "  <tbody>\n",
       "    <tr>\n",
       "      <th>0</th>\n",
       "      <td>335.0</td>\n",
       "      <td>6.0</td>\n",
       "      <td>MANUAL</td>\n",
       "      <td>rear wheel drive</td>\n",
       "      <td>2.0</td>\n",
       "      <td>Compact</td>\n",
       "      <td>Coupe</td>\n",
       "      <td>26</td>\n",
       "      <td>19</td>\n",
       "      <td>3916</td>\n",
       "      <td>46135</td>\n",
       "      <td>12</td>\n",
       "    </tr>\n",
       "    <tr>\n",
       "      <th>1</th>\n",
       "      <td>300.0</td>\n",
       "      <td>6.0</td>\n",
       "      <td>MANUAL</td>\n",
       "      <td>rear wheel drive</td>\n",
       "      <td>2.0</td>\n",
       "      <td>Compact</td>\n",
       "      <td>Convertible</td>\n",
       "      <td>28</td>\n",
       "      <td>19</td>\n",
       "      <td>3916</td>\n",
       "      <td>40650</td>\n",
       "      <td>12</td>\n",
       "    </tr>\n",
       "    <tr>\n",
       "      <th>2</th>\n",
       "      <td>300.0</td>\n",
       "      <td>6.0</td>\n",
       "      <td>MANUAL</td>\n",
       "      <td>rear wheel drive</td>\n",
       "      <td>2.0</td>\n",
       "      <td>Compact</td>\n",
       "      <td>Coupe</td>\n",
       "      <td>28</td>\n",
       "      <td>20</td>\n",
       "      <td>3916</td>\n",
       "      <td>36350</td>\n",
       "      <td>12</td>\n",
       "    </tr>\n",
       "    <tr>\n",
       "      <th>3</th>\n",
       "      <td>230.0</td>\n",
       "      <td>6.0</td>\n",
       "      <td>MANUAL</td>\n",
       "      <td>rear wheel drive</td>\n",
       "      <td>2.0</td>\n",
       "      <td>Compact</td>\n",
       "      <td>Coupe</td>\n",
       "      <td>28</td>\n",
       "      <td>18</td>\n",
       "      <td>3916</td>\n",
       "      <td>29450</td>\n",
       "      <td>12</td>\n",
       "    </tr>\n",
       "    <tr>\n",
       "      <th>4</th>\n",
       "      <td>230.0</td>\n",
       "      <td>6.0</td>\n",
       "      <td>MANUAL</td>\n",
       "      <td>rear wheel drive</td>\n",
       "      <td>2.0</td>\n",
       "      <td>Compact</td>\n",
       "      <td>Convertible</td>\n",
       "      <td>28</td>\n",
       "      <td>18</td>\n",
       "      <td>3916</td>\n",
       "      <td>34500</td>\n",
       "      <td>12</td>\n",
       "    </tr>\n",
       "  </tbody>\n",
       "</table>\n",
       "</div>"
      ],
      "text/plain": [
       "   Engine HP  Engine Cylinders Transmission Type     Driven_Wheels  \\\n",
       "0      335.0               6.0            MANUAL  rear wheel drive   \n",
       "1      300.0               6.0            MANUAL  rear wheel drive   \n",
       "2      300.0               6.0            MANUAL  rear wheel drive   \n",
       "3      230.0               6.0            MANUAL  rear wheel drive   \n",
       "4      230.0               6.0            MANUAL  rear wheel drive   \n",
       "\n",
       "   Number of Doors Vehicle Size Vehicle Style  highway MPG  city mpg  \\\n",
       "0              2.0      Compact         Coupe           26        19   \n",
       "1              2.0      Compact   Convertible           28        19   \n",
       "2              2.0      Compact         Coupe           28        20   \n",
       "3              2.0      Compact         Coupe           28        18   \n",
       "4              2.0      Compact   Convertible           28        18   \n",
       "\n",
       "   Popularity   MSRP  elapsed_years  \n",
       "0        3916  46135             12  \n",
       "1        3916  40650             12  \n",
       "2        3916  36350             12  \n",
       "3        3916  29450             12  \n",
       "4        3916  34500             12  "
      ]
     },
     "execution_count": 112,
     "metadata": {},
     "output_type": "execute_result"
    }
   ],
   "source": [
    "df.head()"
   ]
  },
  {
   "cell_type": "code",
   "execution_count": 258,
   "id": "bea8d02d-c408-45ab-ac1b-582e772a9e01",
   "metadata": {
    "tags": []
   },
   "outputs": [],
   "source": [
    "df_num = df.select_dtypes(include = 'number')"
   ]
  },
  {
   "cell_type": "code",
   "execution_count": 259,
   "id": "932fc721-7600-45ea-bfaa-4c6714954200",
   "metadata": {
    "tags": []
   },
   "outputs": [],
   "source": [
    "#Outlier filter\n",
    "\n",
    "Q1 = df_num.quantile(0.25)\n",
    "Q3 = df_num.quantile(0.75)\n",
    "\n",
    "IQR = Q3-Q1\n",
    "\n",
    "lower_bound = Q1 - 1.5*IQR\n",
    "upper_bound = Q3 + 1.5*IQR"
   ]
  },
  {
   "cell_type": "code",
   "execution_count": 260,
   "id": "f3805ea8-fd3e-4590-b7a2-b836db113c99",
   "metadata": {
    "tags": []
   },
   "outputs": [
    {
     "data": {
      "text/plain": [
       "Engine HP              2.5\n",
       "Engine Cylinders       1.0\n",
       "Number of Doors        4.0\n",
       "highway MPG           11.0\n",
       "city mpg               5.5\n",
       "Popularity         -1574.0\n",
       "MSRP                -770.0\n",
       "elapsed_years         -3.5\n",
       "dtype: float64"
      ]
     },
     "execution_count": 260,
     "metadata": {},
     "output_type": "execute_result"
    }
   ],
   "source": [
    "lower_bound"
   ]
  },
  {
   "cell_type": "code",
   "execution_count": 261,
   "id": "1e263012-f4fa-4bfc-95e1-bd017612ec49",
   "metadata": {
    "tags": []
   },
   "outputs": [
    {
     "data": {
      "text/plain": [
       "Engine HP             462.5\n",
       "Engine Cylinders        9.0\n",
       "Number of Doors         4.0\n",
       "highway MPG            43.0\n",
       "city mpg               33.5\n",
       "Popularity           3906.0\n",
       "MSRP                63270.0\n",
       "elapsed_years          24.5\n",
       "dtype: float64"
      ]
     },
     "execution_count": 261,
     "metadata": {},
     "output_type": "execute_result"
    }
   ],
   "source": [
    "upper_bound"
   ]
  },
  {
   "cell_type": "code",
   "execution_count": 262,
   "id": "31443d2d-63d1-403c-9ca5-530cc3f53311",
   "metadata": {
    "tags": []
   },
   "outputs": [],
   "source": [
    "df = df[~((df_num < lower_bound) | (df_num > upper_bound)).any(axis=1)]"
   ]
  },
  {
   "cell_type": "code",
   "execution_count": 263,
   "id": "494f83df-316a-4ceb-9f02-7aa2853ec3d2",
   "metadata": {
    "tags": []
   },
   "outputs": [
    {
     "data": {
      "text/plain": [
       "(6284, 12)"
      ]
     },
     "execution_count": 263,
     "metadata": {},
     "output_type": "execute_result"
    }
   ],
   "source": [
    "df.shape"
   ]
  },
  {
   "cell_type": "code",
   "execution_count": 264,
   "id": "196245e8-46d1-465e-8106-1c7c9f6cf7a9",
   "metadata": {
    "tags": []
   },
   "outputs": [
    {
     "data": {
      "text/plain": [
       "Index(['Engine HP', 'Engine Cylinders', 'Number of Doors', 'highway MPG',\n",
       "       'city mpg', 'Popularity', 'MSRP', 'elapsed_years'],\n",
       "      dtype='object')"
      ]
     },
     "execution_count": 264,
     "metadata": {},
     "output_type": "execute_result"
    }
   ],
   "source": [
    "df_num.columns"
   ]
  },
  {
   "cell_type": "code",
   "execution_count": 265,
   "id": "2f226017-ed2f-4e88-bec8-4c359471c4e8",
   "metadata": {
    "tags": []
   },
   "outputs": [
    {
     "name": "stderr",
     "output_type": "stream",
     "text": [
      "C:\\Users\\chall\\anaconda3\\Lib\\site-packages\\seaborn\\_oldcore.py:1498: FutureWarning: is_categorical_dtype is deprecated and will be removed in a future version. Use isinstance(dtype, CategoricalDtype) instead\n",
      "  if pd.api.types.is_categorical_dtype(vector):\n"
     ]
    },
    {
     "data": {
      "text/plain": [
       "<Axes: xlabel='Engine HP'>"
      ]
     },
     "execution_count": 265,
     "metadata": {},
     "output_type": "execute_result"
    },
    {
     "data": {
      "image/png": "[encoded data removed]",
      "text/plain": [
       "<Figure size 640x480 with 1 Axes>"
      ]
     },
     "metadata": {},
     "output_type": "display_data"
    }
   ],
   "source": [
    "sns.boxplot(data = df,x = 'Engine HP')"
   ]
  },
  {
   "cell_type": "code",
   "execution_count": 266,
   "id": "74654a45-e453-4c75-8b86-997e5f715573",
   "metadata": {
    "tags": []
   },
   "outputs": [
    {
     "data": {
      "text/html": [
       "<div>\n",
       "<style scoped>\n",
       "    .dataframe tbody tr th:only-of-type {\n",
       "        vertical-align: middle;\n",
       "    }\n",
       "\n",
       "    .dataframe tbody tr th {\n",
       "        vertical-align: top;\n",
       "    }\n",
       "\n",
       "    .dataframe thead th {\n",
       "        text-align: right;\n",
       "    }\n",
       "</style>\n",
       "<table border=\"1\" class=\"dataframe\">\n",
       "  <thead>\n",
       "    <tr style=\"text-align: right;\">\n",
       "      <th></th>\n",
       "      <th>Engine HP</th>\n",
       "      <th>Engine Cylinders</th>\n",
       "      <th>Transmission Type</th>\n",
       "      <th>Driven_Wheels</th>\n",
       "      <th>Number of Doors</th>\n",
       "      <th>Vehicle Size</th>\n",
       "      <th>Vehicle Style</th>\n",
       "      <th>highway MPG</th>\n",
       "      <th>city mpg</th>\n",
       "      <th>Popularity</th>\n",
       "      <th>MSRP</th>\n",
       "      <th>elapsed_years</th>\n",
       "    </tr>\n",
       "  </thead>\n",
       "  <tbody>\n",
       "    <tr>\n",
       "      <th>64</th>\n",
       "      <td>184.0</td>\n",
       "      <td>4.0</td>\n",
       "      <td>AUTOMATIC</td>\n",
       "      <td>front wheel drive</td>\n",
       "      <td>4.0</td>\n",
       "      <td>Midsize</td>\n",
       "      <td>Sedan</td>\n",
       "      <td>36</td>\n",
       "      <td>23</td>\n",
       "      <td>1013</td>\n",
       "      <td>25170</td>\n",
       "      <td>8</td>\n",
       "    </tr>\n",
       "    <tr>\n",
       "      <th>65</th>\n",
       "      <td>184.0</td>\n",
       "      <td>4.0</td>\n",
       "      <td>AUTOMATIC</td>\n",
       "      <td>front wheel drive</td>\n",
       "      <td>4.0</td>\n",
       "      <td>Midsize</td>\n",
       "      <td>Sedan</td>\n",
       "      <td>36</td>\n",
       "      <td>23</td>\n",
       "      <td>1013</td>\n",
       "      <td>23950</td>\n",
       "      <td>8</td>\n",
       "    </tr>\n",
       "    <tr>\n",
       "      <th>66</th>\n",
       "      <td>295.0</td>\n",
       "      <td>6.0</td>\n",
       "      <td>AUTOMATIC</td>\n",
       "      <td>all wheel drive</td>\n",
       "      <td>4.0</td>\n",
       "      <td>Midsize</td>\n",
       "      <td>Sedan</td>\n",
       "      <td>29</td>\n",
       "      <td>18</td>\n",
       "      <td>1013</td>\n",
       "      <td>29370</td>\n",
       "      <td>8</td>\n",
       "    </tr>\n",
       "    <tr>\n",
       "      <th>67</th>\n",
       "      <td>184.0</td>\n",
       "      <td>4.0</td>\n",
       "      <td>AUTOMATIC</td>\n",
       "      <td>front wheel drive</td>\n",
       "      <td>4.0</td>\n",
       "      <td>Midsize</td>\n",
       "      <td>Sedan</td>\n",
       "      <td>36</td>\n",
       "      <td>23</td>\n",
       "      <td>1013</td>\n",
       "      <td>21995</td>\n",
       "      <td>8</td>\n",
       "    </tr>\n",
       "    <tr>\n",
       "      <th>68</th>\n",
       "      <td>184.0</td>\n",
       "      <td>4.0</td>\n",
       "      <td>AUTOMATIC</td>\n",
       "      <td>front wheel drive</td>\n",
       "      <td>4.0</td>\n",
       "      <td>Midsize</td>\n",
       "      <td>Sedan</td>\n",
       "      <td>36</td>\n",
       "      <td>23</td>\n",
       "      <td>1013</td>\n",
       "      <td>26625</td>\n",
       "      <td>8</td>\n",
       "    </tr>\n",
       "  </tbody>\n",
       "</table>\n",
       "</div>"
      ],
      "text/plain": [
       "    Engine HP  Engine Cylinders Transmission Type      Driven_Wheels  \\\n",
       "64      184.0               4.0         AUTOMATIC  front wheel drive   \n",
       "65      184.0               4.0         AUTOMATIC  front wheel drive   \n",
       "66      295.0               6.0         AUTOMATIC    all wheel drive   \n",
       "67      184.0               4.0         AUTOMATIC  front wheel drive   \n",
       "68      184.0               4.0         AUTOMATIC  front wheel drive   \n",
       "\n",
       "    Number of Doors Vehicle Size Vehicle Style  highway MPG  city mpg  \\\n",
       "64              4.0      Midsize         Sedan           36        23   \n",
       "65              4.0      Midsize         Sedan           36        23   \n",
       "66              4.0      Midsize         Sedan           29        18   \n",
       "67              4.0      Midsize         Sedan           36        23   \n",
       "68              4.0      Midsize         Sedan           36        23   \n",
       "\n",
       "    Popularity   MSRP  elapsed_years  \n",
       "64        1013  25170              8  \n",
       "65        1013  23950              8  \n",
       "66        1013  29370              8  \n",
       "67        1013  21995              8  \n",
       "68        1013  26625              8  "
      ]
     },
     "execution_count": 266,
     "metadata": {},
     "output_type": "execute_result"
    }
   ],
   "source": [
    "df.head()"
   ]
  },
  {
   "cell_type": "code",
   "execution_count": 267,
   "id": "0ef8d208-aa00-4676-a79d-4d90082cb485",
   "metadata": {
    "tags": []
   },
   "outputs": [
    {
     "name": "stderr",
     "output_type": "stream",
     "text": [
      "C:\\Users\\chall\\anaconda3\\Lib\\site-packages\\seaborn\\_oldcore.py:1498: FutureWarning: is_categorical_dtype is deprecated and will be removed in a future version. Use isinstance(dtype, CategoricalDtype) instead\n",
      "  if pd.api.types.is_categorical_dtype(vector):\n"
     ]
    },
    {
     "data": {
      "text/plain": [
       "<Axes: xlabel='Engine HP'>"
      ]
     },
     "execution_count": 267,
     "metadata": {},
     "output_type": "execute_result"
    },
    {
     "data": {
      "image/png": "[encoded data removed]",
      "text/plain": [
       "<Figure size 640x480 with 1 Axes>"
      ]
     },
     "metadata": {},
     "output_type": "display_data"
    }
   ],
   "source": [
    "sns.boxplot(data= df,x = 'Engine HP')"
   ]
  },
  {
   "cell_type": "code",
   "execution_count": 268,
   "id": "2064e35a-5a91-4eb8-a091-50c36a973d85",
   "metadata": {
    "tags": []
   },
   "outputs": [
    {
     "name": "stderr",
     "output_type": "stream",
     "text": [
      "C:\\Users\\chall\\anaconda3\\Lib\\site-packages\\seaborn\\_oldcore.py:1498: FutureWarning: is_categorical_dtype is deprecated and will be removed in a future version. Use isinstance(dtype, CategoricalDtype) instead\n",
      "  if pd.api.types.is_categorical_dtype(vector):\n"
     ]
    },
    {
     "data": {
      "text/plain": [
       "<Axes: xlabel='Engine Cylinders'>"
      ]
     },
     "execution_count": 268,
     "metadata": {},
     "output_type": "execute_result"
    },
    {
     "data": {
      "image/png": "[encoded data removed]",
      "text/plain": [
       "<Figure size 640x480 with 1 Axes>"
      ]
     },
     "metadata": {},
     "output_type": "display_data"
    }
   ],
   "source": [
    "sns.boxplot(data = df,x = 'Engine Cylinders')"
   ]
  },
  {
   "cell_type": "code",
   "execution_count": 269,
   "id": "480f6223-2a78-483c-968e-2b3879f803ec",
   "metadata": {
    "tags": []
   },
   "outputs": [
    {
     "name": "stderr",
     "output_type": "stream",
     "text": [
      "C:\\Users\\chall\\anaconda3\\Lib\\site-packages\\seaborn\\_oldcore.py:1498: FutureWarning: is_categorical_dtype is deprecated and will be removed in a future version. Use isinstance(dtype, CategoricalDtype) instead\n",
      "  if pd.api.types.is_categorical_dtype(vector):\n"
     ]
    },
    {
     "data": {
      "text/plain": [
       "<Axes: xlabel='highway MPG'>"
      ]
     },
     "execution_count": 269,
     "metadata": {},
     "output_type": "execute_result"
    },
    {
     "data": {
      "image/png": "[encoded data removed]",
      "text/plain": [
       "<Figure size 640x480 with 1 Axes>"
      ]
     },
     "metadata": {},
     "output_type": "display_data"
    }
   ],
   "source": [
    "sns.boxplot(data = df,x = 'highway MPG')"
   ]
  },
  {
   "cell_type": "code",
   "execution_count": 270,
   "id": "99cf9d71-1761-49bb-bbd8-86aac210e3dc",
   "metadata": {
    "tags": []
   },
   "outputs": [
    {
     "name": "stderr",
     "output_type": "stream",
     "text": [
      "C:\\Users\\chall\\anaconda3\\Lib\\site-packages\\seaborn\\_oldcore.py:1498: FutureWarning: is_categorical_dtype is deprecated and will be removed in a future version. Use isinstance(dtype, CategoricalDtype) instead\n",
      "  if pd.api.types.is_categorical_dtype(vector):\n"
     ]
    },
    {
     "data": {
      "text/plain": [
       "<Axes: xlabel='city mpg'>"
      ]
     },
     "execution_count": 270,
     "metadata": {},
     "output_type": "execute_result"
    },
    {
     "data": {
      "image/png": "[encoded data removed]",
      "text/plain": [
       "<Figure size 640x480 with 1 Axes>"
      ]
     },
     "metadata": {},
     "output_type": "display_data"
    }
   ],
   "source": [
    "sns.boxplot(data = df,x = 'city mpg')"
   ]
  },
  {
   "cell_type": "code",
   "execution_count": 271,
   "id": "c8913648-4a9c-4f3a-9526-1107d5baa5db",
   "metadata": {
    "tags": []
   },
   "outputs": [
    {
     "name": "stderr",
     "output_type": "stream",
     "text": [
      "C:\\Users\\chall\\anaconda3\\Lib\\site-packages\\seaborn\\_oldcore.py:1498: FutureWarning: is_categorical_dtype is deprecated and will be removed in a future version. Use isinstance(dtype, CategoricalDtype) instead\n",
      "  if pd.api.types.is_categorical_dtype(vector):\n"
     ]
    },
    {
     "data": {
      "text/plain": [
       "<Axes: xlabel='MSRP'>"
      ]
     },
     "execution_count": 271,
     "metadata": {},
     "output_type": "execute_result"
    },
    {
     "data": {
      "image/png": "[encoded data removed]",
      "text/plain": [
       "<Figure size 640x480 with 1 Axes>"
      ]
     },
     "metadata": {},
     "output_type": "display_data"
    }
   ],
   "source": [
    "sns.boxplot(data = df,x = 'MSRP')"
   ]
  },
  {
   "cell_type": "code",
   "execution_count": 272,
   "id": "076393e9-a3cf-4d0e-bfe7-54586bd16cd2",
   "metadata": {
    "tags": []
   },
   "outputs": [],
   "source": [
    "X = df.drop('MSRP',axis  =1)\n",
    "y = df['MSRP']\n",
    "X_num = X.select_dtypes(include = 'number')\n",
    "X_cat = X.select_dtypes(include = 'object')"
   ]
  },
  {
   "cell_type": "code",
   "execution_count": 273,
   "id": "8de2aaa7-4586-40c1-ba04-2012a5eb6544",
   "metadata": {
    "tags": []
   },
   "outputs": [
    {
     "data": {
      "text/html": [
       "<div>\n",
       "<style scoped>\n",
       "    .dataframe tbody tr th:only-of-type {\n",
       "        vertical-align: middle;\n",
       "    }\n",
       "\n",
       "    .dataframe tbody tr th {\n",
       "        vertical-align: top;\n",
       "    }\n",
       "\n",
       "    .dataframe thead th {\n",
       "        text-align: right;\n",
       "    }\n",
       "</style>\n",
       "<table border=\"1\" class=\"dataframe\">\n",
       "  <thead>\n",
       "    <tr style=\"text-align: right;\">\n",
       "      <th></th>\n",
       "      <th>Engine HP</th>\n",
       "      <th>Engine Cylinders</th>\n",
       "      <th>Number of Doors</th>\n",
       "      <th>highway MPG</th>\n",
       "      <th>city mpg</th>\n",
       "      <th>Popularity</th>\n",
       "      <th>elapsed_years</th>\n",
       "    </tr>\n",
       "  </thead>\n",
       "  <tbody>\n",
       "    <tr>\n",
       "      <th>64</th>\n",
       "      <td>184.0</td>\n",
       "      <td>4.0</td>\n",
       "      <td>4.0</td>\n",
       "      <td>36</td>\n",
       "      <td>23</td>\n",
       "      <td>1013</td>\n",
       "      <td>8</td>\n",
       "    </tr>\n",
       "    <tr>\n",
       "      <th>65</th>\n",
       "      <td>184.0</td>\n",
       "      <td>4.0</td>\n",
       "      <td>4.0</td>\n",
       "      <td>36</td>\n",
       "      <td>23</td>\n",
       "      <td>1013</td>\n",
       "      <td>8</td>\n",
       "    </tr>\n",
       "    <tr>\n",
       "      <th>66</th>\n",
       "      <td>295.0</td>\n",
       "      <td>6.0</td>\n",
       "      <td>4.0</td>\n",
       "      <td>29</td>\n",
       "      <td>18</td>\n",
       "      <td>1013</td>\n",
       "      <td>8</td>\n",
       "    </tr>\n",
       "    <tr>\n",
       "      <th>67</th>\n",
       "      <td>184.0</td>\n",
       "      <td>4.0</td>\n",
       "      <td>4.0</td>\n",
       "      <td>36</td>\n",
       "      <td>23</td>\n",
       "      <td>1013</td>\n",
       "      <td>8</td>\n",
       "    </tr>\n",
       "    <tr>\n",
       "      <th>68</th>\n",
       "      <td>184.0</td>\n",
       "      <td>4.0</td>\n",
       "      <td>4.0</td>\n",
       "      <td>36</td>\n",
       "      <td>23</td>\n",
       "      <td>1013</td>\n",
       "      <td>8</td>\n",
       "    </tr>\n",
       "  </tbody>\n",
       "</table>\n",
       "</div>"
      ],
      "text/plain": [
       "    Engine HP  Engine Cylinders  Number of Doors  highway MPG  city mpg  \\\n",
       "64      184.0               4.0              4.0           36        23   \n",
       "65      184.0               4.0              4.0           36        23   \n",
       "66      295.0               6.0              4.0           29        18   \n",
       "67      184.0               4.0              4.0           36        23   \n",
       "68      184.0               4.0              4.0           36        23   \n",
       "\n",
       "    Popularity  elapsed_years  \n",
       "64        1013              8  \n",
       "65        1013              8  \n",
       "66        1013              8  \n",
       "67        1013              8  \n",
       "68        1013              8  "
      ]
     },
     "execution_count": 273,
     "metadata": {},
     "output_type": "execute_result"
    }
   ],
   "source": [
    "X_num.head()"
   ]
  },
  {
   "cell_type": "code",
   "execution_count": 274,
   "id": "b19c68eb-3479-46a1-98eb-cba4dcbdeb42",
   "metadata": {
    "tags": []
   },
   "outputs": [
    {
     "data": {
      "text/html": [
       "<div>\n",
       "<style scoped>\n",
       "    .dataframe tbody tr th:only-of-type {\n",
       "        vertical-align: middle;\n",
       "    }\n",
       "\n",
       "    .dataframe tbody tr th {\n",
       "        vertical-align: top;\n",
       "    }\n",
       "\n",
       "    .dataframe thead th {\n",
       "        text-align: right;\n",
       "    }\n",
       "</style>\n",
       "<table border=\"1\" class=\"dataframe\">\n",
       "  <thead>\n",
       "    <tr style=\"text-align: right;\">\n",
       "      <th></th>\n",
       "      <th>Transmission Type</th>\n",
       "      <th>Driven_Wheels</th>\n",
       "      <th>Vehicle Size</th>\n",
       "      <th>Vehicle Style</th>\n",
       "    </tr>\n",
       "  </thead>\n",
       "  <tbody>\n",
       "    <tr>\n",
       "      <th>64</th>\n",
       "      <td>AUTOMATIC</td>\n",
       "      <td>front wheel drive</td>\n",
       "      <td>Midsize</td>\n",
       "      <td>Sedan</td>\n",
       "    </tr>\n",
       "    <tr>\n",
       "      <th>65</th>\n",
       "      <td>AUTOMATIC</td>\n",
       "      <td>front wheel drive</td>\n",
       "      <td>Midsize</td>\n",
       "      <td>Sedan</td>\n",
       "    </tr>\n",
       "    <tr>\n",
       "      <th>66</th>\n",
       "      <td>AUTOMATIC</td>\n",
       "      <td>all wheel drive</td>\n",
       "      <td>Midsize</td>\n",
       "      <td>Sedan</td>\n",
       "    </tr>\n",
       "    <tr>\n",
       "      <th>67</th>\n",
       "      <td>AUTOMATIC</td>\n",
       "      <td>front wheel drive</td>\n",
       "      <td>Midsize</td>\n",
       "      <td>Sedan</td>\n",
       "    </tr>\n",
       "    <tr>\n",
       "      <th>68</th>\n",
       "      <td>AUTOMATIC</td>\n",
       "      <td>front wheel drive</td>\n",
       "      <td>Midsize</td>\n",
       "      <td>Sedan</td>\n",
       "    </tr>\n",
       "  </tbody>\n",
       "</table>\n",
       "</div>"
      ],
      "text/plain": [
       "   Transmission Type      Driven_Wheels Vehicle Size Vehicle Style\n",
       "64         AUTOMATIC  front wheel drive      Midsize         Sedan\n",
       "65         AUTOMATIC  front wheel drive      Midsize         Sedan\n",
       "66         AUTOMATIC    all wheel drive      Midsize         Sedan\n",
       "67         AUTOMATIC  front wheel drive      Midsize         Sedan\n",
       "68         AUTOMATIC  front wheel drive      Midsize         Sedan"
      ]
     },
     "execution_count": 274,
     "metadata": {},
     "output_type": "execute_result"
    }
   ],
   "source": [
    "X_cat.head()"
   ]
  },
  {
   "cell_type": "code",
   "execution_count": 275,
   "id": "d37ed493-1003-4e49-99a0-ac9d7fd761b4",
   "metadata": {
    "tags": []
   },
   "outputs": [],
   "source": [
    "X_num_scaled = MinMaxScaler().fit_transform(X_num)"
   ]
  },
  {
   "cell_type": "code",
   "execution_count": 276,
   "id": "1b747773-4928-4f84-a281-cdd7a6a6082b",
   "metadata": {
    "tags": []
   },
   "outputs": [],
   "source": [
    "X_num_scaled = pd.DataFrame(X_num_scaled,columns = X_num.columns,index = X_num.index)"
   ]
  },
  {
   "cell_type": "code",
   "execution_count": 277,
   "id": "c0d28a9b-7f54-4e84-939c-2f8fa1a97510",
   "metadata": {
    "tags": []
   },
   "outputs": [
    {
     "data": {
      "text/html": [
       "<div>\n",
       "<style scoped>\n",
       "    .dataframe tbody tr th:only-of-type {\n",
       "        vertical-align: middle;\n",
       "    }\n",
       "\n",
       "    .dataframe tbody tr th {\n",
       "        vertical-align: top;\n",
       "    }\n",
       "\n",
       "    .dataframe thead th {\n",
       "        text-align: right;\n",
       "    }\n",
       "</style>\n",
       "<table border=\"1\" class=\"dataframe\">\n",
       "  <thead>\n",
       "    <tr style=\"text-align: right;\">\n",
       "      <th></th>\n",
       "      <th>Engine HP</th>\n",
       "      <th>Engine Cylinders</th>\n",
       "      <th>Number of Doors</th>\n",
       "      <th>highway MPG</th>\n",
       "      <th>city mpg</th>\n",
       "      <th>Popularity</th>\n",
       "      <th>elapsed_years</th>\n",
       "    </tr>\n",
       "  </thead>\n",
       "  <tbody>\n",
       "    <tr>\n",
       "      <th>64</th>\n",
       "      <td>0.300000</td>\n",
       "      <td>0.0</td>\n",
       "      <td>0.0</td>\n",
       "      <td>0.793103</td>\n",
       "      <td>0.619048</td>\n",
       "      <td>0.32166</td>\n",
       "      <td>0.111111</td>\n",
       "    </tr>\n",
       "    <tr>\n",
       "      <th>65</th>\n",
       "      <td>0.300000</td>\n",
       "      <td>0.0</td>\n",
       "      <td>0.0</td>\n",
       "      <td>0.793103</td>\n",
       "      <td>0.619048</td>\n",
       "      <td>0.32166</td>\n",
       "      <td>0.111111</td>\n",
       "    </tr>\n",
       "    <tr>\n",
       "      <th>66</th>\n",
       "      <td>0.617143</td>\n",
       "      <td>0.5</td>\n",
       "      <td>0.0</td>\n",
       "      <td>0.551724</td>\n",
       "      <td>0.380952</td>\n",
       "      <td>0.32166</td>\n",
       "      <td>0.111111</td>\n",
       "    </tr>\n",
       "    <tr>\n",
       "      <th>67</th>\n",
       "      <td>0.300000</td>\n",
       "      <td>0.0</td>\n",
       "      <td>0.0</td>\n",
       "      <td>0.793103</td>\n",
       "      <td>0.619048</td>\n",
       "      <td>0.32166</td>\n",
       "      <td>0.111111</td>\n",
       "    </tr>\n",
       "    <tr>\n",
       "      <th>68</th>\n",
       "      <td>0.300000</td>\n",
       "      <td>0.0</td>\n",
       "      <td>0.0</td>\n",
       "      <td>0.793103</td>\n",
       "      <td>0.619048</td>\n",
       "      <td>0.32166</td>\n",
       "      <td>0.111111</td>\n",
       "    </tr>\n",
       "  </tbody>\n",
       "</table>\n",
       "</div>"
      ],
      "text/plain": [
       "    Engine HP  Engine Cylinders  Number of Doors  highway MPG  city mpg  \\\n",
       "64   0.300000               0.0              0.0     0.793103  0.619048   \n",
       "65   0.300000               0.0              0.0     0.793103  0.619048   \n",
       "66   0.617143               0.5              0.0     0.551724  0.380952   \n",
       "67   0.300000               0.0              0.0     0.793103  0.619048   \n",
       "68   0.300000               0.0              0.0     0.793103  0.619048   \n",
       "\n",
       "    Popularity  elapsed_years  \n",
       "64     0.32166       0.111111  \n",
       "65     0.32166       0.111111  \n",
       "66     0.32166       0.111111  \n",
       "67     0.32166       0.111111  \n",
       "68     0.32166       0.111111  "
      ]
     },
     "execution_count": 277,
     "metadata": {},
     "output_type": "execute_result"
    }
   ],
   "source": [
    "X_num_scaled.head()"
   ]
  },
  {
   "cell_type": "code",
   "execution_count": 278,
   "id": "1fb835bd-5ab6-4278-95f2-9f011216e2cb",
   "metadata": {
    "tags": []
   },
   "outputs": [],
   "source": [
    "X_cat_encoded = pd.get_dummies(X_cat,drop_first = False,dtype=int)"
   ]
  },
  {
   "cell_type": "code",
   "execution_count": 279,
   "id": "4ad288fc-2f6a-4bf6-b213-a61c57301847",
   "metadata": {
    "tags": []
   },
   "outputs": [
    {
     "data": {
      "text/html": [
       "<div>\n",
       "<style scoped>\n",
       "    .dataframe tbody tr th:only-of-type {\n",
       "        vertical-align: middle;\n",
       "    }\n",
       "\n",
       "    .dataframe tbody tr th {\n",
       "        vertical-align: top;\n",
       "    }\n",
       "\n",
       "    .dataframe thead th {\n",
       "        text-align: right;\n",
       "    }\n",
       "</style>\n",
       "<table border=\"1\" class=\"dataframe\">\n",
       "  <thead>\n",
       "    <tr style=\"text-align: right;\">\n",
       "      <th></th>\n",
       "      <th>Transmission Type_AUTOMATED_MANUAL</th>\n",
       "      <th>Transmission Type_AUTOMATIC</th>\n",
       "      <th>Transmission Type_MANUAL</th>\n",
       "      <th>Driven_Wheels_all wheel drive</th>\n",
       "      <th>Driven_Wheels_four wheel drive</th>\n",
       "      <th>Driven_Wheels_front wheel drive</th>\n",
       "      <th>Driven_Wheels_rear wheel drive</th>\n",
       "      <th>Vehicle Size_Compact</th>\n",
       "      <th>Vehicle Size_Large</th>\n",
       "      <th>Vehicle Size_Midsize</th>\n",
       "      <th>Vehicle Style_4dr Hatchback</th>\n",
       "      <th>Vehicle Style_4dr SUV</th>\n",
       "      <th>Vehicle Style_Cargo Minivan</th>\n",
       "      <th>Vehicle Style_Crew Cab Pickup</th>\n",
       "      <th>Vehicle Style_Extended Cab Pickup</th>\n",
       "      <th>Vehicle Style_Passenger Minivan</th>\n",
       "      <th>Vehicle Style_Sedan</th>\n",
       "      <th>Vehicle Style_Wagon</th>\n",
       "    </tr>\n",
       "  </thead>\n",
       "  <tbody>\n",
       "    <tr>\n",
       "      <th>64</th>\n",
       "      <td>0</td>\n",
       "      <td>1</td>\n",
       "      <td>0</td>\n",
       "      <td>0</td>\n",
       "      <td>0</td>\n",
       "      <td>1</td>\n",
       "      <td>0</td>\n",
       "      <td>0</td>\n",
       "      <td>0</td>\n",
       "      <td>1</td>\n",
       "      <td>0</td>\n",
       "      <td>0</td>\n",
       "      <td>0</td>\n",
       "      <td>0</td>\n",
       "      <td>0</td>\n",
       "      <td>0</td>\n",
       "      <td>1</td>\n",
       "      <td>0</td>\n",
       "    </tr>\n",
       "    <tr>\n",
       "      <th>65</th>\n",
       "      <td>0</td>\n",
       "      <td>1</td>\n",
       "      <td>0</td>\n",
       "      <td>0</td>\n",
       "      <td>0</td>\n",
       "      <td>1</td>\n",
       "      <td>0</td>\n",
       "      <td>0</td>\n",
       "      <td>0</td>\n",
       "      <td>1</td>\n",
       "      <td>0</td>\n",
       "      <td>0</td>\n",
       "      <td>0</td>\n",
       "      <td>0</td>\n",
       "      <td>0</td>\n",
       "      <td>0</td>\n",
       "      <td>1</td>\n",
       "      <td>0</td>\n",
       "    </tr>\n",
       "    <tr>\n",
       "      <th>66</th>\n",
       "      <td>0</td>\n",
       "      <td>1</td>\n",
       "      <td>0</td>\n",
       "      <td>1</td>\n",
       "      <td>0</td>\n",
       "      <td>0</td>\n",
       "      <td>0</td>\n",
       "      <td>0</td>\n",
       "      <td>0</td>\n",
       "      <td>1</td>\n",
       "      <td>0</td>\n",
       "      <td>0</td>\n",
       "      <td>0</td>\n",
       "      <td>0</td>\n",
       "      <td>0</td>\n",
       "      <td>0</td>\n",
       "      <td>1</td>\n",
       "      <td>0</td>\n",
       "    </tr>\n",
       "    <tr>\n",
       "      <th>67</th>\n",
       "      <td>0</td>\n",
       "      <td>1</td>\n",
       "      <td>0</td>\n",
       "      <td>0</td>\n",
       "      <td>0</td>\n",
       "      <td>1</td>\n",
       "      <td>0</td>\n",
       "      <td>0</td>\n",
       "      <td>0</td>\n",
       "      <td>1</td>\n",
       "      <td>0</td>\n",
       "      <td>0</td>\n",
       "      <td>0</td>\n",
       "      <td>0</td>\n",
       "      <td>0</td>\n",
       "      <td>0</td>\n",
       "      <td>1</td>\n",
       "      <td>0</td>\n",
       "    </tr>\n",
       "    <tr>\n",
       "      <th>68</th>\n",
       "      <td>0</td>\n",
       "      <td>1</td>\n",
       "      <td>0</td>\n",
       "      <td>0</td>\n",
       "      <td>0</td>\n",
       "      <td>1</td>\n",
       "      <td>0</td>\n",
       "      <td>0</td>\n",
       "      <td>0</td>\n",
       "      <td>1</td>\n",
       "      <td>0</td>\n",
       "      <td>0</td>\n",
       "      <td>0</td>\n",
       "      <td>0</td>\n",
       "      <td>0</td>\n",
       "      <td>0</td>\n",
       "      <td>1</td>\n",
       "      <td>0</td>\n",
       "    </tr>\n",
       "    <tr>\n",
       "      <th>...</th>\n",
       "      <td>...</td>\n",
       "      <td>...</td>\n",
       "      <td>...</td>\n",
       "      <td>...</td>\n",
       "      <td>...</td>\n",
       "      <td>...</td>\n",
       "      <td>...</td>\n",
       "      <td>...</td>\n",
       "      <td>...</td>\n",
       "      <td>...</td>\n",
       "      <td>...</td>\n",
       "      <td>...</td>\n",
       "      <td>...</td>\n",
       "      <td>...</td>\n",
       "      <td>...</td>\n",
       "      <td>...</td>\n",
       "      <td>...</td>\n",
       "      <td>...</td>\n",
       "    </tr>\n",
       "    <tr>\n",
       "      <th>11909</th>\n",
       "      <td>0</td>\n",
       "      <td>1</td>\n",
       "      <td>0</td>\n",
       "      <td>1</td>\n",
       "      <td>0</td>\n",
       "      <td>0</td>\n",
       "      <td>0</td>\n",
       "      <td>0</td>\n",
       "      <td>0</td>\n",
       "      <td>1</td>\n",
       "      <td>1</td>\n",
       "      <td>0</td>\n",
       "      <td>0</td>\n",
       "      <td>0</td>\n",
       "      <td>0</td>\n",
       "      <td>0</td>\n",
       "      <td>0</td>\n",
       "      <td>0</td>\n",
       "    </tr>\n",
       "    <tr>\n",
       "      <th>11910</th>\n",
       "      <td>0</td>\n",
       "      <td>1</td>\n",
       "      <td>0</td>\n",
       "      <td>1</td>\n",
       "      <td>0</td>\n",
       "      <td>0</td>\n",
       "      <td>0</td>\n",
       "      <td>0</td>\n",
       "      <td>0</td>\n",
       "      <td>1</td>\n",
       "      <td>1</td>\n",
       "      <td>0</td>\n",
       "      <td>0</td>\n",
       "      <td>0</td>\n",
       "      <td>0</td>\n",
       "      <td>0</td>\n",
       "      <td>0</td>\n",
       "      <td>0</td>\n",
       "    </tr>\n",
       "    <tr>\n",
       "      <th>11911</th>\n",
       "      <td>0</td>\n",
       "      <td>1</td>\n",
       "      <td>0</td>\n",
       "      <td>1</td>\n",
       "      <td>0</td>\n",
       "      <td>0</td>\n",
       "      <td>0</td>\n",
       "      <td>0</td>\n",
       "      <td>0</td>\n",
       "      <td>1</td>\n",
       "      <td>1</td>\n",
       "      <td>0</td>\n",
       "      <td>0</td>\n",
       "      <td>0</td>\n",
       "      <td>0</td>\n",
       "      <td>0</td>\n",
       "      <td>0</td>\n",
       "      <td>0</td>\n",
       "    </tr>\n",
       "    <tr>\n",
       "      <th>11912</th>\n",
       "      <td>0</td>\n",
       "      <td>1</td>\n",
       "      <td>0</td>\n",
       "      <td>1</td>\n",
       "      <td>0</td>\n",
       "      <td>0</td>\n",
       "      <td>0</td>\n",
       "      <td>0</td>\n",
       "      <td>0</td>\n",
       "      <td>1</td>\n",
       "      <td>1</td>\n",
       "      <td>0</td>\n",
       "      <td>0</td>\n",
       "      <td>0</td>\n",
       "      <td>0</td>\n",
       "      <td>0</td>\n",
       "      <td>0</td>\n",
       "      <td>0</td>\n",
       "    </tr>\n",
       "    <tr>\n",
       "      <th>11913</th>\n",
       "      <td>0</td>\n",
       "      <td>1</td>\n",
       "      <td>0</td>\n",
       "      <td>0</td>\n",
       "      <td>0</td>\n",
       "      <td>1</td>\n",
       "      <td>0</td>\n",
       "      <td>0</td>\n",
       "      <td>0</td>\n",
       "      <td>1</td>\n",
       "      <td>0</td>\n",
       "      <td>0</td>\n",
       "      <td>0</td>\n",
       "      <td>0</td>\n",
       "      <td>0</td>\n",
       "      <td>0</td>\n",
       "      <td>1</td>\n",
       "      <td>0</td>\n",
       "    </tr>\n",
       "  </tbody>\n",
       "</table>\n",
       "<p>6284 rows × 18 columns</p>\n",
       "</div>"
      ],
      "text/plain": [
       "       Transmission Type_AUTOMATED_MANUAL  Transmission Type_AUTOMATIC  \\\n",
       "64                                      0                            1   \n",
       "65                                      0                            1   \n",
       "66                                      0                            1   \n",
       "67                                      0                            1   \n",
       "68                                      0                            1   \n",
       "...                                   ...                          ...   \n",
       "11909                                   0                            1   \n",
       "11910                                   0                            1   \n",
       "11911                                   0                            1   \n",
       "11912                                   0                            1   \n",
       "11913                                   0                            1   \n",
       "\n",
       "       Transmission Type_MANUAL  Driven_Wheels_all wheel drive  \\\n",
       "64                            0                              0   \n",
       "65                            0                              0   \n",
       "66                            0                              1   \n",
       "67                            0                              0   \n",
       "68                            0                              0   \n",
       "...                         ...                            ...   \n",
       "11909                         0                              1   \n",
       "11910                         0                              1   \n",
       "11911                         0                              1   \n",
       "11912                         0                              1   \n",
       "11913                         0                              0   \n",
       "\n",
       "       Driven_Wheels_four wheel drive  Driven_Wheels_front wheel drive  \\\n",
       "64                                  0                                1   \n",
       "65                                  0                                1   \n",
       "66                                  0                                0   \n",
       "67                                  0                                1   \n",
       "68                                  0                                1   \n",
       "...                               ...                              ...   \n",
       "11909                               0                                0   \n",
       "11910                               0                                0   \n",
       "11911                               0                                0   \n",
       "11912                               0                                0   \n",
       "11913                               0                                1   \n",
       "\n",
       "       Driven_Wheels_rear wheel drive  Vehicle Size_Compact  \\\n",
       "64                                  0                     0   \n",
       "65                                  0                     0   \n",
       "66                                  0                     0   \n",
       "67                                  0                     0   \n",
       "68                                  0                     0   \n",
       "...                               ...                   ...   \n",
       "11909                               0                     0   \n",
       "11910                               0                     0   \n",
       "11911                               0                     0   \n",
       "11912                               0                     0   \n",
       "11913                               0                     0   \n",
       "\n",
       "       Vehicle Size_Large  Vehicle Size_Midsize  Vehicle Style_4dr Hatchback  \\\n",
       "64                      0                     1                            0   \n",
       "65                      0                     1                            0   \n",
       "66                      0                     1                            0   \n",
       "67                      0                     1                            0   \n",
       "68                      0                     1                            0   \n",
       "...                   ...                   ...                          ...   \n",
       "11909                   0                     1                            1   \n",
       "11910                   0                     1                            1   \n",
       "11911                   0                     1                            1   \n",
       "11912                   0                     1                            1   \n",
       "11913                   0                     1                            0   \n",
       "\n",
       "       Vehicle Style_4dr SUV  Vehicle Style_Cargo Minivan  \\\n",
       "64                         0                            0   \n",
       "65                         0                            0   \n",
       "66                         0                            0   \n",
       "67                         0                            0   \n",
       "68                         0                            0   \n",
       "...                      ...                          ...   \n",
       "11909                      0                            0   \n",
       "11910                      0                            0   \n",
       "11911                      0                            0   \n",
       "11912                      0                            0   \n",
       "11913                      0                            0   \n",
       "\n",
       "       Vehicle Style_Crew Cab Pickup  Vehicle Style_Extended Cab Pickup  \\\n",
       "64                                 0                                  0   \n",
       "65                                 0                                  0   \n",
       "66                                 0                                  0   \n",
       "67                                 0                                  0   \n",
       "68                                 0                                  0   \n",
       "...                              ...                                ...   \n",
       "11909                              0                                  0   \n",
       "11910                              0                                  0   \n",
       "11911                              0                                  0   \n",
       "11912                              0                                  0   \n",
       "11913                              0                                  0   \n",
       "\n",
       "       Vehicle Style_Passenger Minivan  Vehicle Style_Sedan  \\\n",
       "64                                   0                    1   \n",
       "65                                   0                    1   \n",
       "66                                   0                    1   \n",
       "67                                   0                    1   \n",
       "68                                   0                    1   \n",
       "...                                ...                  ...   \n",
       "11909                                0                    0   \n",
       "11910                                0                    0   \n",
       "11911                                0                    0   \n",
       "11912                                0                    0   \n",
       "11913                                0                    1   \n",
       "\n",
       "       Vehicle Style_Wagon  \n",
       "64                       0  \n",
       "65                       0  \n",
       "66                       0  \n",
       "67                       0  \n",
       "68                       0  \n",
       "...                    ...  \n",
       "11909                    0  \n",
       "11910                    0  \n",
       "11911                    0  \n",
       "11912                    0  \n",
       "11913                    0  \n",
       "\n",
       "[6284 rows x 18 columns]"
      ]
     },
     "execution_count": 279,
     "metadata": {},
     "output_type": "execute_result"
    }
   ],
   "source": [
    "X_cat_encoded"
   ]
  },
  {
   "cell_type": "code",
   "execution_count": 280,
   "id": "5e1f1fa9-1fbe-4f39-b3db-563fd748f682",
   "metadata": {
    "tags": []
   },
   "outputs": [],
   "source": [
    "X = pd.concat([X_num_scaled,X_cat_encoded],axis=1)"
   ]
  },
  {
   "cell_type": "code",
   "execution_count": 281,
   "id": "b93f789d-2dbf-4f44-bd2a-98d849d24fc1",
   "metadata": {
    "tags": []
   },
   "outputs": [
    {
     "data": {
      "text/plain": [
       "(6284, 25)"
      ]
     },
     "execution_count": 281,
     "metadata": {},
     "output_type": "execute_result"
    }
   ],
   "source": [
    "X.shape"
   ]
  },
  {
   "cell_type": "code",
   "execution_count": 282,
   "id": "4c90f181-440f-4390-83e7-8d59228ae4bf",
   "metadata": {
    "tags": []
   },
   "outputs": [
    {
     "data": {
      "text/html": [
       "<div>\n",
       "<style scoped>\n",
       "    .dataframe tbody tr th:only-of-type {\n",
       "        vertical-align: middle;\n",
       "    }\n",
       "\n",
       "    .dataframe tbody tr th {\n",
       "        vertical-align: top;\n",
       "    }\n",
       "\n",
       "    .dataframe thead th {\n",
       "        text-align: right;\n",
       "    }\n",
       "</style>\n",
       "<table border=\"1\" class=\"dataframe\">\n",
       "  <thead>\n",
       "    <tr style=\"text-align: right;\">\n",
       "      <th></th>\n",
       "      <th>Engine HP</th>\n",
       "      <th>Engine Cylinders</th>\n",
       "      <th>Number of Doors</th>\n",
       "      <th>highway MPG</th>\n",
       "      <th>city mpg</th>\n",
       "      <th>Popularity</th>\n",
       "      <th>elapsed_years</th>\n",
       "      <th>Transmission Type_AUTOMATED_MANUAL</th>\n",
       "      <th>Transmission Type_AUTOMATIC</th>\n",
       "      <th>Transmission Type_MANUAL</th>\n",
       "      <th>...</th>\n",
       "      <th>Vehicle Size_Large</th>\n",
       "      <th>Vehicle Size_Midsize</th>\n",
       "      <th>Vehicle Style_4dr Hatchback</th>\n",
       "      <th>Vehicle Style_4dr SUV</th>\n",
       "      <th>Vehicle Style_Cargo Minivan</th>\n",
       "      <th>Vehicle Style_Crew Cab Pickup</th>\n",
       "      <th>Vehicle Style_Extended Cab Pickup</th>\n",
       "      <th>Vehicle Style_Passenger Minivan</th>\n",
       "      <th>Vehicle Style_Sedan</th>\n",
       "      <th>Vehicle Style_Wagon</th>\n",
       "    </tr>\n",
       "  </thead>\n",
       "  <tbody>\n",
       "    <tr>\n",
       "      <th>64</th>\n",
       "      <td>0.300000</td>\n",
       "      <td>0.0</td>\n",
       "      <td>0.0</td>\n",
       "      <td>0.793103</td>\n",
       "      <td>0.619048</td>\n",
       "      <td>0.32166</td>\n",
       "      <td>0.111111</td>\n",
       "      <td>0</td>\n",
       "      <td>1</td>\n",
       "      <td>0</td>\n",
       "      <td>...</td>\n",
       "      <td>0</td>\n",
       "      <td>1</td>\n",
       "      <td>0</td>\n",
       "      <td>0</td>\n",
       "      <td>0</td>\n",
       "      <td>0</td>\n",
       "      <td>0</td>\n",
       "      <td>0</td>\n",
       "      <td>1</td>\n",
       "      <td>0</td>\n",
       "    </tr>\n",
       "    <tr>\n",
       "      <th>65</th>\n",
       "      <td>0.300000</td>\n",
       "      <td>0.0</td>\n",
       "      <td>0.0</td>\n",
       "      <td>0.793103</td>\n",
       "      <td>0.619048</td>\n",
       "      <td>0.32166</td>\n",
       "      <td>0.111111</td>\n",
       "      <td>0</td>\n",
       "      <td>1</td>\n",
       "      <td>0</td>\n",
       "      <td>...</td>\n",
       "      <td>0</td>\n",
       "      <td>1</td>\n",
       "      <td>0</td>\n",
       "      <td>0</td>\n",
       "      <td>0</td>\n",
       "      <td>0</td>\n",
       "      <td>0</td>\n",
       "      <td>0</td>\n",
       "      <td>1</td>\n",
       "      <td>0</td>\n",
       "    </tr>\n",
       "    <tr>\n",
       "      <th>66</th>\n",
       "      <td>0.617143</td>\n",
       "      <td>0.5</td>\n",
       "      <td>0.0</td>\n",
       "      <td>0.551724</td>\n",
       "      <td>0.380952</td>\n",
       "      <td>0.32166</td>\n",
       "      <td>0.111111</td>\n",
       "      <td>0</td>\n",
       "      <td>1</td>\n",
       "      <td>0</td>\n",
       "      <td>...</td>\n",
       "      <td>0</td>\n",
       "      <td>1</td>\n",
       "      <td>0</td>\n",
       "      <td>0</td>\n",
       "      <td>0</td>\n",
       "      <td>0</td>\n",
       "      <td>0</td>\n",
       "      <td>0</td>\n",
       "      <td>1</td>\n",
       "      <td>0</td>\n",
       "    </tr>\n",
       "    <tr>\n",
       "      <th>67</th>\n",
       "      <td>0.300000</td>\n",
       "      <td>0.0</td>\n",
       "      <td>0.0</td>\n",
       "      <td>0.793103</td>\n",
       "      <td>0.619048</td>\n",
       "      <td>0.32166</td>\n",
       "      <td>0.111111</td>\n",
       "      <td>0</td>\n",
       "      <td>1</td>\n",
       "      <td>0</td>\n",
       "      <td>...</td>\n",
       "      <td>0</td>\n",
       "      <td>1</td>\n",
       "      <td>0</td>\n",
       "      <td>0</td>\n",
       "      <td>0</td>\n",
       "      <td>0</td>\n",
       "      <td>0</td>\n",
       "      <td>0</td>\n",
       "      <td>1</td>\n",
       "      <td>0</td>\n",
       "    </tr>\n",
       "    <tr>\n",
       "      <th>68</th>\n",
       "      <td>0.300000</td>\n",
       "      <td>0.0</td>\n",
       "      <td>0.0</td>\n",
       "      <td>0.793103</td>\n",
       "      <td>0.619048</td>\n",
       "      <td>0.32166</td>\n",
       "      <td>0.111111</td>\n",
       "      <td>0</td>\n",
       "      <td>1</td>\n",
       "      <td>0</td>\n",
       "      <td>...</td>\n",
       "      <td>0</td>\n",
       "      <td>1</td>\n",
       "      <td>0</td>\n",
       "      <td>0</td>\n",
       "      <td>0</td>\n",
       "      <td>0</td>\n",
       "      <td>0</td>\n",
       "      <td>0</td>\n",
       "      <td>1</td>\n",
       "      <td>0</td>\n",
       "    </tr>\n",
       "  </tbody>\n",
       "</table>\n",
       "<p>5 rows × 25 columns</p>\n",
       "</div>"
      ],
      "text/plain": [
       "    Engine HP  Engine Cylinders  Number of Doors  highway MPG  city mpg  \\\n",
       "64   0.300000               0.0              0.0     0.793103  0.619048   \n",
       "65   0.300000               0.0              0.0     0.793103  0.619048   \n",
       "66   0.617143               0.5              0.0     0.551724  0.380952   \n",
       "67   0.300000               0.0              0.0     0.793103  0.619048   \n",
       "68   0.300000               0.0              0.0     0.793103  0.619048   \n",
       "\n",
       "    Popularity  elapsed_years  Transmission Type_AUTOMATED_MANUAL  \\\n",
       "64     0.32166       0.111111                                   0   \n",
       "65     0.32166       0.111111                                   0   \n",
       "66     0.32166       0.111111                                   0   \n",
       "67     0.32166       0.111111                                   0   \n",
       "68     0.32166       0.111111                                   0   \n",
       "\n",
       "    Transmission Type_AUTOMATIC  Transmission Type_MANUAL  ...  \\\n",
       "64                            1                         0  ...   \n",
       "65                            1                         0  ...   \n",
       "66                            1                         0  ...   \n",
       "67                            1                         0  ...   \n",
       "68                            1                         0  ...   \n",
       "\n",
       "    Vehicle Size_Large  Vehicle Size_Midsize  Vehicle Style_4dr Hatchback  \\\n",
       "64                   0                     1                            0   \n",
       "65                   0                     1                            0   \n",
       "66                   0                     1                            0   \n",
       "67                   0                     1                            0   \n",
       "68                   0                     1                            0   \n",
       "\n",
       "    Vehicle Style_4dr SUV  Vehicle Style_Cargo Minivan  \\\n",
       "64                      0                            0   \n",
       "65                      0                            0   \n",
       "66                      0                            0   \n",
       "67                      0                            0   \n",
       "68                      0                            0   \n",
       "\n",
       "    Vehicle Style_Crew Cab Pickup  Vehicle Style_Extended Cab Pickup  \\\n",
       "64                              0                                  0   \n",
       "65                              0                                  0   \n",
       "66                              0                                  0   \n",
       "67                              0                                  0   \n",
       "68                              0                                  0   \n",
       "\n",
       "    Vehicle Style_Passenger Minivan  Vehicle Style_Sedan  Vehicle Style_Wagon  \n",
       "64                                0                    1                    0  \n",
       "65                                0                    1                    0  \n",
       "66                                0                    1                    0  \n",
       "67                                0                    1                    0  \n",
       "68                                0                    1                    0  \n",
       "\n",
       "[5 rows x 25 columns]"
      ]
     },
     "execution_count": 282,
     "metadata": {},
     "output_type": "execute_result"
    }
   ],
   "source": [
    "X.head()"
   ]
  },
  {
   "cell_type": "code",
   "execution_count": 283,
   "id": "b9010fc9-4cf1-44bd-8cb9-1fe435eee014",
   "metadata": {
    "tags": []
   },
   "outputs": [
    {
     "data": {
      "text/plain": [
       "(6284,)"
      ]
     },
     "execution_count": 283,
     "metadata": {},
     "output_type": "execute_result"
    }
   ],
   "source": [
    "y.shape"
   ]
  },
  {
   "cell_type": "code",
   "execution_count": 284,
   "id": "c75068be-476b-4cd8-88f5-88cf5c2dc2e6",
   "metadata": {
    "tags": []
   },
   "outputs": [],
   "source": [
    "X_train,X_test,y_train,y_test = train_test_split(X,y,test_size = 0.2,random_state = 42)"
   ]
  },
  {
   "cell_type": "code",
   "execution_count": 285,
   "id": "0452d3f6-409d-44b5-a835-bfc9c2ddd142",
   "metadata": {
    "tags": []
   },
   "outputs": [],
   "source": [
    "#knn implementation\n",
    "\n",
    "k_values = np.arange(1,21,2)\n",
    "train_mape_values = []\n",
    "test_mape_values = []\n",
    "cv_mape_values = []"
   ]
  },
  {
   "cell_type": "code",
   "execution_count": 286,
   "id": "a651f954-4e7f-4dff-8282-42c5d5ac18e6",
   "metadata": {
    "tags": []
   },
   "outputs": [
    {
     "data": {
      "text/plain": [
       "array([ 1,  3,  5,  7,  9, 11, 13, 15, 17, 19])"
      ]
     },
     "execution_count": 286,
     "metadata": {},
     "output_type": "execute_result"
    }
   ],
   "source": [
    "k_values"
   ]
  },
  {
   "cell_type": "code",
   "execution_count": null,
   "id": "1b1f395f-8f73-44c3-a8a8-96ad4a14ef9f",
   "metadata": {
    "tags": []
   },
   "outputs": [],
   "source": []
  },
  {
   "cell_type": "code",
   "execution_count": 287,
   "id": "47df3456-0ba8-4ec7-9aa2-c91b32d815cf",
   "metadata": {
    "tags": []
   },
   "outputs": [],
   "source": [
    "for i in k_values:\n",
    "    #Training the dataset on the X_train and y_train\n",
    "    model = KNeighborsRegressor(n_neighbors = i)\n",
    "    model.fit(X_train,y_train)\n",
    "    \n",
    "    #Predicting the y_train and cal the error\n",
    "    pred_train = model.predict(X_train)\n",
    "    error_train = mean_absolute_percentage_error(y_train,pred_train)\n",
    "    train_mape_values.append(error_train)\n",
    "    \n",
    "    #Predicting the y_test values using the X_test and cal the error\n",
    "    pred_test = model.predict(X_test)\n",
    "    error_test = mean_absolute_percentage_error(y_test,pred_test)\n",
    "    test_mape_values.append(error_test)\n",
    "    \n",
    "    #using CV calues\n",
    "    cv_scores = -cross_val_score(model,X,y,cv = 5,scoring = 'neg_mean_absolute_percentage_error')\n",
    "    cv_mape = np.mean(cv_scores)\n",
    "    cv_mape_values.append(cv_mape)"
   ]
  },
  {
   "cell_type": "code",
   "execution_count": 288,
   "id": "9766b03d-dd7e-41c2-8a95-18817af00bc4",
   "metadata": {
    "tags": []
   },
   "outputs": [
    {
     "data": {
      "text/plain": [
       "[0.05146053574135138,\n",
       " 0.09123979852200155,\n",
       " 0.13054665502043328,\n",
       " 0.15666020041933296,\n",
       " 0.179747787866736,\n",
       " 0.19722592564198346,\n",
       " 0.21082360484065563,\n",
       " 0.22263657670170692,\n",
       " 0.23120850695255246,\n",
       " 0.23754693399728757]"
      ]
     },
     "execution_count": 288,
     "metadata": {},
     "output_type": "execute_result"
    }
   ],
   "source": [
    "train_mape_values"
   ]
  },
  {
   "cell_type": "code",
   "execution_count": 289,
   "id": "a3a1917c-0200-4a13-b542-0cdcd753c07c",
   "metadata": {
    "tags": []
   },
   "outputs": [
    {
     "data": {
      "text/plain": [
       "[0.13321158771036753,\n",
       " 0.1433343888549213,\n",
       " 0.16463200828262822,\n",
       " 0.1843748739087154,\n",
       " 0.20022417206384824,\n",
       " 0.21249061153555945,\n",
       " 0.22109832297589105,\n",
       " 0.2277788680073276,\n",
       " 0.23212815442576137,\n",
       " 0.2387278125125696]"
      ]
     },
     "execution_count": 289,
     "metadata": {},
     "output_type": "execute_result"
    }
   ],
   "source": [
    "test_mape_values"
   ]
  },
  {
   "cell_type": "code",
   "execution_count": 290,
   "id": "ead20dfa-8527-49a0-9322-e94f2fa8bba6",
   "metadata": {
    "tags": []
   },
   "outputs": [
    {
     "data": {
      "text/plain": [
       "[0.30062018287226355,\n",
       " 0.31219286328080165,\n",
       " 0.31001741471808975,\n",
       " 0.3130965326842688,\n",
       " 0.31374076045281,\n",
       " 0.31504081575633097,\n",
       " 0.3170119424534653,\n",
       " 0.31823943961621054,\n",
       " 0.318885219754387,\n",
       " 0.3200661665911667]"
      ]
     },
     "execution_count": 290,
     "metadata": {},
     "output_type": "execute_result"
    }
   ],
   "source": [
    "cv_mape_values"
   ]
  },
  {
   "cell_type": "code",
   "execution_count": 291,
   "id": "a22cdb6d-c43a-48f6-8226-6c6d0598b9bd",
   "metadata": {
    "tags": []
   },
   "outputs": [
    {
     "name": "stderr",
     "output_type": "stream",
     "text": [
      "C:\\Users\\chall\\anaconda3\\Lib\\site-packages\\seaborn\\_oldcore.py:1498: FutureWarning: is_categorical_dtype is deprecated and will be removed in a future version. Use isinstance(dtype, CategoricalDtype) instead\n",
      "  if pd.api.types.is_categorical_dtype(vector):\n",
      "C:\\Users\\chall\\anaconda3\\Lib\\site-packages\\seaborn\\_oldcore.py:1498: FutureWarning: is_categorical_dtype is deprecated and will be removed in a future version. Use isinstance(dtype, CategoricalDtype) instead\n",
      "  if pd.api.types.is_categorical_dtype(vector):\n",
      "C:\\Users\\chall\\anaconda3\\Lib\\site-packages\\seaborn\\_oldcore.py:1119: FutureWarning: use_inf_as_na option is deprecated and will be removed in a future version. Convert inf values to NaN before operating instead.\n",
      "  with pd.option_context('mode.use_inf_as_na', True):\n",
      "C:\\Users\\chall\\anaconda3\\Lib\\site-packages\\seaborn\\_oldcore.py:1119: FutureWarning: use_inf_as_na option is deprecated and will be removed in a future version. Convert inf values to NaN before operating instead.\n",
      "  with pd.option_context('mode.use_inf_as_na', True):\n",
      "C:\\Users\\chall\\anaconda3\\Lib\\site-packages\\seaborn\\_oldcore.py:1498: FutureWarning: is_categorical_dtype is deprecated and will be removed in a future version. Use isinstance(dtype, CategoricalDtype) instead\n",
      "  if pd.api.types.is_categorical_dtype(vector):\n",
      "C:\\Users\\chall\\anaconda3\\Lib\\site-packages\\seaborn\\_oldcore.py:1498: FutureWarning: is_categorical_dtype is deprecated and will be removed in a future version. Use isinstance(dtype, CategoricalDtype) instead\n",
      "  if pd.api.types.is_categorical_dtype(vector):\n",
      "C:\\Users\\chall\\anaconda3\\Lib\\site-packages\\seaborn\\_oldcore.py:1119: FutureWarning: use_inf_as_na option is deprecated and will be removed in a future version. Convert inf values to NaN before operating instead.\n",
      "  with pd.option_context('mode.use_inf_as_na', True):\n",
      "C:\\Users\\chall\\anaconda3\\Lib\\site-packages\\seaborn\\_oldcore.py:1119: FutureWarning: use_inf_as_na option is deprecated and will be removed in a future version. Convert inf values to NaN before operating instead.\n",
      "  with pd.option_context('mode.use_inf_as_na', True):\n",
      "C:\\Users\\chall\\anaconda3\\Lib\\site-packages\\seaborn\\_oldcore.py:1498: FutureWarning: is_categorical_dtype is deprecated and will be removed in a future version. Use isinstance(dtype, CategoricalDtype) instead\n",
      "  if pd.api.types.is_categorical_dtype(vector):\n",
      "C:\\Users\\chall\\anaconda3\\Lib\\site-packages\\seaborn\\_oldcore.py:1498: FutureWarning: is_categorical_dtype is deprecated and will be removed in a future version. Use isinstance(dtype, CategoricalDtype) instead\n",
      "  if pd.api.types.is_categorical_dtype(vector):\n",
      "C:\\Users\\chall\\anaconda3\\Lib\\site-packages\\seaborn\\_oldcore.py:1119: FutureWarning: use_inf_as_na option is deprecated and will be removed in a future version. Convert inf values to NaN before operating instead.\n",
      "  with pd.option_context('mode.use_inf_as_na', True):\n",
      "C:\\Users\\chall\\anaconda3\\Lib\\site-packages\\seaborn\\_oldcore.py:1119: FutureWarning: use_inf_as_na option is deprecated and will be removed in a future version. Convert inf values to NaN before operating instead.\n",
      "  with pd.option_context('mode.use_inf_as_na', True):\n"
     ]
    },
    {
     "data": {
      "image/png": "[encoded data removed]",
      "text/plain": [
       "<Figure size 640x480 with 1 Axes>"
      ]
     },
     "metadata": {},
     "output_type": "display_data"
    },
    {
     "name": "stdout",
     "output_type": "stream",
     "text": [
      "The best k_value:  1\n"
     ]
    }
   ],
   "source": [
    "sns.lineplot(x = k_values,y = train_mape_values,marker = 'o',color = 'Red',label = 'train_mape_values')\n",
    "sns.lineplot(x = k_values,y = test_mape_values,marker = 'o',color = 'blue',label = 'test_mape_values')\n",
    "sns.lineplot(x=k_values,y = cv_mape_values,marker = 'o',color = 'orange',label = 'cv_mape_values')\n",
    "plt.xlabel('K value')\n",
    "plt.ylabel('MAPE Score')\n",
    "plt.title('MAPE Scores for different K values in KNN Regressor')\n",
    "plt.legend()\n",
    "plt.show()\n",
    "\n",
    "#best_cv_value_is\n",
    "best_k_cv = k_values[np.argmin(cv_mape_values)]\n",
    "print(\"The best k_value: \",best_k_cv)"
   ]
  },
  {
   "cell_type": "code",
   "execution_count": null,
   "id": "4b312409-67c6-4e88-a888-a75fc66aa72e",
   "metadata": {},
   "outputs": [],
   "source": []
  },
  {
   "cell_type": "code",
   "execution_count": null,
   "id": "f570502c-02e6-4316-a36b-a54f4d0a76a7",
   "metadata": {},
   "outputs": [],
   "source": [
    "\n"
   ]
  }
 ],
 "metadata": {
  "kernelspec": {
   "display_name": "Python 3 (ipykernel)",
   "language": "python",
   "name": "python3"
  },
  "language_info": {
   "codemirror_mode": {
    "name": "ipython",
    "version": 3
   },
   "file_extension": ".py",
   "mimetype": "text/x-python",
   "name": "python",
   "nbconvert_exporter": "python",
   "pygments_lexer": "ipython3",
   "version": "3.11.3"
  }
 },
 "nbformat": 4,
 "nbformat_minor": 5
}
